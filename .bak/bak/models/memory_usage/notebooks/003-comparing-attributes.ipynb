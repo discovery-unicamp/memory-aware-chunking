{
 "cells": [
  {
   "cell_type": "markdown",
   "metadata": {},
   "source": [
    "# Comparing Attributes\n",
    "\n",
    "In this notebook we are going to compare some attributes to check if our model is generic"
   ]
  },
  {
   "cell_type": "markdown",
   "metadata": {},
   "source": [
    "## Bootstraping"
   ]
  },
  {
   "cell_type": "code",
   "execution_count": 9,
   "metadata": {},
   "outputs": [],
   "source": [
    "import json\n",
    "import os\n",
    "import sys\n",
    "import warnings\n",
    "\n",
    "import dowser\n",
    "import numpy as np\n",
    "import pandas as pd\n",
    "from dasf_seismic.datasets import F3\n",
    "from sklearn.linear_model import LinearRegression\n",
    "from sklearn.metrics import r2_score\n",
    "from sklearn.model_selection import cross_val_score, train_test_split\n",
    "\n",
    "warnings.filterwarnings(\"ignore\", category=FutureWarning)\n",
    "\n",
    "notebook_path = os.getcwd()\n",
    "model_path = os.path.dirname(notebook_path)\n",
    "memory_usage_path = os.path.join(model_path, 'memory_usage')\n",
    "if memory_usage_path not in sys.path:\n",
    "    sys.path.append(memory_usage_path)\n",
    "\n",
    "\n",
    "def load_session(session_id):\n",
    "    return json.load(open(f\"../output/{session_id}/collected_data.json\"))\n",
    "\n",
    "\n",
    "def extract_features(df):\n",
    "    # Interaction\n",
    "    #df[\"inline_crossline\"] = df[\"inlines\"] * df[\"crosslines\"]\n",
    "    #df[\"inline_sample\"] = df[\"inlines\"] * df[\"samples\"]\n",
    "    #df[\"crossline_sample\"] = df[\"crosslines\"] * df[\"samples\"]\n",
    "    df[\"volume\"] = df[\"inlines\"] * df[\"crosslines\"] * df[\"samples\"]\n",
    "\n",
    "    # Logarithmic and Exponential Transformations\n",
    "    #df['log_inlines'] = np.log1p(df['inlines'])\n",
    "    #df['log_crosslines'] = np.log1p(df['crosslines'])\n",
    "    #df['log_samples'] = np.log1p(df['samples'])\n",
    "\n",
    "    # Ratios\n",
    "    #df['inline_to_crossline'] = df['inlines'] / (df['crosslines'] + 1)\n",
    "    #df['inline_to_sample'] = df['inlines'] / (df['samples'] + 1)\n",
    "    #df['crossline_to_sample'] = df['crosslines'] / (df['samples'] + 1)\n",
    "\n",
    "    # Statistical Aggregates\n",
    "    #df['mean_inline_crossline'] = df[['inlines', 'crosslines']].mean(axis=1)\n",
    "    #df['std_inline_crossline'] = df[['inlines', 'crosslines']].std(axis=1)\n",
    "\n",
    "    return df\n",
    "\n",
    "\n",
    "def load_data(session_id):\n",
    "    collected_data = load_session(session_id)\n",
    "    df = pd.DataFrame(collected_data['peaks'].items(), columns=['keys', 'memory_usage_kb'])\n",
    "    df[['inlines', 'crosslines', 'samples']] = df['keys'].str.split('-', expand=True)\n",
    "    df = df.drop(columns=['keys'])\n",
    "    df = df.apply(pd.to_numeric)\n",
    "    df = extract_features(df)\n",
    "\n",
    "    return df\n",
    "\n",
    "\n",
    "def calculate_accuracy(y_true, y_pred, tolerance=0.1):\n",
    "    return np.mean(np.abs((y_true - y_pred) / y_true) <= tolerance)\n",
    "\n",
    "\n",
    "def evaluate_model(model, X_train, y_train, cv):\n",
    "    model.fit(X_train, y_train)\n",
    "    scores = cross_val_score(model, X_train, y_train, cv=cv, scoring='neg_mean_squared_error')\n",
    "    rmse_scores = np.sqrt(-scores)\n",
    "    return rmse_scores.mean()\n",
    "\n",
    "\n",
    "def train_model(df, cv=5, augmentation=3):\n",
    "    df_augmented = pd.concat([df] * augmentation, ignore_index=True)\n",
    "    X = df_augmented.drop(columns=[\"memory_usage_kb\"])\n",
    "    y = df_augmented[\"memory_usage_kb\"]\n",
    "\n",
    "    random_state = None  # 42\n",
    "    test_size = 0.1\n",
    "    X_train, X_test, y_train, y_test = train_test_split(X, y, test_size=test_size, random_state=random_state)\n",
    "\n",
    "    lin_reg = LinearRegression()\n",
    "    lin_reg_rmse = evaluate_model(lin_reg, X_train, y_train, cv=cv)\n",
    "\n",
    "    print(f\"RMSE: {lin_reg_rmse}\")\n",
    "\n",
    "    y_pred = lin_reg.predict(X_test)\n",
    "\n",
    "    lin_reg_acc = calculate_accuracy(y_test, y_pred)\n",
    "    print(f\"Accuracy: {lin_reg_acc * 100:.2f}%\")\n",
    "\n",
    "    lin_reg_r2 = r2_score(y_test, y_pred)\n",
    "    print(f\"R2 Score: {lin_reg_r2}\")\n",
    "\n",
    "    return lin_reg\n",
    "\n",
    "\n",
    "def get_peak_from_profile(profile) -> float:\n",
    "    return max(profile[\"experiment\"], key=lambda x: x[\"kernel_memory_usage\"])[\n",
    "        \"kernel_memory_usage\"\n",
    "    ]\n",
    "\n",
    "\n",
    "def validate_model(model, attribute, session_id, dataset_path=F3()._root_file, dataset_shape=F3().shape):\n",
    "    target_df = pd.DataFrame([dataset_shape], columns=['inlines', 'crosslines', 'samples'])\n",
    "    target_df = extract_features(target_df)\n",
    "    expected_memory_usage = model.predict(target_df)[0]\n",
    "\n",
    "    print(f\"The expected memory usage is {expected_memory_usage:.2f} KB for the target shape {dataset_shape}\")\n",
    "\n",
    "    output_dir = f\"../output/{session_id}/validation\"\n",
    "\n",
    "    dowser.load_config(\n",
    "        {\n",
    "            \"output_dir\": output_dir,\n",
    "            \"\"\n",
    "            \"profiler\": {\n",
    "                \"session_id\": session_id,\n",
    "                \"precision\": 1,\n",
    "            },\n",
    "        }\n",
    "    )\n",
    "\n",
    "    dowser.profile(attribute, dataset_path)\n",
    "\n",
    "    validation_profile = dowser.profiler.load_profile(f\"{output_dir}/{session_id}.prof\")\n",
    "    validation_peak_memory_usage = get_peak_from_profile(validation_profile)\n",
    "\n",
    "    print(f\"The actual peak memory usage of the validation dataset is {validation_peak_memory_usage} KB\")\n",
    "\n",
    "    validation_difference = abs(validation_peak_memory_usage - expected_memory_usage)\n",
    "    validation_difference_in_mb = validation_difference / 1024\n",
    "    validation_difference_in_pct = (validation_difference / expected_memory_usage) * 100\n",
    "\n",
    "    print(f\"The difference between the expected and actual peak memory usage is {validation_difference_in_mb:.2f} MB\")\n",
    "    print(f\"This is a {validation_difference_in_pct:.2f}% difference\")\n",
    "\n",
    "\n",
    "def train_and_validate_session(session_id, attribute):\n",
    "    df_session = load_data(session_id)\n",
    "    model_session = train_model(df_session)\n",
    "    validate_model(model_session, attribute, session_id)\n",
    "\n",
    "    return model_session"
   ]
  },
  {
   "cell_type": "markdown",
   "metadata": {},
   "source": [
    "## Envelope"
   ]
  },
  {
   "cell_type": "code",
   "execution_count": 12,
   "metadata": {},
   "outputs": [
    {
     "name": "stdout",
     "output_type": "stream",
     "text": [
      "RMSE: 28763.757245178225\n",
      "Accuracy: 100.00%\n",
      "R2 Score: 0.02230812777393465\n",
      "The expected memory usage is 8276342.76 KB for the target shape (651, 951, 462)\n",
      "\u001B[32m2024-06-14 16:07:47.610\u001B[0m | \u001B[1mINFO    \u001B[0m | \u001B[36mdowser.profiler.main\u001B[0m:\u001B[36mrun_profiler\u001B[0m:\u001B[36m15\u001B[0m - \u001B[1mStarting profiler\u001B[0m\n",
      "\u001B[32m2024-06-14 16:07:47.610\u001B[0m | \u001B[1mINFO    \u001B[0m | \u001B[36mdowser.profiler.metrics.memory_usage.builders\u001B[0m:\u001B[36mbuild_trace_hooks\u001B[0m:\u001B[36m12\u001B[0m - \u001B[1mEnabled memory usage backends: \"[<MemoryUsageBackend.KERNEL: 'KERNEL'>]\"\u001B[0m\n",
      "\u001B[32m2024-06-14 16:07:47.611\u001B[0m | \u001B[33m\u001B[1mWARNING \u001B[0m | \u001B[36mdowser.profiler.metrics.memory_usage.builders\u001B[0m:\u001B[36mbuild_trace_hooks\u001B[0m:\u001B[36m37\u001B[0m - \u001B[33m\u001B[1mBackend \"kernel\" does not have \"after\" function\u001B[0m\n",
      "\u001B[32m2024-06-14 16:07:47.628\u001B[0m | \u001B[1mINFO    \u001B[0m | \u001B[36mdowser.profiler.main\u001B[0m:\u001B[36mrun_profiler\u001B[0m:\u001B[36m46\u001B[0m - \u001B[1mStarting profiler execution for \"/home/delucca/src/msc/seismic-attributes-memory-profile/tools/seismic/seismic/attributes/envelope.py\"\u001B[0m\n",
      "\u001B[32m2024-06-14 16:07:47.641\u001B[0m | \u001B[1mINFO    \u001B[0m | \u001B[36mdowser.profiler.handlers\u001B[0m:\u001B[36mexecute_file\u001B[0m:\u001B[36m19\u001B[0m - \u001B[1mStarting new profiler session for file \"/home/delucca/src/msc/seismic-attributes-memory-profile/tools/seismic/seismic/attributes/envelope.py\" with entrypoint set to: \"run\"\u001B[0m\n",
      "\u001B[32m2024-06-14 16:07:47.644\u001B[0m | \u001B[1mINFO    \u001B[0m | \u001B[36mdowser.profiler.handlers\u001B[0m:\u001B[36mexecute_file\u001B[0m:\u001B[36m38\u001B[0m - \u001B[1mExecuting file: /home/delucca/src/msc/seismic-attributes-memory-profile/tools/seismic/seismic/attributes/envelope.py\u001B[0m\n",
      "\u001B[32m2024-06-14 16:07:47.645\u001B[0m | \u001B[1mINFO    \u001B[0m | \u001B[36mdowser.profiler.handlers\u001B[0m:\u001B[36mexecute_file\u001B[0m:\u001B[36m42\u001B[0m - \u001B[1mCompiling code\u001B[0m\n",
      "\u001B[32m2024-06-14 16:07:47.647\u001B[0m | \u001B[1mINFO    \u001B[0m | \u001B[36mdowser.profiler.handlers\u001B[0m:\u001B[36mexecute_file\u001B[0m:\u001B[36m45\u001B[0m - \u001B[1mRunning execution before hook\u001B[0m\n",
      "\u001B[32m2024-06-14 16:07:47.648\u001B[0m | \u001B[1mINFO    \u001B[0m | \u001B[36mdowser.profiler.tracer\u001B[0m:\u001B[36mstart_sampler\u001B[0m:\u001B[36m151\u001B[0m - \u001B[1mStarting profile sampler\u001B[0m\n",
      "\u001B[32m2024-06-14 16:07:47.649\u001B[0m | \u001B[1mINFO    \u001B[0m | \u001B[36mdowser.profiler.tracer\u001B[0m:\u001B[36mstart_sampler\u001B[0m:\u001B[36m152\u001B[0m - \u001B[1mUsing precision of 0.1s and process strategy\u001B[0m\n",
      "\u001B[32m2024-06-14 16:07:47.654\u001B[0m | \u001B[1mINFO    \u001B[0m | \u001B[36mdowser.profiler.handlers\u001B[0m:\u001B[36mexecute_file\u001B[0m:\u001B[36m48\u001B[0m - \u001B[1mExecuting code file\u001B[0m\n",
      "\u001B[32m2024-06-14 16:07:47.657\u001B[0m | \u001B[1mINFO    \u001B[0m | \u001B[36mdowser.profiler.handlers\u001B[0m:\u001B[36mexecute_file\u001B[0m:\u001B[36m52\u001B[0m - \u001B[1mRunning function: run\u001B[0m\n",
      "\u001B[32m2024-06-14 16:07:54.195\u001B[0m | \u001B[1mINFO    \u001B[0m | \u001B[36mdowser.profiler.handlers\u001B[0m:\u001B[36mexecute_file\u001B[0m:\u001B[36m55\u001B[0m - \u001B[1mRunning execution after hook\u001B[0m\n",
      "\u001B[32m2024-06-14 16:07:54.239\u001B[0m | \u001B[1mINFO    \u001B[0m | \u001B[36mdowser.profiler.tracer\u001B[0m:\u001B[36mstop_sampler\u001B[0m:\u001B[36m169\u001B[0m - \u001B[1mProfile sampler stopped\u001B[0m\n",
      "\u001B[32m2024-06-14 16:07:54.240\u001B[0m | \u001B[1mINFO    \u001B[0m | \u001B[36mdowser.profiler.handlers\u001B[0m:\u001B[36mexecute_file\u001B[0m:\u001B[36m59\u001B[0m - \u001B[1mFile \"/home/delucca/src/msc/seismic-attributes-memory-profile/tools/seismic/seismic/attributes/envelope.py\" finished execution\u001B[0m\n",
      "\u001B[32m2024-06-14 16:07:54.261\u001B[0m | \u001B[1mINFO    \u001B[0m | \u001B[36mdowser.profiler.main\u001B[0m:\u001B[36mrun_profiler\u001B[0m:\u001B[36m50\u001B[0m - \u001B[1mProfiler execution finished\u001B[0m\n",
      "\u001B[32m2024-06-14 16:07:54.265\u001B[0m | \u001B[1mINFO    \u001B[0m | \u001B[36mdowser.profiler.main\u001B[0m:\u001B[36mrun_profiler\u001B[0m:\u001B[36m52\u001B[0m - \u001B[1mSaving profile data\u001B[0m\n",
      "\u001B[32m2024-06-14 16:07:54.279\u001B[0m | \u001B[1mINFO    \u001B[0m | \u001B[36mdowser.profiler.main\u001B[0m:\u001B[36mrun_profiler\u001B[0m:\u001B[36m66\u001B[0m - \u001B[1mProfiler output saved to: ../output/envelope-20240609-191813/validation\u001B[0m\n",
      "The actual peak memory usage of the validation dataset is 8323576.0 KB\n",
      "The difference between the expected and actual peak memory usage is 46.13 MB\n",
      "This is a 0.57% difference\n"
     ]
    }
   ],
   "source": [
    "from seismic.attributes import envelope\n",
    "\n",
    "session_id_envelope = 'envelope-20240609-191813'\n",
    "model_envelope = train_and_validate_session(session_id_envelope, envelope.run)"
   ]
  },
  {
   "cell_type": "code",
   "execution_count": 16,
   "metadata": {},
   "outputs": [
    {
     "name": "stdout",
     "output_type": "stream",
     "text": [
      "RMSE: 42569.89757375153\n",
      "Accuracy: 100.00%\n",
      "R2 Score: 0.9999900102903184\n",
      "The expected memory usage is 8374093.09 KB for the target shape (651, 951, 462)\n",
      "\u001B[32m2024-06-14 15:19:27.332\u001B[0m | \u001B[1mINFO    \u001B[0m | \u001B[36mdowser.profiler.main\u001B[0m:\u001B[36mrun_profiler\u001B[0m:\u001B[36m15\u001B[0m - \u001B[1mStarting profiler\u001B[0m\n",
      "\u001B[32m2024-06-14 15:19:27.334\u001B[0m | \u001B[1mINFO    \u001B[0m | \u001B[36mdowser.profiler.metrics.memory_usage.builders\u001B[0m:\u001B[36mbuild_trace_hooks\u001B[0m:\u001B[36m12\u001B[0m - \u001B[1mEnabled memory usage backends: \"[<MemoryUsageBackend.KERNEL: 'KERNEL'>]\"\u001B[0m\n",
      "\u001B[32m2024-06-14 15:19:27.335\u001B[0m | \u001B[33m\u001B[1mWARNING \u001B[0m | \u001B[36mdowser.profiler.metrics.memory_usage.builders\u001B[0m:\u001B[36mbuild_trace_hooks\u001B[0m:\u001B[36m37\u001B[0m - \u001B[33m\u001B[1mBackend \"kernel\" does not have \"after\" function\u001B[0m\n"
     ]
    },
    {
     "name": "stdout",
     "output_type": "stream",
     "text": [
      "\u001B[32m2024-06-14 15:19:27.359\u001B[0m | \u001B[1mINFO    \u001B[0m | \u001B[36mdowser.profiler.main\u001B[0m:\u001B[36mrun_profiler\u001B[0m:\u001B[36m46\u001B[0m - \u001B[1mStarting profiler execution for \"/home/delucca/src/msc/seismic-attributes-memory-profile/tools/seismic/seismic/attributes/envelope.py\"\u001B[0m\n",
      "\u001B[32m2024-06-14 15:19:27.378\u001B[0m | \u001B[1mINFO    \u001B[0m | \u001B[36mdowser.profiler.handlers\u001B[0m:\u001B[36mexecute_file\u001B[0m:\u001B[36m19\u001B[0m - \u001B[1mStarting new profiler session for file \"/home/delucca/src/msc/seismic-attributes-memory-profile/tools/seismic/seismic/attributes/envelope.py\" with entrypoint set to: \"run\"\u001B[0m\n",
      "\u001B[32m2024-06-14 15:19:27.383\u001B[0m | \u001B[1mINFO    \u001B[0m | \u001B[36mdowser.profiler.handlers\u001B[0m:\u001B[36mexecute_file\u001B[0m:\u001B[36m38\u001B[0m - \u001B[1mExecuting file: /home/delucca/src/msc/seismic-attributes-memory-profile/tools/seismic/seismic/attributes/envelope.py\u001B[0m\n",
      "\u001B[32m2024-06-14 15:19:27.385\u001B[0m | \u001B[1mINFO    \u001B[0m | \u001B[36mdowser.profiler.handlers\u001B[0m:\u001B[36mexecute_file\u001B[0m:\u001B[36m42\u001B[0m - \u001B[1mCompiling code\u001B[0m\n",
      "\u001B[32m2024-06-14 15:19:27.386\u001B[0m | \u001B[1mINFO    \u001B[0m | \u001B[36mdowser.profiler.handlers\u001B[0m:\u001B[36mexecute_file\u001B[0m:\u001B[36m45\u001B[0m - \u001B[1mRunning execution before hook\u001B[0m\n",
      "\u001B[32m2024-06-14 15:19:27.388\u001B[0m | \u001B[1mINFO    \u001B[0m | \u001B[36mdowser.profiler.tracer\u001B[0m:\u001B[36mstart_sampler\u001B[0m:\u001B[36m151\u001B[0m - \u001B[1mStarting profile sampler\u001B[0m\n",
      "\u001B[32m2024-06-14 15:19:27.389\u001B[0m | \u001B[1mINFO    \u001B[0m | \u001B[36mdowser.profiler.tracer\u001B[0m:\u001B[36mstart_sampler\u001B[0m:\u001B[36m152\u001B[0m - \u001B[1mUsing precision of 0.1s and process strategy\u001B[0m\n",
      "\u001B[32m2024-06-14 15:19:27.396\u001B[0m | \u001B[1mINFO    \u001B[0m | \u001B[36mdowser.profiler.handlers\u001B[0m:\u001B[36mexecute_file\u001B[0m:\u001B[36m48\u001B[0m - \u001B[1mExecuting code file\u001B[0m\n",
      "\u001B[32m2024-06-14 15:19:27.399\u001B[0m | \u001B[1mINFO    \u001B[0m | \u001B[36mdowser.profiler.handlers\u001B[0m:\u001B[36mexecute_file\u001B[0m:\u001B[36m52\u001B[0m - \u001B[1mRunning function: run\u001B[0m\n",
      "\u001B[32m2024-06-14 15:19:38.081\u001B[0m | \u001B[1mINFO    \u001B[0m | \u001B[36mdowser.profiler.handlers\u001B[0m:\u001B[36mexecute_file\u001B[0m:\u001B[36m55\u001B[0m - \u001B[1mRunning execution after hook\u001B[0m\n",
      "\u001B[32m2024-06-14 15:19:38.153\u001B[0m | \u001B[1mINFO    \u001B[0m | \u001B[36mdowser.profiler.tracer\u001B[0m:\u001B[36mstop_sampler\u001B[0m:\u001B[36m169\u001B[0m - \u001B[1mProfile sampler stopped\u001B[0m\n",
      "\u001B[32m2024-06-14 15:19:38.155\u001B[0m | \u001B[1mINFO    \u001B[0m | \u001B[36mdowser.profiler.handlers\u001B[0m:\u001B[36mexecute_file\u001B[0m:\u001B[36m59\u001B[0m - \u001B[1mFile \"/home/delucca/src/msc/seismic-attributes-memory-profile/tools/seismic/seismic/attributes/envelope.py\" finished execution\u001B[0m\n",
      "\u001B[32m2024-06-14 15:19:38.183\u001B[0m | \u001B[1mINFO    \u001B[0m | \u001B[36mdowser.profiler.main\u001B[0m:\u001B[36mrun_profiler\u001B[0m:\u001B[36m50\u001B[0m - \u001B[1mProfiler execution finished\u001B[0m\n",
      "\u001B[32m2024-06-14 15:19:38.188\u001B[0m | \u001B[1mINFO    \u001B[0m | \u001B[36mdowser.profiler.main\u001B[0m:\u001B[36mrun_profiler\u001B[0m:\u001B[36m52\u001B[0m - \u001B[1mSaving profile data\u001B[0m\n",
      "\u001B[32m2024-06-14 15:19:38.213\u001B[0m | \u001B[1mINFO    \u001B[0m | \u001B[36mdowser.profiler.main\u001B[0m:\u001B[36mrun_profiler\u001B[0m:\u001B[36m66\u001B[0m - \u001B[1mProfiler output saved to: ../output/envelope-20240608-120422/validation\u001B[0m\n",
      "The actual peak memory usage of the validation dataset is 8367860.0 KB\n",
      "The difference between the expected and actual peak memory usage is 6.09 MB\n",
      "This is a 0.07% difference\n"
     ]
    }
   ],
   "source": [
    "from seismic.attributes import envelope\n",
    "\n",
    "session_id_envelope = 'envelope-20240608-120422'\n",
    "model_envelope = train_and_validate_session(session_id_envelope, envelope.run)"
   ]
  },
  {
   "cell_type": "markdown",
   "metadata": {},
   "source": [
    "## First Derivative"
   ]
  },
  {
   "cell_type": "code",
   "execution_count": 17,
   "metadata": {},
   "outputs": [
    {
     "name": "stdout",
     "output_type": "stream",
     "text": [
      "RMSE: 24844.81156185551\n",
      "Accuracy: 100.00%\n",
      "R2 Score: 0.931730217727686\n",
      "The expected memory usage is 5397474.98 KB for the target shape (651, 951, 462)\n",
      "\u001B[32m2024-06-14 15:19:38.303\u001B[0m | \u001B[1mINFO    \u001B[0m | \u001B[36mdowser.profiler.main\u001B[0m:\u001B[36mrun_profiler\u001B[0m:\u001B[36m15\u001B[0m - \u001B[1mStarting profiler\u001B[0m\n",
      "\u001B[32m2024-06-14 15:19:38.304\u001B[0m | \u001B[1mINFO    \u001B[0m | \u001B[36mdowser.profiler.metrics.memory_usage.builders\u001B[0m:\u001B[36mbuild_trace_hooks\u001B[0m:\u001B[36m12\u001B[0m - \u001B[1mEnabled memory usage backends: \"[<MemoryUsageBackend.KERNEL: 'KERNEL'>]\"\u001B[0m\n",
      "\u001B[32m2024-06-14 15:19:38.305\u001B[0m | \u001B[33m\u001B[1mWARNING \u001B[0m | \u001B[36mdowser.profiler.metrics.memory_usage.builders\u001B[0m:\u001B[36mbuild_trace_hooks\u001B[0m:\u001B[36m37\u001B[0m - \u001B[33m\u001B[1mBackend \"kernel\" does not have \"after\" function\u001B[0m\n",
      "\u001B[32m2024-06-14 15:19:38.322\u001B[0m | \u001B[1mINFO    \u001B[0m | \u001B[36mdowser.profiler.main\u001B[0m:\u001B[36mrun_profiler\u001B[0m:\u001B[36m46\u001B[0m - \u001B[1mStarting profiler execution for \"/home/delucca/src/msc/seismic-attributes-memory-profile/tools/seismic/seismic/attributes/first_derivative.py\"\u001B[0m\n",
      "\u001B[32m2024-06-14 15:19:38.335\u001B[0m | \u001B[1mINFO    \u001B[0m | \u001B[36mdowser.profiler.handlers\u001B[0m:\u001B[36mexecute_file\u001B[0m:\u001B[36m19\u001B[0m - \u001B[1mStarting new profiler session for file \"/home/delucca/src/msc/seismic-attributes-memory-profile/tools/seismic/seismic/attributes/first_derivative.py\" with entrypoint set to: \"run\"\u001B[0m\n",
      "\u001B[32m2024-06-14 15:19:38.339\u001B[0m | \u001B[1mINFO    \u001B[0m | \u001B[36mdowser.profiler.handlers\u001B[0m:\u001B[36mexecute_file\u001B[0m:\u001B[36m38\u001B[0m - \u001B[1mExecuting file: /home/delucca/src/msc/seismic-attributes-memory-profile/tools/seismic/seismic/attributes/first_derivative.py\u001B[0m\n",
      "\u001B[32m2024-06-14 15:19:38.340\u001B[0m | \u001B[1mINFO    \u001B[0m | \u001B[36mdowser.profiler.handlers\u001B[0m:\u001B[36mexecute_file\u001B[0m:\u001B[36m42\u001B[0m - \u001B[1mCompiling code\u001B[0m\n",
      "\u001B[32m2024-06-14 15:19:38.342\u001B[0m | \u001B[1mINFO    \u001B[0m | \u001B[36mdowser.profiler.handlers\u001B[0m:\u001B[36mexecute_file\u001B[0m:\u001B[36m45\u001B[0m - \u001B[1mRunning execution before hook\u001B[0m\n",
      "\u001B[32m2024-06-14 15:19:38.343\u001B[0m | \u001B[1mINFO    \u001B[0m | \u001B[36mdowser.profiler.tracer\u001B[0m:\u001B[36mstart_sampler\u001B[0m:\u001B[36m151\u001B[0m - \u001B[1mStarting profile sampler\u001B[0m\n",
      "\u001B[32m2024-06-14 15:19:38.345\u001B[0m | \u001B[1mINFO    \u001B[0m | \u001B[36mdowser.profiler.tracer\u001B[0m:\u001B[36mstart_sampler\u001B[0m:\u001B[36m152\u001B[0m - \u001B[1mUsing precision of 0.1s and process strategy\u001B[0m\n",
      "\u001B[32m2024-06-14 15:19:38.351\u001B[0m | \u001B[1mINFO    \u001B[0m | \u001B[36mdowser.profiler.handlers\u001B[0m:\u001B[36mexecute_file\u001B[0m:\u001B[36m48\u001B[0m - \u001B[1mExecuting code file\u001B[0m\n",
      "\u001B[32m2024-06-14 15:19:38.354\u001B[0m | \u001B[1mINFO    \u001B[0m | \u001B[36mdowser.profiler.handlers\u001B[0m:\u001B[36mexecute_file\u001B[0m:\u001B[36m52\u001B[0m - \u001B[1mRunning function: run\u001B[0m\n",
      "\u001B[32m2024-06-14 15:19:44.755\u001B[0m | \u001B[1mINFO    \u001B[0m | \u001B[36mdowser.profiler.handlers\u001B[0m:\u001B[36mexecute_file\u001B[0m:\u001B[36m55\u001B[0m - \u001B[1mRunning execution after hook\u001B[0m\n",
      "\u001B[32m2024-06-14 15:19:44.838\u001B[0m | \u001B[1mINFO    \u001B[0m | \u001B[36mdowser.profiler.tracer\u001B[0m:\u001B[36mstop_sampler\u001B[0m:\u001B[36m169\u001B[0m - \u001B[1mProfile sampler stopped\u001B[0m\n",
      "\u001B[32m2024-06-14 15:19:44.840\u001B[0m | \u001B[1mINFO    \u001B[0m | \u001B[36mdowser.profiler.handlers\u001B[0m:\u001B[36mexecute_file\u001B[0m:\u001B[36m59\u001B[0m - \u001B[1mFile \"/home/delucca/src/msc/seismic-attributes-memory-profile/tools/seismic/seismic/attributes/first_derivative.py\" finished execution\u001B[0m\n",
      "\u001B[32m2024-06-14 15:19:44.861\u001B[0m | \u001B[1mINFO    \u001B[0m | \u001B[36mdowser.profiler.main\u001B[0m:\u001B[36mrun_profiler\u001B[0m:\u001B[36m50\u001B[0m - \u001B[1mProfiler execution finished\u001B[0m\n",
      "\u001B[32m2024-06-14 15:19:44.866\u001B[0m | \u001B[1mINFO    \u001B[0m | \u001B[36mdowser.profiler.main\u001B[0m:\u001B[36mrun_profiler\u001B[0m:\u001B[36m52\u001B[0m - \u001B[1mSaving profile data\u001B[0m\n",
      "\u001B[32m2024-06-14 15:19:44.884\u001B[0m | \u001B[1mINFO    \u001B[0m | \u001B[36mdowser.profiler.main\u001B[0m:\u001B[36mrun_profiler\u001B[0m:\u001B[36m66\u001B[0m - \u001B[1mProfiler output saved to: ../output/first_derivative-20240609-192724/validation\u001B[0m\n",
      "The actual peak memory usage of the validation dataset is 5062672.0 KB\n",
      "The difference between the expected and actual peak memory usage is 326.96 MB\n",
      "This is a 6.20% difference\n"
     ]
    }
   ],
   "source": [
    "from seismic.attributes import first_derivative\n",
    "\n",
    "session_id_first_derivative = 'first_derivative-20240609-192724'\n",
    "model_first_derivative = train_and_validate_session(session_id_first_derivative, first_derivative.run)"
   ]
  },
  {
   "cell_type": "markdown",
   "metadata": {},
   "source": [
    "## GST3D"
   ]
  },
  {
   "cell_type": "code",
   "execution_count": 19,
   "metadata": {},
   "outputs": [
    {
     "name": "stdout",
     "output_type": "stream",
     "text": [
      "RMSE: 19459.659728982057\n",
      "Accuracy: 100.00%\n",
      "R2 Score: 0.9989739819851616\n",
      "The expected memory usage is 6746558.41 KB for the target shape (450, 300, 200)\n",
      "\u001B[32m2024-06-14 15:20:09.462\u001B[0m | \u001B[1mINFO    \u001B[0m | \u001B[36mdowser.profiler.main\u001B[0m:\u001B[36mrun_profiler\u001B[0m:\u001B[36m15\u001B[0m - \u001B[1mStarting profiler\u001B[0m\n",
      "\u001B[32m2024-06-14 15:20:09.463\u001B[0m | \u001B[1mINFO    \u001B[0m | \u001B[36mdowser.profiler.metrics.memory_usage.builders\u001B[0m:\u001B[36mbuild_trace_hooks\u001B[0m:\u001B[36m12\u001B[0m - \u001B[1mEnabled memory usage backends: \"[<MemoryUsageBackend.KERNEL: 'KERNEL'>]\"\u001B[0m\n",
      "\u001B[32m2024-06-14 15:20:09.464\u001B[0m | \u001B[33m\u001B[1mWARNING \u001B[0m | \u001B[36mdowser.profiler.metrics.memory_usage.builders\u001B[0m:\u001B[36mbuild_trace_hooks\u001B[0m:\u001B[36m37\u001B[0m - \u001B[33m\u001B[1mBackend \"kernel\" does not have \"after\" function\u001B[0m\n",
      "\u001B[32m2024-06-14 15:20:09.483\u001B[0m | \u001B[1mINFO    \u001B[0m | \u001B[36mdowser.profiler.main\u001B[0m:\u001B[36mrun_profiler\u001B[0m:\u001B[36m46\u001B[0m - \u001B[1mStarting profiler execution for \"/home/delucca/src/msc/seismic-attributes-memory-profile/tools/seismic/seismic/attributes/gst_3d_dip.py\"\u001B[0m\n",
      "\u001B[32m2024-06-14 15:20:09.497\u001B[0m | \u001B[1mINFO    \u001B[0m | \u001B[36mdowser.profiler.handlers\u001B[0m:\u001B[36mexecute_file\u001B[0m:\u001B[36m19\u001B[0m - \u001B[1mStarting new profiler session for file \"/home/delucca/src/msc/seismic-attributes-memory-profile/tools/seismic/seismic/attributes/gst_3d_dip.py\" with entrypoint set to: \"run\"\u001B[0m\n",
      "\u001B[32m2024-06-14 15:20:09.501\u001B[0m | \u001B[1mINFO    \u001B[0m | \u001B[36mdowser.profiler.handlers\u001B[0m:\u001B[36mexecute_file\u001B[0m:\u001B[36m38\u001B[0m - \u001B[1mExecuting file: /home/delucca/src/msc/seismic-attributes-memory-profile/tools/seismic/seismic/attributes/gst_3d_dip.py\u001B[0m\n",
      "\u001B[32m2024-06-14 15:20:09.502\u001B[0m | \u001B[1mINFO    \u001B[0m | \u001B[36mdowser.profiler.handlers\u001B[0m:\u001B[36mexecute_file\u001B[0m:\u001B[36m42\u001B[0m - \u001B[1mCompiling code\u001B[0m\n",
      "\u001B[32m2024-06-14 15:20:09.504\u001B[0m | \u001B[1mINFO    \u001B[0m | \u001B[36mdowser.profiler.handlers\u001B[0m:\u001B[36mexecute_file\u001B[0m:\u001B[36m45\u001B[0m - \u001B[1mRunning execution before hook\u001B[0m\n",
      "\u001B[32m2024-06-14 15:20:09.506\u001B[0m | \u001B[1mINFO    \u001B[0m | \u001B[36mdowser.profiler.tracer\u001B[0m:\u001B[36mstart_sampler\u001B[0m:\u001B[36m151\u001B[0m - \u001B[1mStarting profile sampler\u001B[0m\n",
      "\u001B[32m2024-06-14 15:20:09.507\u001B[0m | \u001B[1mINFO    \u001B[0m | \u001B[36mdowser.profiler.tracer\u001B[0m:\u001B[36mstart_sampler\u001B[0m:\u001B[36m152\u001B[0m - \u001B[1mUsing precision of 0.1s and process strategy\u001B[0m\n",
      "\u001B[32m2024-06-14 15:20:09.515\u001B[0m | \u001B[1mINFO    \u001B[0m | \u001B[36mdowser.profiler.handlers\u001B[0m:\u001B[36mexecute_file\u001B[0m:\u001B[36m48\u001B[0m - \u001B[1mExecuting code file\u001B[0m\n",
      "\u001B[32m2024-06-14 15:20:09.522\u001B[0m | \u001B[1mINFO    \u001B[0m | \u001B[36mdowser.profiler.handlers\u001B[0m:\u001B[36mexecute_file\u001B[0m:\u001B[36m52\u001B[0m - \u001B[1mRunning function: run\u001B[0m\n",
      "\u001B[32m2024-06-14 15:20:29.643\u001B[0m | \u001B[1mINFO    \u001B[0m | \u001B[36mdowser.profiler.handlers\u001B[0m:\u001B[36mexecute_file\u001B[0m:\u001B[36m55\u001B[0m - \u001B[1mRunning execution after hook\u001B[0m\n",
      "\u001B[32m2024-06-14 15:20:29.669\u001B[0m | \u001B[1mINFO    \u001B[0m | \u001B[36mdowser.profiler.tracer\u001B[0m:\u001B[36mstop_sampler\u001B[0m:\u001B[36m169\u001B[0m - \u001B[1mProfile sampler stopped\u001B[0m\n",
      "\u001B[32m2024-06-14 15:20:29.671\u001B[0m | \u001B[1mINFO    \u001B[0m | \u001B[36mdowser.profiler.handlers\u001B[0m:\u001B[36mexecute_file\u001B[0m:\u001B[36m59\u001B[0m - \u001B[1mFile \"/home/delucca/src/msc/seismic-attributes-memory-profile/tools/seismic/seismic/attributes/gst_3d_dip.py\" finished execution\u001B[0m\n",
      "\u001B[32m2024-06-14 15:20:29.694\u001B[0m | \u001B[1mINFO    \u001B[0m | \u001B[36mdowser.profiler.main\u001B[0m:\u001B[36mrun_profiler\u001B[0m:\u001B[36m50\u001B[0m - \u001B[1mProfiler execution finished\u001B[0m\n",
      "\u001B[32m2024-06-14 15:20:29.698\u001B[0m | \u001B[1mINFO    \u001B[0m | \u001B[36mdowser.profiler.main\u001B[0m:\u001B[36mrun_profiler\u001B[0m:\u001B[36m52\u001B[0m - \u001B[1mSaving profile data\u001B[0m\n",
      "\u001B[32m2024-06-14 15:20:29.736\u001B[0m | \u001B[1mINFO    \u001B[0m | \u001B[36mdowser.profiler.main\u001B[0m:\u001B[36mrun_profiler\u001B[0m:\u001B[36m66\u001B[0m - \u001B[1mProfiler output saved to: ../output/gst_3d_dip-20240609-193855/validation\u001B[0m\n",
      "The actual peak memory usage of the validation dataset is 6706128.0 KB\n",
      "The difference between the expected and actual peak memory usage is 39.48 MB\n",
      "This is a 0.60% difference\n"
     ]
    }
   ],
   "source": [
    "from seismic.attributes import gst_3d_dip\n",
    "from seismic.data.synthetic import generate_and_save_synthetic_data\n",
    "\n",
    "session_id_gst3d = 'gst_3d_dip-20240609-193855'\n",
    "df_gst3d = load_data(session_id_gst3d)\n",
    "model_gst3d = train_model(df_gst3d)\n",
    "\n",
    "target_shape = (450, 300, 200)\n",
    "target_df = pd.DataFrame([target_shape], columns=['inlines', 'crosslines', 'samples'])\n",
    "target_df = extract_features(target_df)\n",
    "expected_memory_usage = model_gst3d.predict(target_df)[0]\n",
    "\n",
    "output_dir = f\"../output/{session_id_gst3d}/validation\"\n",
    "validation_dataset_path = generate_and_save_synthetic_data(*target_shape, output_dir=f\"{output_dir}/experiment\")\n",
    "\n",
    "validate_model(model_gst3d, gst_3d_dip.run, session_id_gst3d, validation_dataset_path, target_shape)"
   ]
  }
 ],
 "metadata": {
  "kernelspec": {
   "display_name": "seismic-attributes-memory-profile",
   "language": "python",
   "name": "python3"
  },
  "language_info": {
   "codemirror_mode": {
    "name": "ipython",
    "version": 3
   },
   "file_extension": ".py",
   "mimetype": "text/x-python",
   "name": "python",
   "nbconvert_exporter": "python",
   "pygments_lexer": "ipython3",
   "version": "3.8.10"
  }
 },
 "nbformat": 4,
 "nbformat_minor": 2
}
