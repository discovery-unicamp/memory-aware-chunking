{
 "cells": [
  {
   "cell_type": "markdown",
   "id": "6c62f184-df33-469c-bd6e-121159dd890f",
   "metadata": {},
   "source": [
    "# Dask Modeled Auto-Chunking\n",
    "\n",
    "This experiment aims to compare the behavior of Dask's auto-chunking feature with our trained models.\n",
    "On this notebook you will find:\n",
    "- The problem statement\n",
    "- The data collection for the experiment\n",
    "- The evaluation of the experiment results."
   ]
  },
  {
   "cell_type": "markdown",
   "id": "65ad1a7e-dbab-46b8-8ce4-b2061c1f4590",
   "metadata": {},
   "source": [
    "### Problem Statement\n",
    "\n",
    "Dask is widely recognized for its ability to parallelize computations, particularly when processing large datasets.\n",
    "Efficient memory management becomes crucial in memory-intensive operations, where Dask’s strategy of chunking data into smaller blocks plays a pivotal role in both performance and memory usage.\n",
    "\n",
    "Traditionally, Dask offers an auto-chunking feature that dynamically adjusts chunk sizes based on the data and resources available.\n",
    "However, in certain complex computations, particularly in specialized fields like geophysics or computational modeling, it is crucial to assess how Dask’s default auto-chunking compares to custom-trained models that are designed for domain-specific operations.\n",
    "\n",
    "In this experiment, we will compare Dask’s auto-chunking feature with a custom pre-trained model used for envelope and GST3D. Specifically, we aim to evaluate:\n",
    "\n",
    "- The performance of Dask’s auto-chunking in managing chunk sizes dynamically for memory-intensive tasks.\n",
    "- The behavior of a custom model with manually optimized chunk sizes for envelope and GST3D operations.\n",
    "- The trade-offs between Dask’s auto-chunking versus the custom approach in terms of memory efficiency and computational performance.\n",
    "- Whether the auto-chunking approach is viable for highly specialized operations such as GST3D, or if manually tuned models offer significant benefits.\n",
    "\n",
    "By analyzing these factors, this experiment seeks to uncover the most effective chunking strategy for domain-specific, memory-intensive Dask operations, and to identify scenarios where Dask’s auto-chunking may fall short compared to manually optimized alternatives."
   ]
  },
  {
   "cell_type": "markdown",
   "id": "25b789ec-4214-4cce-80d2-50504670eade",
   "metadata": {},
   "source": [
    "## Data Collection\n",
    "\n",
    "In this section, we will outline the steps needed to collect the necessary data for our experiment.\n",
    "The process is organized into the following steps:\n",
    "\n",
    "1. **Setup Environment:**\n",
    "  - Set up the environment with proper env variables and global constants to use during the experiment.\n",
    "\n",
    "2. **Setup dependencies:**\n",
    "  - Set up the virtual environment running this notebook with the required dependencies.\n",
    "\n",
    "3. **Setup the output directory:**\n",
    "  - On this step we will setup the output directory in which we will save the experiment results.\n",
    "\n",
    "4. **Generate synthetic seismic data:**\n",
    "  - Generate synthetic seismic data for a given shape.\n",
    "\n",
    "5. **Collect data for each operator:**\n",
    "  - Apply each operator to the synthetic data using both Dask auto-chunking, as well as the optimal chunk baseed on our model\n",
    "\n",
    "After completing these steps, we will have the performance data from Dask to compare the results"
   ]
  },
  {
   "cell_type": "markdown",
   "id": "6e6222b8-e11b-4b77-89f4-c1db2721af15",
   "metadata": {},
   "source": [
    "### Setup Environment\n",
    "\n",
    "During the environment setup, we need to:\n",
    "- Proper configure `PYTHONPATH`\n",
    "- Setup dependencies\n",
    "\n",
    "Below, we're configuring the `PYTHONPATH` to allow using the tools we've coded for the experiments"
   ]
  },
  {
   "cell_type": "code",
   "execution_count": 1,
   "id": "30a0ad5d-bd69-4902-9565-84ec62717244",
   "metadata": {},
   "outputs": [
    {
     "name": "stdout",
     "output_type": "stream",
     "text": [
      "['/home/delucca/.pyenv/versions/3.10.14/lib/python310.zip', '/home/delucca/.pyenv/versions/3.10.14/lib/python3.10', '/home/delucca/.pyenv/versions/3.10.14/lib/python3.10/lib-dynload', '', '/home/delucca/.pyenv/versions/3.10.14/envs/dask-auto-chunking/lib/python3.10/site-packages', '/home/delucca/src/unicamp/msc/dask-auto-chunking/libs/helpers', '/home/delucca/src/unicamp/msc/dask-auto-chunking/libs/traceq']\n"
     ]
    }
   ],
   "source": [
    "import os\n",
    "import sys\n",
    "\n",
    "helpers_path = os.path.abspath('../libs/helpers')\n",
    "traceq_path = os.path.abspath('../libs/traceq')\n",
    "\n",
    "helpers_path not in sys.path and sys.path.append(helpers_path)\n",
    "traceq_path not in sys.path and sys.path.append(traceq_path)\n",
    "\n",
    "print(sys.path)"
   ]
  },
  {
   "cell_type": "code",
   "execution_count": 3,
   "id": "113168e8-b702-443c-be57-056cb6a735a1",
   "metadata": {},
   "outputs": [
    {
     "name": "stdout",
     "output_type": "stream",
     "text": [
      "Requirement already satisfied: bokeh in /home/delucca/.pyenv/versions/3.10.14/envs/dask-auto-chunking/lib/python3.10/site-packages (3.6.0)\n",
      "Requirement already satisfied: Jinja2>=2.9 in /home/delucca/.pyenv/versions/3.10.14/envs/dask-auto-chunking/lib/python3.10/site-packages (from bokeh) (3.1.4)\n",
      "Requirement already satisfied: contourpy>=1.2 in /home/delucca/.pyenv/versions/3.10.14/envs/dask-auto-chunking/lib/python3.10/site-packages (from bokeh) (1.3.0)\n",
      "Requirement already satisfied: numpy>=1.16 in /home/delucca/.pyenv/versions/3.10.14/envs/dask-auto-chunking/lib/python3.10/site-packages (from bokeh) (1.26.4)\n",
      "Requirement already satisfied: packaging>=16.8 in /home/delucca/.pyenv/versions/3.10.14/envs/dask-auto-chunking/lib/python3.10/site-packages (from bokeh) (24.1)\n",
      "Requirement already satisfied: pandas>=1.2 in /home/delucca/.pyenv/versions/3.10.14/envs/dask-auto-chunking/lib/python3.10/site-packages (from bokeh) (1.5.2)\n",
      "Requirement already satisfied: pillow>=7.1.0 in /home/delucca/.pyenv/versions/3.10.14/envs/dask-auto-chunking/lib/python3.10/site-packages (from bokeh) (10.4.0)\n",
      "Requirement already satisfied: PyYAML>=3.10 in /home/delucca/.pyenv/versions/3.10.14/envs/dask-auto-chunking/lib/python3.10/site-packages (from bokeh) (6.0.2)\n",
      "Requirement already satisfied: tornado>=6.2 in /home/delucca/.pyenv/versions/3.10.14/envs/dask-auto-chunking/lib/python3.10/site-packages (from bokeh) (6.4.1)\n",
      "Requirement already satisfied: xyzservices>=2021.09.1 in /home/delucca/.pyenv/versions/3.10.14/envs/dask-auto-chunking/lib/python3.10/site-packages (from bokeh) (2024.9.0)\n",
      "Requirement already satisfied: MarkupSafe>=2.0 in /home/delucca/.pyenv/versions/3.10.14/envs/dask-auto-chunking/lib/python3.10/site-packages (from Jinja2>=2.9->bokeh) (2.1.5)\n",
      "Requirement already satisfied: python-dateutil>=2.8.1 in /home/delucca/.pyenv/versions/3.10.14/envs/dask-auto-chunking/lib/python3.10/site-packages (from pandas>=1.2->bokeh) (2.9.0.post0)\n",
      "Requirement already satisfied: pytz>=2020.1 in /home/delucca/.pyenv/versions/3.10.14/envs/dask-auto-chunking/lib/python3.10/site-packages (from pandas>=1.2->bokeh) (2024.2)\n",
      "Requirement already satisfied: six>=1.5 in /home/delucca/.pyenv/versions/3.10.14/envs/dask-auto-chunking/lib/python3.10/site-packages (from python-dateutil>=2.8.1->pandas>=1.2->bokeh) (1.16.0)\n"
     ]
    }
   ],
   "source": [
    "!pip install bokeh"
   ]
  },
  {
   "cell_type": "code",
   "execution_count": 2,
   "id": "0f58e9b4-e58e-4aac-a86f-42464e52f6fa",
   "metadata": {},
   "outputs": [
    {
     "name": "stdout",
     "output_type": "stream",
     "text": [
      "Experiment config:\n",
      "{ 'LOG_LEVEL': 'DEBUG',\n",
      "  'LOG_TRANSPORTS': ['CONSOLE', 'FILE'],\n",
      "  'NUM_INLINES': 600,\n",
      "  'NUM_SAMPLES': 600,\n",
      "  'NUM_XLINES': 600}\n"
     ]
    }
   ],
   "source": [
    "from pprint import pprint\n",
    "\n",
    "NUM_INLINES = 600\n",
    "NUM_XLINES = 600\n",
    "NUM_SAMPLES = 600\n",
    "\n",
    "LOG_TRANSPORTS = ['CONSOLE', 'FILE']\n",
    "LOG_LEVEL = 'DEBUG'\n",
    "\n",
    "print('Experiment config:')\n",
    "pprint({\n",
    "    'NUM_INLINES': NUM_INLINES,\n",
    "    'NUM_XLINES': NUM_XLINES,\n",
    "    'NUM_SAMPLES': NUM_SAMPLES,\n",
    "    'LOG_TRANSPORTS': LOG_TRANSPORTS,\n",
    "    'LOG_LEVEL': LOG_LEVEL,\n",
    "}, indent=2, sort_dicts=True)"
   ]
  },
  {
   "cell_type": "code",
   "execution_count": 3,
   "id": "ad80b9ee-2c1c-47bb-aba3-56b659ca84b2",
   "metadata": {},
   "outputs": [
    {
     "data": {
      "text/plain": [
       "'./output/008-20241008160251-5ebf1a'"
      ]
     },
     "execution_count": 3,
     "metadata": {},
     "output_type": "execute_result"
    }
   ],
   "source": [
    "import uuid\n",
    "import os\n",
    "\n",
    "from datetime import datetime\n",
    "\n",
    "EXPERIMENT_ID = f'008-{datetime.now().strftime(\"%Y%m%d%H%M%S\")}-{uuid.uuid4().hex[:6]}'\n",
    "OUTPUT_DIR = f'./output/{EXPERIMENT_ID}'\n",
    "\n",
    "os.makedirs(OUTPUT_DIR)\n",
    "\n",
    "OUTPUT_DIR"
   ]
  },
  {
   "cell_type": "code",
   "execution_count": 4,
   "id": "8cf8b939-76fc-4b57-8f16-927350bb426c",
   "metadata": {},
   "outputs": [
    {
     "data": {
      "text/html": [
       "    <style>\n",
       "        .bk-notebook-logo {\n",
       "            display: block;\n",
       "            width: 20px;\n",
       "            height: 20px;\n",
       "            background-image: url(data:image/png;base64,iVBORw0KGgoAAAANSUhEUgAAABQAAAAUCAYAAACNiR0NAAAABHNCSVQICAgIfAhkiAAAAAlwSFlzAAALEgAACxIB0t1+/AAAABx0RVh0U29mdHdhcmUAQWRvYmUgRmlyZXdvcmtzIENTNui8sowAAAOkSURBVDiNjZRtaJVlGMd/1/08zzln5zjP1LWcU9N0NkN8m2CYjpgQYQXqSs0I84OLIC0hkEKoPtiH3gmKoiJDU7QpLgoLjLIQCpEsNJ1vqUOdO7ppbuec5+V+rj4ctwzd8IIbbi6u+8f1539dt3A78eXC7QizUF7gyV1fD1Yqg4JWz84yffhm0qkFqBogB9rM8tZdtwVsPUhWhGcFJngGeWrPzHm5oaMmkfEg1usvLFyc8jLRqDOMru7AyC8saQr7GG7f5fvDeH7Ej8CM66nIF+8yngt6HWaKh7k49Soy9nXurCi1o3qUbS3zWfrYeQDTB/Qj6kX6Ybhw4B+bOYoLKCC9H3Nu/leUTZ1JdRWkkn2ldcCamzrcf47KKXdAJllSlxAOkRgyHsGC/zRday5Qld9DyoM4/q/rUoy/CXh3jzOu3bHUVZeU+DEn8FInkPBFlu3+nW3Nw0mk6vCDiWg8CeJaxEwuHS3+z5RgY+YBR6V1Z1nxSOfoaPa4LASWxxdNp+VWTk7+4vzaou8v8PN+xo+KY2xsw6une2frhw05CTYOmQvsEhjhWjn0bmXPjpE1+kplmmkP3suftwTubK9Vq22qKmrBhpY4jvd5afdRA3wGjFAgcnTK2s4hY0/GPNIb0nErGMCRxWOOX64Z8RAC4oCXdklmEvcL8o0BfkNK4lUg9HTl+oPlQxdNo3Mg4Nv175e/1LDGzZen30MEjRUtmXSfiTVu1kK8W4txyV6BMKlbgk3lMwYCiusNy9fVfvvwMxv8Ynl6vxoByANLTWplvuj/nF9m2+PDtt1eiHPBr1oIfhCChQMBw6Aw0UulqTKZdfVvfG7VcfIqLG9bcldL/+pdWTLxLUy8Qq38heUIjh4XlzZxzQm19lLFlr8vdQ97rjZVOLf8nclzckbcD4wxXMidpX30sFd37Fv/GtwwhzhxGVAprjbg0gCAEeIgwCZyTV2Z1REEW8O4py0wsjeloKoMr6iCY6dP92H6Vw/oTyICIthibxjm/DfN9lVz8IqtqKYLUXfoKVMVQVVJOElGjrnnUt9T9wbgp8AyYKaGlqingHZU/uG2NTZSVqwHQTWkx9hxjkpWDaCg6Ckj5qebgBVbT3V3NNXMSiWSDdGV3hrtzla7J+duwPOToIg42ChPQOQjspnSlp1V+Gjdged7+8UN5CRAV7a5EdFNwCjEaBR27b3W890TE7g24NAP/mMDXRWrGoFPQI9ls/MWO2dWFAar/xcOIImbbpA3zgAAAABJRU5ErkJggg==);\n",
       "        }\n",
       "    </style>\n",
       "    <div>\n",
       "        <a href=\"https://bokeh.org\" target=\"_blank\" class=\"bk-notebook-logo\"></a>\n",
       "        <span id=\"ae52e95a-551d-4282-b0ce-d38d994986b0\">Loading BokehJS ...</span>\n",
       "    </div>\n"
      ]
     },
     "metadata": {},
     "output_type": "display_data"
    },
    {
     "data": {
      "application/javascript": [
       "'use strict';\n",
       "(function(root) {\n",
       "  function now() {\n",
       "    return new Date();\n",
       "  }\n",
       "\n",
       "  const force = true;\n",
       "\n",
       "  if (typeof root._bokeh_onload_callbacks === \"undefined\" || force === true) {\n",
       "    root._bokeh_onload_callbacks = [];\n",
       "    root._bokeh_is_loading = undefined;\n",
       "  }\n",
       "\n",
       "const JS_MIME_TYPE = 'application/javascript';\n",
       "  const HTML_MIME_TYPE = 'text/html';\n",
       "  const EXEC_MIME_TYPE = 'application/vnd.bokehjs_exec.v0+json';\n",
       "  const CLASS_NAME = 'output_bokeh rendered_html';\n",
       "\n",
       "  /**\n",
       "   * Render data to the DOM node\n",
       "   */\n",
       "  function render(props, node) {\n",
       "    const script = document.createElement(\"script\");\n",
       "    node.appendChild(script);\n",
       "  }\n",
       "\n",
       "  /**\n",
       "   * Handle when an output is cleared or removed\n",
       "   */\n",
       "  function handleClearOutput(event, handle) {\n",
       "    function drop(id) {\n",
       "      const view = Bokeh.index.get_by_id(id)\n",
       "      if (view != null) {\n",
       "        view.model.document.clear()\n",
       "        Bokeh.index.delete(view)\n",
       "      }\n",
       "    }\n",
       "\n",
       "    const cell = handle.cell;\n",
       "\n",
       "    const id = cell.output_area._bokeh_element_id;\n",
       "    const server_id = cell.output_area._bokeh_server_id;\n",
       "\n",
       "    // Clean up Bokeh references\n",
       "    if (id != null) {\n",
       "      drop(id)\n",
       "    }\n",
       "\n",
       "    if (server_id !== undefined) {\n",
       "      // Clean up Bokeh references\n",
       "      const cmd_clean = \"from bokeh.io.state import curstate; print(curstate().uuid_to_server['\" + server_id + \"'].get_sessions()[0].document.roots[0]._id)\";\n",
       "      cell.notebook.kernel.execute(cmd_clean, {\n",
       "        iopub: {\n",
       "          output: function(msg) {\n",
       "            const id = msg.content.text.trim()\n",
       "            drop(id)\n",
       "          }\n",
       "        }\n",
       "      });\n",
       "      // Destroy server and session\n",
       "      const cmd_destroy = \"import bokeh.io.notebook as ion; ion.destroy_server('\" + server_id + \"')\";\n",
       "      cell.notebook.kernel.execute(cmd_destroy);\n",
       "    }\n",
       "  }\n",
       "\n",
       "  /**\n",
       "   * Handle when a new output is added\n",
       "   */\n",
       "  function handleAddOutput(event, handle) {\n",
       "    const output_area = handle.output_area;\n",
       "    const output = handle.output;\n",
       "\n",
       "    // limit handleAddOutput to display_data with EXEC_MIME_TYPE content only\n",
       "    if ((output.output_type != \"display_data\") || (!Object.prototype.hasOwnProperty.call(output.data, EXEC_MIME_TYPE))) {\n",
       "      return\n",
       "    }\n",
       "\n",
       "    const toinsert = output_area.element.find(\".\" + CLASS_NAME.split(' ')[0]);\n",
       "\n",
       "    if (output.metadata[EXEC_MIME_TYPE][\"id\"] !== undefined) {\n",
       "      toinsert[toinsert.length - 1].firstChild.textContent = output.data[JS_MIME_TYPE];\n",
       "      // store reference to embed id on output_area\n",
       "      output_area._bokeh_element_id = output.metadata[EXEC_MIME_TYPE][\"id\"];\n",
       "    }\n",
       "    if (output.metadata[EXEC_MIME_TYPE][\"server_id\"] !== undefined) {\n",
       "      const bk_div = document.createElement(\"div\");\n",
       "      bk_div.innerHTML = output.data[HTML_MIME_TYPE];\n",
       "      const script_attrs = bk_div.children[0].attributes;\n",
       "      for (let i = 0; i < script_attrs.length; i++) {\n",
       "        toinsert[toinsert.length - 1].firstChild.setAttribute(script_attrs[i].name, script_attrs[i].value);\n",
       "        toinsert[toinsert.length - 1].firstChild.textContent = bk_div.children[0].textContent\n",
       "      }\n",
       "      // store reference to server id on output_area\n",
       "      output_area._bokeh_server_id = output.metadata[EXEC_MIME_TYPE][\"server_id\"];\n",
       "    }\n",
       "  }\n",
       "\n",
       "  function register_renderer(events, OutputArea) {\n",
       "\n",
       "    function append_mime(data, metadata, element) {\n",
       "      // create a DOM node to render to\n",
       "      const toinsert = this.create_output_subarea(\n",
       "        metadata,\n",
       "        CLASS_NAME,\n",
       "        EXEC_MIME_TYPE\n",
       "      );\n",
       "      this.keyboard_manager.register_events(toinsert);\n",
       "      // Render to node\n",
       "      const props = {data: data, metadata: metadata[EXEC_MIME_TYPE]};\n",
       "      render(props, toinsert[toinsert.length - 1]);\n",
       "      element.append(toinsert);\n",
       "      return toinsert\n",
       "    }\n",
       "\n",
       "    /* Handle when an output is cleared or removed */\n",
       "    events.on('clear_output.CodeCell', handleClearOutput);\n",
       "    events.on('delete.Cell', handleClearOutput);\n",
       "\n",
       "    /* Handle when a new output is added */\n",
       "    events.on('output_added.OutputArea', handleAddOutput);\n",
       "\n",
       "    /**\n",
       "     * Register the mime type and append_mime function with output_area\n",
       "     */\n",
       "    OutputArea.prototype.register_mime_type(EXEC_MIME_TYPE, append_mime, {\n",
       "      /* Is output safe? */\n",
       "      safe: true,\n",
       "      /* Index of renderer in `output_area.display_order` */\n",
       "      index: 0\n",
       "    });\n",
       "  }\n",
       "\n",
       "  // register the mime type if in Jupyter Notebook environment and previously unregistered\n",
       "  if (root.Jupyter !== undefined) {\n",
       "    const events = require('base/js/events');\n",
       "    const OutputArea = require('notebook/js/outputarea').OutputArea;\n",
       "\n",
       "    if (OutputArea.prototype.mime_types().indexOf(EXEC_MIME_TYPE) == -1) {\n",
       "      register_renderer(events, OutputArea);\n",
       "    }\n",
       "  }\n",
       "  if (typeof (root._bokeh_timeout) === \"undefined\" || force === true) {\n",
       "    root._bokeh_timeout = Date.now() + 5000;\n",
       "    root._bokeh_failed_load = false;\n",
       "  }\n",
       "\n",
       "  const NB_LOAD_WARNING = {'data': {'text/html':\n",
       "     \"<div style='background-color: #fdd'>\\n\"+\n",
       "     \"<p>\\n\"+\n",
       "     \"BokehJS does not appear to have successfully loaded. If loading BokehJS from CDN, this \\n\"+\n",
       "     \"may be due to a slow or bad network connection. Possible fixes:\\n\"+\n",
       "     \"</p>\\n\"+\n",
       "     \"<ul>\\n\"+\n",
       "     \"<li>re-rerun `output_notebook()` to attempt to load from CDN again, or</li>\\n\"+\n",
       "     \"<li>use INLINE resources instead, as so:</li>\\n\"+\n",
       "     \"</ul>\\n\"+\n",
       "     \"<code>\\n\"+\n",
       "     \"from bokeh.resources import INLINE\\n\"+\n",
       "     \"output_notebook(resources=INLINE)\\n\"+\n",
       "     \"</code>\\n\"+\n",
       "     \"</div>\"}};\n",
       "\n",
       "  function display_loaded(error = null) {\n",
       "    const el = document.getElementById(\"ae52e95a-551d-4282-b0ce-d38d994986b0\");\n",
       "    if (el != null) {\n",
       "      const html = (() => {\n",
       "        if (typeof root.Bokeh === \"undefined\") {\n",
       "          if (error == null) {\n",
       "            return \"BokehJS is loading ...\";\n",
       "          } else {\n",
       "            return \"BokehJS failed to load.\";\n",
       "          }\n",
       "        } else {\n",
       "          const prefix = `BokehJS ${root.Bokeh.version}`;\n",
       "          if (error == null) {\n",
       "            return `${prefix} successfully loaded.`;\n",
       "          } else {\n",
       "            return `${prefix} <b>encountered errors</b> while loading and may not function as expected.`;\n",
       "          }\n",
       "        }\n",
       "      })();\n",
       "      el.innerHTML = html;\n",
       "\n",
       "      if (error != null) {\n",
       "        const wrapper = document.createElement(\"div\");\n",
       "        wrapper.style.overflow = \"auto\";\n",
       "        wrapper.style.height = \"5em\";\n",
       "        wrapper.style.resize = \"vertical\";\n",
       "        const content = document.createElement(\"div\");\n",
       "        content.style.fontFamily = \"monospace\";\n",
       "        content.style.whiteSpace = \"pre-wrap\";\n",
       "        content.style.backgroundColor = \"rgb(255, 221, 221)\";\n",
       "        content.textContent = error.stack ?? error.toString();\n",
       "        wrapper.append(content);\n",
       "        el.append(wrapper);\n",
       "      }\n",
       "    } else if (Date.now() < root._bokeh_timeout) {\n",
       "      setTimeout(() => display_loaded(error), 100);\n",
       "    }\n",
       "  }\n",
       "\n",
       "  function run_callbacks() {\n",
       "    try {\n",
       "      root._bokeh_onload_callbacks.forEach(function(callback) {\n",
       "        if (callback != null)\n",
       "          callback();\n",
       "      });\n",
       "    } finally {\n",
       "      delete root._bokeh_onload_callbacks\n",
       "    }\n",
       "    console.debug(\"Bokeh: all callbacks have finished\");\n",
       "  }\n",
       "\n",
       "  function load_libs(css_urls, js_urls, callback) {\n",
       "    if (css_urls == null) css_urls = [];\n",
       "    if (js_urls == null) js_urls = [];\n",
       "\n",
       "    root._bokeh_onload_callbacks.push(callback);\n",
       "    if (root._bokeh_is_loading > 0) {\n",
       "      console.debug(\"Bokeh: BokehJS is being loaded, scheduling callback at\", now());\n",
       "      return null;\n",
       "    }\n",
       "    if (js_urls == null || js_urls.length === 0) {\n",
       "      run_callbacks();\n",
       "      return null;\n",
       "    }\n",
       "    console.debug(\"Bokeh: BokehJS not loaded, scheduling load and callback at\", now());\n",
       "    root._bokeh_is_loading = css_urls.length + js_urls.length;\n",
       "\n",
       "    function on_load() {\n",
       "      root._bokeh_is_loading--;\n",
       "      if (root._bokeh_is_loading === 0) {\n",
       "        console.debug(\"Bokeh: all BokehJS libraries/stylesheets loaded\");\n",
       "        run_callbacks()\n",
       "      }\n",
       "    }\n",
       "\n",
       "    function on_error(url) {\n",
       "      console.error(\"failed to load \" + url);\n",
       "    }\n",
       "\n",
       "    for (let i = 0; i < css_urls.length; i++) {\n",
       "      const url = css_urls[i];\n",
       "      const element = document.createElement(\"link\");\n",
       "      element.onload = on_load;\n",
       "      element.onerror = on_error.bind(null, url);\n",
       "      element.rel = \"stylesheet\";\n",
       "      element.type = \"text/css\";\n",
       "      element.href = url;\n",
       "      console.debug(\"Bokeh: injecting link tag for BokehJS stylesheet: \", url);\n",
       "      document.body.appendChild(element);\n",
       "    }\n",
       "\n",
       "    for (let i = 0; i < js_urls.length; i++) {\n",
       "      const url = js_urls[i];\n",
       "      const element = document.createElement('script');\n",
       "      element.onload = on_load;\n",
       "      element.onerror = on_error.bind(null, url);\n",
       "      element.async = false;\n",
       "      element.src = url;\n",
       "      console.debug(\"Bokeh: injecting script tag for BokehJS library: \", url);\n",
       "      document.head.appendChild(element);\n",
       "    }\n",
       "  };\n",
       "\n",
       "  function inject_raw_css(css) {\n",
       "    const element = document.createElement(\"style\");\n",
       "    element.appendChild(document.createTextNode(css));\n",
       "    document.body.appendChild(element);\n",
       "  }\n",
       "\n",
       "  const js_urls = [\"https://cdn.bokeh.org/bokeh/release/bokeh-3.6.0.min.js\", \"https://cdn.bokeh.org/bokeh/release/bokeh-gl-3.6.0.min.js\", \"https://cdn.bokeh.org/bokeh/release/bokeh-widgets-3.6.0.min.js\", \"https://cdn.bokeh.org/bokeh/release/bokeh-tables-3.6.0.min.js\", \"https://cdn.bokeh.org/bokeh/release/bokeh-mathjax-3.6.0.min.js\"];\n",
       "  const css_urls = [];\n",
       "\n",
       "  const inline_js = [    function(Bokeh) {\n",
       "      Bokeh.set_log_level(\"info\");\n",
       "    },\n",
       "function(Bokeh) {\n",
       "    }\n",
       "  ];\n",
       "\n",
       "  function run_inline_js() {\n",
       "    if (root.Bokeh !== undefined || force === true) {\n",
       "      try {\n",
       "            for (let i = 0; i < inline_js.length; i++) {\n",
       "      inline_js[i].call(root, root.Bokeh);\n",
       "    }\n",
       "\n",
       "      } catch (error) {display_loaded(error);throw error;\n",
       "      }if (force === true) {\n",
       "        display_loaded();\n",
       "      }} else if (Date.now() < root._bokeh_timeout) {\n",
       "      setTimeout(run_inline_js, 100);\n",
       "    } else if (!root._bokeh_failed_load) {\n",
       "      console.log(\"Bokeh: BokehJS failed to load within specified timeout.\");\n",
       "      root._bokeh_failed_load = true;\n",
       "    } else if (force !== true) {\n",
       "      const cell = $(document.getElementById(\"ae52e95a-551d-4282-b0ce-d38d994986b0\")).parents('.cell').data().cell;\n",
       "      cell.output_area.append_execute_result(NB_LOAD_WARNING)\n",
       "    }\n",
       "  }\n",
       "\n",
       "  if (root._bokeh_is_loading === 0) {\n",
       "    console.debug(\"Bokeh: BokehJS loaded, going straight to plotting\");\n",
       "    run_inline_js();\n",
       "  } else {\n",
       "    load_libs(css_urls, js_urls, function() {\n",
       "      console.debug(\"Bokeh: BokehJS plotting callback run at\", now());\n",
       "      run_inline_js();\n",
       "    });\n",
       "  }\n",
       "}(window));"
      ],
      "application/vnd.bokehjs_load.v0+json": "'use strict';\n(function(root) {\n  function now() {\n    return new Date();\n  }\n\n  const force = true;\n\n  if (typeof root._bokeh_onload_callbacks === \"undefined\" || force === true) {\n    root._bokeh_onload_callbacks = [];\n    root._bokeh_is_loading = undefined;\n  }\n\n\n  if (typeof (root._bokeh_timeout) === \"undefined\" || force === true) {\n    root._bokeh_timeout = Date.now() + 5000;\n    root._bokeh_failed_load = false;\n  }\n\n  const NB_LOAD_WARNING = {'data': {'text/html':\n     \"<div style='background-color: #fdd'>\\n\"+\n     \"<p>\\n\"+\n     \"BokehJS does not appear to have successfully loaded. If loading BokehJS from CDN, this \\n\"+\n     \"may be due to a slow or bad network connection. Possible fixes:\\n\"+\n     \"</p>\\n\"+\n     \"<ul>\\n\"+\n     \"<li>re-rerun `output_notebook()` to attempt to load from CDN again, or</li>\\n\"+\n     \"<li>use INLINE resources instead, as so:</li>\\n\"+\n     \"</ul>\\n\"+\n     \"<code>\\n\"+\n     \"from bokeh.resources import INLINE\\n\"+\n     \"output_notebook(resources=INLINE)\\n\"+\n     \"</code>\\n\"+\n     \"</div>\"}};\n\n  function display_loaded(error = null) {\n    const el = document.getElementById(\"ae52e95a-551d-4282-b0ce-d38d994986b0\");\n    if (el != null) {\n      const html = (() => {\n        if (typeof root.Bokeh === \"undefined\") {\n          if (error == null) {\n            return \"BokehJS is loading ...\";\n          } else {\n            return \"BokehJS failed to load.\";\n          }\n        } else {\n          const prefix = `BokehJS ${root.Bokeh.version}`;\n          if (error == null) {\n            return `${prefix} successfully loaded.`;\n          } else {\n            return `${prefix} <b>encountered errors</b> while loading and may not function as expected.`;\n          }\n        }\n      })();\n      el.innerHTML = html;\n\n      if (error != null) {\n        const wrapper = document.createElement(\"div\");\n        wrapper.style.overflow = \"auto\";\n        wrapper.style.height = \"5em\";\n        wrapper.style.resize = \"vertical\";\n        const content = document.createElement(\"div\");\n        content.style.fontFamily = \"monospace\";\n        content.style.whiteSpace = \"pre-wrap\";\n        content.style.backgroundColor = \"rgb(255, 221, 221)\";\n        content.textContent = error.stack ?? error.toString();\n        wrapper.append(content);\n        el.append(wrapper);\n      }\n    } else if (Date.now() < root._bokeh_timeout) {\n      setTimeout(() => display_loaded(error), 100);\n    }\n  }\n\n  function run_callbacks() {\n    try {\n      root._bokeh_onload_callbacks.forEach(function(callback) {\n        if (callback != null)\n          callback();\n      });\n    } finally {\n      delete root._bokeh_onload_callbacks\n    }\n    console.debug(\"Bokeh: all callbacks have finished\");\n  }\n\n  function load_libs(css_urls, js_urls, callback) {\n    if (css_urls == null) css_urls = [];\n    if (js_urls == null) js_urls = [];\n\n    root._bokeh_onload_callbacks.push(callback);\n    if (root._bokeh_is_loading > 0) {\n      console.debug(\"Bokeh: BokehJS is being loaded, scheduling callback at\", now());\n      return null;\n    }\n    if (js_urls == null || js_urls.length === 0) {\n      run_callbacks();\n      return null;\n    }\n    console.debug(\"Bokeh: BokehJS not loaded, scheduling load and callback at\", now());\n    root._bokeh_is_loading = css_urls.length + js_urls.length;\n\n    function on_load() {\n      root._bokeh_is_loading--;\n      if (root._bokeh_is_loading === 0) {\n        console.debug(\"Bokeh: all BokehJS libraries/stylesheets loaded\");\n        run_callbacks()\n      }\n    }\n\n    function on_error(url) {\n      console.error(\"failed to load \" + url);\n    }\n\n    for (let i = 0; i < css_urls.length; i++) {\n      const url = css_urls[i];\n      const element = document.createElement(\"link\");\n      element.onload = on_load;\n      element.onerror = on_error.bind(null, url);\n      element.rel = \"stylesheet\";\n      element.type = \"text/css\";\n      element.href = url;\n      console.debug(\"Bokeh: injecting link tag for BokehJS stylesheet: \", url);\n      document.body.appendChild(element);\n    }\n\n    for (let i = 0; i < js_urls.length; i++) {\n      const url = js_urls[i];\n      const element = document.createElement('script');\n      element.onload = on_load;\n      element.onerror = on_error.bind(null, url);\n      element.async = false;\n      element.src = url;\n      console.debug(\"Bokeh: injecting script tag for BokehJS library: \", url);\n      document.head.appendChild(element);\n    }\n  };\n\n  function inject_raw_css(css) {\n    const element = document.createElement(\"style\");\n    element.appendChild(document.createTextNode(css));\n    document.body.appendChild(element);\n  }\n\n  const js_urls = [\"https://cdn.bokeh.org/bokeh/release/bokeh-3.6.0.min.js\", \"https://cdn.bokeh.org/bokeh/release/bokeh-gl-3.6.0.min.js\", \"https://cdn.bokeh.org/bokeh/release/bokeh-widgets-3.6.0.min.js\", \"https://cdn.bokeh.org/bokeh/release/bokeh-tables-3.6.0.min.js\", \"https://cdn.bokeh.org/bokeh/release/bokeh-mathjax-3.6.0.min.js\"];\n  const css_urls = [];\n\n  const inline_js = [    function(Bokeh) {\n      Bokeh.set_log_level(\"info\");\n    },\nfunction(Bokeh) {\n    }\n  ];\n\n  function run_inline_js() {\n    if (root.Bokeh !== undefined || force === true) {\n      try {\n            for (let i = 0; i < inline_js.length; i++) {\n      inline_js[i].call(root, root.Bokeh);\n    }\n\n      } catch (error) {display_loaded(error);throw error;\n      }if (force === true) {\n        display_loaded();\n      }} else if (Date.now() < root._bokeh_timeout) {\n      setTimeout(run_inline_js, 100);\n    } else if (!root._bokeh_failed_load) {\n      console.log(\"Bokeh: BokehJS failed to load within specified timeout.\");\n      root._bokeh_failed_load = true;\n    } else if (force !== true) {\n      const cell = $(document.getElementById(\"ae52e95a-551d-4282-b0ce-d38d994986b0\")).parents('.cell').data().cell;\n      cell.output_area.append_execute_result(NB_LOAD_WARNING)\n    }\n  }\n\n  if (root._bokeh_is_loading === 0) {\n    console.debug(\"Bokeh: BokehJS loaded, going straight to plotting\");\n    run_inline_js();\n  } else {\n    load_libs(css_urls, js_urls, function() {\n      console.debug(\"Bokeh: BokehJS plotting callback run at\", now());\n      run_inline_js();\n    });\n  }\n}(window));"
     },
     "metadata": {},
     "output_type": "display_data"
    },
    {
     "name": "stderr",
     "output_type": "stream",
     "text": [
      "2024-10-08 16:02:53 - generate-seismic-data - INFO - Generating synthetic data for shape (600, 600, 600)\n"
     ]
    }
   ],
   "source": [
    "import dask\n",
    "\n",
    "from bokeh.io import output_notebook\n",
    "from helpers.datasets import generate_seismic_data\n",
    "\n",
    "# Ensure Bokeh works properly in Jupyter\n",
    "output_notebook()\n",
    "\n",
    "# Disable GPU diagnostics in Dask\n",
    "dask.config.set({\"distributed.diagnostics.nvml\": False})\n",
    "\n",
    "# Create a synthetic seismic experiment\n",
    "DATA_OUTPUT_DIR = f'{OUTPUT_DIR}/experiment'\n",
    "synthetic_data_path = generate_seismic_data(\n",
    "    inlines=NUM_INLINES,\n",
    "    xlines=NUM_XLINES,\n",
    "    samples=NUM_SAMPLES,\n",
    "    output_dir=DATA_OUTPUT_DIR,\n",
    ")"
   ]
  },
  {
   "cell_type": "markdown",
   "id": "bafcc9e1-1824-436b-90d0-d59c6e28aebc",
   "metadata": {},
   "source": [
    "## Envelope"
   ]
  },
  {
   "cell_type": "markdown",
   "id": "15167d7d-a035-4c33-91b6-73a07dd0542a",
   "metadata": {},
   "source": [
    "### Auto-chunking"
   ]
  },
  {
   "cell_type": "code",
   "execution_count": 10,
   "id": "75c43fcb-b998-4afa-a3c4-09526aaac44c",
   "metadata": {},
   "outputs": [
    {
     "name": "stderr",
     "output_type": "stream",
     "text": [
      "/home/delucca/.pyenv/versions/3.10.14/envs/dask-auto-chunking/lib/python3.10/site-packages/distributed/node.py:187: UserWarning: Port 8787 is already in use.\n",
      "Perhaps you already have a cluster running?\n",
      "Hosting the HTTP server on port 43763 instead\n",
      "  warnings.warn(\n"
     ]
    },
    {
     "name": "stdout",
     "output_type": "stream",
     "text": [
      "Data shape:  (600, 600, 600)\n",
      "Chunks:  ((322, 278), (322, 278), (322, 278))\n",
      "Number of chunks along each axis: [2, 2, 2]\n"
     ]
    },
    {
     "name": "stderr",
     "output_type": "stream",
     "text": [
      "/home/delucca/.pyenv/versions/3.10.14/envs/dask-auto-chunking/lib/python3.10/site-packages/distributed/client.py:3361: UserWarning: Sending large graph of size 823.98 MiB.\n",
      "This may cause some slowdown.\n",
      "Consider loading the data with Dask directly\n",
      " or using futures or delayed objects to embed the data into the graph without repetition.\n",
      "See also https://docs.dask.org/en/stable/best-practices.html#load-data-with-dask for more information.\n",
      "  warnings.warn(\n"
     ]
    },
    {
     "name": "stdout",
     "output_type": "stream",
     "text": [
      "Execution time: 8.03 seconds\n"
     ]
    },
    {
     "data": {
      "text/html": [
       "\n",
       "  <div id=\"eeb80016-64c1-4bd7-aa75-2333b5c9272d\" data-root-id=\"p1169\" style=\"display: contents;\"></div>\n"
      ]
     },
     "metadata": {},
     "output_type": "display_data"
    },
    {
     "data": {
      "application/javascript": [
       "(function(root) {\n",
       "  function embed_document(root) {\n",
       "  const docs_json = {\"2d9c23bf-7e63-425b-aabf-625222fa53ea\":{\"version\":\"3.6.0\",\"title\":\"Bokeh Application\",\"roots\":[{\"type\":\"object\",\"name\":\"Figure\",\"id\":\"p1169\",\"attributes\":{\"width\":800,\"height\":300,\"x_range\":{\"type\":\"object\",\"name\":\"Range1d\",\"id\":\"p1179\",\"attributes\":{\"end\":9.027577543000007}},\"y_range\":{\"type\":\"object\",\"name\":\"Range1d\",\"id\":\"p1180\",\"attributes\":{\"end\":117.80000000000001}},\"x_scale\":{\"type\":\"object\",\"name\":\"LinearScale\",\"id\":\"p1181\"},\"y_scale\":{\"type\":\"object\",\"name\":\"LinearScale\",\"id\":\"p1182\"},\"extra_y_ranges\":{\"type\":\"map\",\"entries\":[[\"memory\",{\"type\":\"object\",\"name\":\"Range1d\",\"id\":\"p1208\",\"attributes\":{\"start\":6007.324672,\"end\":8918.249472}}]]},\"title\":{\"type\":\"object\",\"name\":\"Title\",\"id\":\"p1172\",\"attributes\":{\"text\":\"Profile Results\"}},\"renderers\":[{\"type\":\"object\",\"name\":\"GlyphRenderer\",\"id\":\"p1203\",\"attributes\":{\"data_source\":{\"type\":\"object\",\"name\":\"ColumnDataSource\",\"id\":\"p1197\",\"attributes\":{\"selected\":{\"type\":\"object\",\"name\":\"Selection\",\"id\":\"p1198\",\"attributes\":{\"indices\":[],\"line_indices\":[]}},\"selection_policy\":{\"type\":\"object\",\"name\":\"UnionRenderers\",\"id\":\"p1199\"},\"data\":{\"type\":\"map\",\"entries\":[[\"x\",[0.007319376999475935,1.0087949129992921,2.0102923909998935,3.0118879269994068,4.0134765819993845,5.014355977999912,6.015943332999996,7.017414349999854,8.018855609999264]],[\"y\",[0.0,106.9,104.9,104.8,112.9,113.9,113.8,110.9,117.80000000000001]]]}}},\"view\":{\"type\":\"object\",\"name\":\"CDSView\",\"id\":\"p1204\",\"attributes\":{\"filter\":{\"type\":\"object\",\"name\":\"AllIndices\",\"id\":\"p1205\"}}},\"glyph\":{\"type\":\"object\",\"name\":\"Line\",\"id\":\"p1200\",\"attributes\":{\"x\":{\"type\":\"field\",\"field\":\"x\"},\"y\":{\"type\":\"field\",\"field\":\"y\"},\"line_color\":\"#440154\",\"line_width\":4}},\"nonselection_glyph\":{\"type\":\"object\",\"name\":\"Line\",\"id\":\"p1201\",\"attributes\":{\"x\":{\"type\":\"field\",\"field\":\"x\"},\"y\":{\"type\":\"field\",\"field\":\"y\"},\"line_color\":\"#440154\",\"line_alpha\":0.1,\"line_width\":4}},\"muted_glyph\":{\"type\":\"object\",\"name\":\"Line\",\"id\":\"p1202\",\"attributes\":{\"x\":{\"type\":\"field\",\"field\":\"x\"},\"y\":{\"type\":\"field\",\"field\":\"y\"},\"line_color\":\"#440154\",\"line_alpha\":0.2,\"line_width\":4}}}},{\"type\":\"object\",\"name\":\"GlyphRenderer\",\"id\":\"p1215\",\"attributes\":{\"y_range_name\":\"memory\",\"data_source\":{\"type\":\"object\",\"name\":\"ColumnDataSource\",\"id\":\"p1209\",\"attributes\":{\"selected\":{\"type\":\"object\",\"name\":\"Selection\",\"id\":\"p1210\",\"attributes\":{\"indices\":[],\"line_indices\":[]}},\"selection_policy\":{\"type\":\"object\",\"name\":\"UnionRenderers\",\"id\":\"p1211\"},\"data\":{\"type\":\"map\",\"entries\":[[\"x\",[0.007319376999475935,1.0087949129992921,2.0102923909998935,3.0118879269994068,4.0134765819993845,5.014355977999912,6.015943332999996,7.017414349999854,8.018855609999264]],[\"y\",[6007.324672,6871.740416,7399.620608,7163.45344,8356.888576,8124.698624,8682.074112,8918.249472,7800.049664]]]}}},\"view\":{\"type\":\"object\",\"name\":\"CDSView\",\"id\":\"p1216\",\"attributes\":{\"filter\":{\"type\":\"object\",\"name\":\"AllIndices\",\"id\":\"p1217\"}}},\"glyph\":{\"type\":\"object\",\"name\":\"Line\",\"id\":\"p1212\",\"attributes\":{\"x\":{\"type\":\"field\",\"field\":\"x\"},\"y\":{\"type\":\"field\",\"field\":\"y\"},\"line_color\":\"#29788E\",\"line_width\":4}},\"nonselection_glyph\":{\"type\":\"object\",\"name\":\"Line\",\"id\":\"p1213\",\"attributes\":{\"x\":{\"type\":\"field\",\"field\":\"x\"},\"y\":{\"type\":\"field\",\"field\":\"y\"},\"line_color\":\"#29788E\",\"line_alpha\":0.1,\"line_width\":4}},\"muted_glyph\":{\"type\":\"object\",\"name\":\"Line\",\"id\":\"p1214\",\"attributes\":{\"x\":{\"type\":\"field\",\"field\":\"x\"},\"y\":{\"type\":\"field\",\"field\":\"y\"},\"line_color\":\"#29788E\",\"line_alpha\":0.2,\"line_width\":4}}}}],\"toolbar\":{\"type\":\"object\",\"name\":\"Toolbar\",\"id\":\"p1178\",\"attributes\":{\"tools\":[{\"type\":\"object\",\"name\":\"SaveTool\",\"id\":\"p1193\"},{\"type\":\"object\",\"name\":\"ResetTool\",\"id\":\"p1194\"},{\"type\":\"object\",\"name\":\"WheelZoomTool\",\"id\":\"p1195\",\"attributes\":{\"dimensions\":\"width\",\"renderers\":\"auto\"}},{\"type\":\"object\",\"name\":\"PanTool\",\"id\":\"p1196\",\"attributes\":{\"dimensions\":\"width\"}}]}},\"toolbar_location\":\"above\",\"left\":[{\"type\":\"object\",\"name\":\"LinearAxis\",\"id\":\"p1188\",\"attributes\":{\"ticker\":{\"type\":\"object\",\"name\":\"BasicTicker\",\"id\":\"p1189\",\"attributes\":{\"mantissas\":[1,2,5]}},\"formatter\":{\"type\":\"object\",\"name\":\"BasicTickFormatter\",\"id\":\"p1190\"},\"axis_label\":\"% CPU\",\"major_label_policy\":{\"type\":\"object\",\"name\":\"AllLabels\",\"id\":\"p1191\"}}}],\"right\":[{\"type\":\"object\",\"name\":\"LinearAxis\",\"id\":\"p1219\",\"attributes\":{\"y_range_name\":\"memory\",\"ticker\":{\"type\":\"object\",\"name\":\"BasicTicker\",\"id\":\"p1220\",\"attributes\":{\"mantissas\":[1,2,5]}},\"formatter\":{\"type\":\"object\",\"name\":\"BasicTickFormatter\",\"id\":\"p1221\"},\"axis_label\":\"Memory (MB)\",\"major_label_policy\":{\"type\":\"object\",\"name\":\"AllLabels\",\"id\":\"p1222\"}}}],\"below\":[{\"type\":\"object\",\"name\":\"LinearAxis\",\"id\":\"p1183\",\"attributes\":{\"ticker\":{\"type\":\"object\",\"name\":\"BasicTicker\",\"id\":\"p1184\",\"attributes\":{\"mantissas\":[1,2,5]}},\"formatter\":{\"type\":\"object\",\"name\":\"BasicTickFormatter\",\"id\":\"p1185\"},\"axis_label\":\"Time (s)\",\"major_label_policy\":{\"type\":\"object\",\"name\":\"AllLabels\",\"id\":\"p1186\"}}}],\"center\":[{\"type\":\"object\",\"name\":\"Grid\",\"id\":\"p1187\",\"attributes\":{\"axis\":{\"id\":\"p1183\"}}},{\"type\":\"object\",\"name\":\"Grid\",\"id\":\"p1192\",\"attributes\":{\"dimension\":1,\"axis\":{\"id\":\"p1188\"}}},{\"type\":\"object\",\"name\":\"Legend\",\"id\":\"p1206\",\"attributes\":{\"items\":[{\"type\":\"object\",\"name\":\"LegendItem\",\"id\":\"p1207\",\"attributes\":{\"label\":{\"type\":\"value\",\"value\":\"% CPU\"},\"renderers\":[{\"id\":\"p1203\"}]}},{\"type\":\"object\",\"name\":\"LegendItem\",\"id\":\"p1218\",\"attributes\":{\"label\":{\"type\":\"value\",\"value\":\"Memory\"},\"renderers\":[{\"id\":\"p1215\"}]}}]}}]}}]}};\n",
       "  const render_items = [{\"docid\":\"2d9c23bf-7e63-425b-aabf-625222fa53ea\",\"roots\":{\"p1169\":\"eeb80016-64c1-4bd7-aa75-2333b5c9272d\"},\"root_ids\":[\"p1169\"]}];\n",
       "  void root.Bokeh.embed.embed_items_notebook(docs_json, render_items);\n",
       "  }\n",
       "  if (root.Bokeh !== undefined) {\n",
       "    embed_document(root);\n",
       "  } else {\n",
       "    let attempts = 0;\n",
       "    const timer = setInterval(function(root) {\n",
       "      if (root.Bokeh !== undefined) {\n",
       "        clearInterval(timer);\n",
       "        embed_document(root);\n",
       "      } else {\n",
       "        attempts++;\n",
       "        if (attempts > 100) {\n",
       "          clearInterval(timer);\n",
       "          console.log(\"Bokeh: ERROR: Unable to run BokehJS code because BokehJS library is missing\");\n",
       "        }\n",
       "      }\n",
       "    }, 10, root)\n",
       "  }\n",
       "})(window);"
      ],
      "application/vnd.bokehjs_exec.v0+json": ""
     },
     "metadata": {
      "application/vnd.bokehjs_exec.v0+json": {
       "id": "p1169"
      }
     },
     "output_type": "display_data"
    }
   ],
   "source": [
    "import dask.array as da\n",
    "import time\n",
    "from dask.diagnostics import ResourceProfiler\n",
    "from dask.distributed import Client\n",
    "from helpers.dask_operators import envelope_from_ndarray, load_segy\n",
    "\n",
    "client = Client(n_workers=1, threads_per_worker=1, memory_limit='16GB')\n",
    "\n",
    "# Use Dask Profiler to monitor resource usage\n",
    "resource_profiler = ResourceProfiler()\n",
    "\n",
    "with resource_profiler:\n",
    "    start_time = time.time()\n",
    "    try:\n",
    "        synthetic_data = load_segy(synthetic_data_path)\n",
    "        print(\"Data shape: \", synthetic_data.shape)\n",
    "\n",
    "        X = da.from_array(synthetic_data, chunks='auto')\n",
    "        print(\"Chunks: \", X.chunks)\n",
    "        print(\"Number of chunks along each axis:\", [len(c) for c in X.chunks])\n",
    "\n",
    "        result = envelope_from_ndarray(X)\n",
    "    finally:\n",
    "        end_time = time.time()\n",
    "        client.close()\n",
    "\n",
    "execution_time = end_time - start_time\n",
    "print(f\"Execution time: {execution_time:.2f} seconds\")\n",
    "\n",
    "resource_visualization = resource_profiler.visualize()\n",
    "display(resource_visualization)"
   ]
  },
  {
   "cell_type": "markdown",
   "id": "2e1b74f3-9be0-40db-bb79-3cdcc261248e",
   "metadata": {},
   "source": [
    "### Modeled Chunk"
   ]
  },
  {
   "cell_type": "code",
   "execution_count": 7,
   "id": "caf7902b-4ce4-4fbc-9b34-e95c32f7f93b",
   "metadata": {},
   "outputs": [
    {
     "name": "stdout",
     "output_type": "stream",
     "text": [
      "The expected memory usage is 6462068.00 KB for the target shape (600, 600, 600)\n"
     ]
    }
   ],
   "source": [
    "import pickle\n",
    "import pandas as pd\n",
    "\n",
    "envelope_model = None\n",
    "\n",
    "with open('../models/memory_usage/output/models/envelope.pkl', 'rb') as file:\n",
    "    envelope_model = pickle.load(file)\n",
    "\n",
    "\n",
    "def extract_features(df):\n",
    "    # Interaction\n",
    "    df[\"inline_crossline\"] = df[\"inlines\"] * df[\"crosslines\"]\n",
    "    df[\"inline_sample\"] = df[\"inlines\"] * df[\"samples\"]\n",
    "    df[\"crossline_sample\"] = df[\"crosslines\"] * df[\"samples\"]\n",
    "    df[\"volume\"] = df[\"inlines\"] * df[\"crosslines\"] * df[\"samples\"]\n",
    "\n",
    "    # Logarithmic and Exponential Transformations\n",
    "    df['log_inlines'] = np.log1p(df['inlines'])\n",
    "    df['log_crosslines'] = np.log1p(df['crosslines'])\n",
    "    df['log_samples'] = np.log1p(df['samples'])\n",
    "\n",
    "    # Ratios\n",
    "    df['inline_to_crossline'] = df['inlines'] / (df['crosslines'] + 1)\n",
    "    df['inline_to_sample'] = df['inlines'] / (df['samples'] + 1)\n",
    "    df['crossline_to_sample'] = df['crosslines'] / (df['samples'] + 1)\n",
    "\n",
    "    # Statistical Aggregates\n",
    "    df['mean_inline_crossline'] = df[['inlines', 'crosslines']].mean(axis=1)\n",
    "    df['std_inline_crossline'] = df[['inlines', 'crosslines']].std(axis=1)\n",
    "\n",
    "    return df\n",
    "\n",
    "\n",
    "synthetic_data = load_segy(synthetic_data_path)\n",
    "target_df = pd.DataFrame([synthetic_data.shape], columns=['inlines', 'crosslines', 'samples'])\n",
    "target_df = extract_features(target_df)\n",
    "expected_memory_usage = envelope_model.predict(target_df)[0]\n",
    "\n",
    "print(f\"The expected memory usage is {expected_memory_usage:.2f} KB for the target shape {synthetic_data.shape}\")"
   ]
  },
  {
   "cell_type": "code",
   "execution_count": 12,
   "id": "29abcf67-2c5d-4474-9838-15bd58fa942f",
   "metadata": {},
   "outputs": [],
   "source": [
    "def get_optimal_chunk_size(shape, expected_memory_usage, client):\n",
    "    # Get scheduler information to retrieve worker details\n",
    "    scheduler_info = client.scheduler_info()\n",
    "    workers = scheduler_info['workers']\n",
    "    num_workers = len(workers)\n",
    "\n",
    "    # Initialize variables for worker resources\n",
    "    total_memory = 0\n",
    "\n",
    "    for worker, details in workers.items():\n",
    "        memory_limit = details['memory_limit']\n",
    "        total_memory += memory_limit\n",
    "\n",
    "    # Memory per worker (convert to GB)\n",
    "    memory_per_worker_gb = (total_memory / num_workers) / 1e9\n",
    "\n",
    "    print(f\"Total Workers: {num_workers}\")\n",
    "    print(f\"Memory per Worker: {memory_per_worker_gb:.2f} GB\")\n",
    "\n",
    "    # Predicted memory usage is in KB, so convert it to GB\n",
    "    expected_memory_usage_gb = expected_memory_usage / (1024 ** 2)\n",
    "\n",
    "    # Calculate the optimal chunk size\n",
    "    # If memory usage exceeds the per-worker memory, we need to reduce the chunk size\n",
    "    if expected_memory_usage_gb > memory_per_worker_gb:\n",
    "        print(\"Expected memory usage exceeds memory per worker. Reducing chunk size.\")\n",
    "        chunk_size_ratio = memory_per_worker_gb / expected_memory_usage_gb\n",
    "        chunk_size = tuple(int(dim * chunk_size_ratio) for dim in shape)\n",
    "    else:\n",
    "        # If memory usage is within limits, use full shape as chunk\n",
    "        chunk_size = shape\n",
    "\n",
    "    print(f\"Optimal Chunk Size: {chunk_size}\")\n",
    "    return chunk_size"
   ]
  },
  {
   "cell_type": "code",
   "execution_count": 8,
   "id": "30b7d57e-9dad-46a7-a0ab-e63803bd4126",
   "metadata": {},
   "outputs": [
    {
     "name": "stderr",
     "output_type": "stream",
     "text": [
      "/home/delucca/.pyenv/versions/3.10.14/envs/dask-auto-chunking/lib/python3.10/site-packages/distributed/node.py:187: UserWarning: Port 8787 is already in use.\n",
      "Perhaps you already have a cluster running?\n",
      "Hosting the HTTP server on port 45081 instead\n",
      "  warnings.warn(\n"
     ]
    },
    {
     "name": "stdout",
     "output_type": "stream",
     "text": [
      "Total Workers: 1\n",
      "Memory per Worker: 16.00 GB\n",
      "Optimal Chunk Size: (600, 600, 600)\n",
      "The optimal chunk size is (600, 600, 600)\n",
      "Data shape:  (600, 600, 600)\n",
      "Chunks:  ((600,), (600,), (600,))\n",
      "Number of chunks along each axis: [1, 1, 1]\n"
     ]
    },
    {
     "name": "stderr",
     "output_type": "stream",
     "text": [
      "/home/delucca/.pyenv/versions/3.10.14/envs/dask-auto-chunking/lib/python3.10/site-packages/distributed/client.py:3361: UserWarning: Sending large graph of size 823.98 MiB.\n",
      "This may cause some slowdown.\n",
      "Consider loading the data with Dask directly\n",
      " or using futures or delayed objects to embed the data into the graph without repetition.\n",
      "See also https://docs.dask.org/en/stable/best-practices.html#load-data-with-dask for more information.\n",
      "  warnings.warn(\n"
     ]
    },
    {
     "name": "stdout",
     "output_type": "stream",
     "text": [
      "Execution time: 5.43 seconds\n"
     ]
    },
    {
     "data": {
      "text/html": [
       "\n",
       "  <div id=\"be1dbfbd-58bc-4c3e-93d3-2a90b686d3d9\" data-root-id=\"p1057\" style=\"display: contents;\"></div>\n"
      ]
     },
     "metadata": {},
     "output_type": "display_data"
    },
    {
     "data": {
      "application/javascript": [
       "(function(root) {\n",
       "  function embed_document(root) {\n",
       "  const docs_json = {\"7ce03ef9-bc4f-42b9-928c-0ea5f5fbe856\":{\"version\":\"3.6.0\",\"title\":\"Bokeh Application\",\"roots\":[{\"type\":\"object\",\"name\":\"Figure\",\"id\":\"p1057\",\"attributes\":{\"width\":800,\"height\":300,\"x_range\":{\"type\":\"object\",\"name\":\"Range1d\",\"id\":\"p1067\",\"attributes\":{\"end\":6.022976725000262}},\"y_range\":{\"type\":\"object\",\"name\":\"Range1d\",\"id\":\"p1068\",\"attributes\":{\"end\":116.9}},\"x_scale\":{\"type\":\"object\",\"name\":\"LinearScale\",\"id\":\"p1069\"},\"y_scale\":{\"type\":\"object\",\"name\":\"LinearScale\",\"id\":\"p1070\"},\"extra_y_ranges\":{\"type\":\"map\",\"entries\":[[\"memory\",{\"type\":\"object\",\"name\":\"Range1d\",\"id\":\"p1096\",\"attributes\":{\"start\":5866.770432,\"end\":11859.505152}}]]},\"title\":{\"type\":\"object\",\"name\":\"Title\",\"id\":\"p1060\",\"attributes\":{\"text\":\"Profile Results\"}},\"renderers\":[{\"type\":\"object\",\"name\":\"GlyphRenderer\",\"id\":\"p1091\",\"attributes\":{\"data_source\":{\"type\":\"object\",\"name\":\"ColumnDataSource\",\"id\":\"p1085\",\"attributes\":{\"selected\":{\"type\":\"object\",\"name\":\"Selection\",\"id\":\"p1086\",\"attributes\":{\"indices\":[],\"line_indices\":[]}},\"selection_policy\":{\"type\":\"object\",\"name\":\"UnionRenderers\",\"id\":\"p1087\"},\"data\":{\"type\":\"map\",\"entries\":[[\"x\",[0.006869019000077969,1.0082268219994148,2.009588807,3.0109539300001416,4.012379220999719,5.013833945999977]],[\"y\",[0.0,107.9,116.9,107.9,110.8,110.9]]]}}},\"view\":{\"type\":\"object\",\"name\":\"CDSView\",\"id\":\"p1092\",\"attributes\":{\"filter\":{\"type\":\"object\",\"name\":\"AllIndices\",\"id\":\"p1093\"}}},\"glyph\":{\"type\":\"object\",\"name\":\"Line\",\"id\":\"p1088\",\"attributes\":{\"x\":{\"type\":\"field\",\"field\":\"x\"},\"y\":{\"type\":\"field\",\"field\":\"y\"},\"line_color\":\"#440154\",\"line_width\":4}},\"nonselection_glyph\":{\"type\":\"object\",\"name\":\"Line\",\"id\":\"p1089\",\"attributes\":{\"x\":{\"type\":\"field\",\"field\":\"x\"},\"y\":{\"type\":\"field\",\"field\":\"y\"},\"line_color\":\"#440154\",\"line_alpha\":0.1,\"line_width\":4}},\"muted_glyph\":{\"type\":\"object\",\"name\":\"Line\",\"id\":\"p1090\",\"attributes\":{\"x\":{\"type\":\"field\",\"field\":\"x\"},\"y\":{\"type\":\"field\",\"field\":\"y\"},\"line_color\":\"#440154\",\"line_alpha\":0.2,\"line_width\":4}}}},{\"type\":\"object\",\"name\":\"GlyphRenderer\",\"id\":\"p1103\",\"attributes\":{\"y_range_name\":\"memory\",\"data_source\":{\"type\":\"object\",\"name\":\"ColumnDataSource\",\"id\":\"p1097\",\"attributes\":{\"selected\":{\"type\":\"object\",\"name\":\"Selection\",\"id\":\"p1098\",\"attributes\":{\"indices\":[],\"line_indices\":[]}},\"selection_policy\":{\"type\":\"object\",\"name\":\"UnionRenderers\",\"id\":\"p1099\"},\"data\":{\"type\":\"map\",\"entries\":[[\"x\",[0.006869019000077969,1.0082268219994148,2.009588807,3.0109539300001416,4.012379220999719,5.013833945999977]],[\"y\",[5866.770432,5867.372544,7621.16096,10238.861312,11859.505152,9283.489792]]]}}},\"view\":{\"type\":\"object\",\"name\":\"CDSView\",\"id\":\"p1104\",\"attributes\":{\"filter\":{\"type\":\"object\",\"name\":\"AllIndices\",\"id\":\"p1105\"}}},\"glyph\":{\"type\":\"object\",\"name\":\"Line\",\"id\":\"p1100\",\"attributes\":{\"x\":{\"type\":\"field\",\"field\":\"x\"},\"y\":{\"type\":\"field\",\"field\":\"y\"},\"line_color\":\"#29788E\",\"line_width\":4}},\"nonselection_glyph\":{\"type\":\"object\",\"name\":\"Line\",\"id\":\"p1101\",\"attributes\":{\"x\":{\"type\":\"field\",\"field\":\"x\"},\"y\":{\"type\":\"field\",\"field\":\"y\"},\"line_color\":\"#29788E\",\"line_alpha\":0.1,\"line_width\":4}},\"muted_glyph\":{\"type\":\"object\",\"name\":\"Line\",\"id\":\"p1102\",\"attributes\":{\"x\":{\"type\":\"field\",\"field\":\"x\"},\"y\":{\"type\":\"field\",\"field\":\"y\"},\"line_color\":\"#29788E\",\"line_alpha\":0.2,\"line_width\":4}}}}],\"toolbar\":{\"type\":\"object\",\"name\":\"Toolbar\",\"id\":\"p1066\",\"attributes\":{\"tools\":[{\"type\":\"object\",\"name\":\"SaveTool\",\"id\":\"p1081\"},{\"type\":\"object\",\"name\":\"ResetTool\",\"id\":\"p1082\"},{\"type\":\"object\",\"name\":\"WheelZoomTool\",\"id\":\"p1083\",\"attributes\":{\"dimensions\":\"width\",\"renderers\":\"auto\"}},{\"type\":\"object\",\"name\":\"PanTool\",\"id\":\"p1084\",\"attributes\":{\"dimensions\":\"width\"}}]}},\"toolbar_location\":\"above\",\"left\":[{\"type\":\"object\",\"name\":\"LinearAxis\",\"id\":\"p1076\",\"attributes\":{\"ticker\":{\"type\":\"object\",\"name\":\"BasicTicker\",\"id\":\"p1077\",\"attributes\":{\"mantissas\":[1,2,5]}},\"formatter\":{\"type\":\"object\",\"name\":\"BasicTickFormatter\",\"id\":\"p1078\"},\"axis_label\":\"% CPU\",\"major_label_policy\":{\"type\":\"object\",\"name\":\"AllLabels\",\"id\":\"p1079\"}}}],\"right\":[{\"type\":\"object\",\"name\":\"LinearAxis\",\"id\":\"p1107\",\"attributes\":{\"y_range_name\":\"memory\",\"ticker\":{\"type\":\"object\",\"name\":\"BasicTicker\",\"id\":\"p1108\",\"attributes\":{\"mantissas\":[1,2,5]}},\"formatter\":{\"type\":\"object\",\"name\":\"BasicTickFormatter\",\"id\":\"p1109\"},\"axis_label\":\"Memory (MB)\",\"major_label_policy\":{\"type\":\"object\",\"name\":\"AllLabels\",\"id\":\"p1110\"}}}],\"below\":[{\"type\":\"object\",\"name\":\"LinearAxis\",\"id\":\"p1071\",\"attributes\":{\"ticker\":{\"type\":\"object\",\"name\":\"BasicTicker\",\"id\":\"p1072\",\"attributes\":{\"mantissas\":[1,2,5]}},\"formatter\":{\"type\":\"object\",\"name\":\"BasicTickFormatter\",\"id\":\"p1073\"},\"axis_label\":\"Time (s)\",\"major_label_policy\":{\"type\":\"object\",\"name\":\"AllLabels\",\"id\":\"p1074\"}}}],\"center\":[{\"type\":\"object\",\"name\":\"Grid\",\"id\":\"p1075\",\"attributes\":{\"axis\":{\"id\":\"p1071\"}}},{\"type\":\"object\",\"name\":\"Grid\",\"id\":\"p1080\",\"attributes\":{\"dimension\":1,\"axis\":{\"id\":\"p1076\"}}},{\"type\":\"object\",\"name\":\"Legend\",\"id\":\"p1094\",\"attributes\":{\"items\":[{\"type\":\"object\",\"name\":\"LegendItem\",\"id\":\"p1095\",\"attributes\":{\"label\":{\"type\":\"value\",\"value\":\"% CPU\"},\"renderers\":[{\"id\":\"p1091\"}]}},{\"type\":\"object\",\"name\":\"LegendItem\",\"id\":\"p1106\",\"attributes\":{\"label\":{\"type\":\"value\",\"value\":\"Memory\"},\"renderers\":[{\"id\":\"p1103\"}]}}]}}]}}]}};\n",
       "  const render_items = [{\"docid\":\"7ce03ef9-bc4f-42b9-928c-0ea5f5fbe856\",\"roots\":{\"p1057\":\"be1dbfbd-58bc-4c3e-93d3-2a90b686d3d9\"},\"root_ids\":[\"p1057\"]}];\n",
       "  void root.Bokeh.embed.embed_items_notebook(docs_json, render_items);\n",
       "  }\n",
       "  if (root.Bokeh !== undefined) {\n",
       "    embed_document(root);\n",
       "  } else {\n",
       "    let attempts = 0;\n",
       "    const timer = setInterval(function(root) {\n",
       "      if (root.Bokeh !== undefined) {\n",
       "        clearInterval(timer);\n",
       "        embed_document(root);\n",
       "      } else {\n",
       "        attempts++;\n",
       "        if (attempts > 100) {\n",
       "          clearInterval(timer);\n",
       "          console.log(\"Bokeh: ERROR: Unable to run BokehJS code because BokehJS library is missing\");\n",
       "        }\n",
       "      }\n",
       "    }, 10, root)\n",
       "  }\n",
       "})(window);"
      ],
      "application/vnd.bokehjs_exec.v0+json": ""
     },
     "metadata": {
      "application/vnd.bokehjs_exec.v0+json": {
       "id": "p1057"
      }
     },
     "output_type": "display_data"
    },
    {
     "data": {
      "text/html": [
       "<div style=\"display: table;\"><div style=\"display: table-row;\"><div style=\"display: table-cell;\"><b title=\"bokeh.plotting._figure.figure\">figure</b>(</div><div style=\"display: table-cell;\">id&nbsp;=&nbsp;'p1057', <span id=\"p1112\" style=\"cursor: pointer;\">&hellip;)</span></div></div><div class=\"p1111\" style=\"display: none;\"><div style=\"display: table-cell;\"></div><div style=\"display: table-cell;\">above&nbsp;=&nbsp;[],</div></div><div class=\"p1111\" style=\"display: none;\"><div style=\"display: table-cell;\"></div><div style=\"display: table-cell;\">align&nbsp;=&nbsp;'auto',</div></div><div class=\"p1111\" style=\"display: none;\"><div style=\"display: table-cell;\"></div><div style=\"display: table-cell;\">aspect_ratio&nbsp;=&nbsp;None,</div></div><div class=\"p1111\" style=\"display: none;\"><div style=\"display: table-cell;\"></div><div style=\"display: table-cell;\">aspect_scale&nbsp;=&nbsp;1,</div></div><div class=\"p1111\" style=\"display: none;\"><div style=\"display: table-cell;\"></div><div style=\"display: table-cell;\">attribution&nbsp;=&nbsp;[],</div></div><div class=\"p1111\" style=\"display: none;\"><div style=\"display: table-cell;\"></div><div style=\"display: table-cell;\">background_fill_alpha&nbsp;=&nbsp;1.0,</div></div><div class=\"p1111\" style=\"display: none;\"><div style=\"display: table-cell;\"></div><div style=\"display: table-cell;\">background_fill_color&nbsp;=&nbsp;'#ffffff',</div></div><div class=\"p1111\" style=\"display: none;\"><div style=\"display: table-cell;\"></div><div style=\"display: table-cell;\">below&nbsp;=&nbsp;[LinearAxis(id='p1071', ...)],</div></div><div class=\"p1111\" style=\"display: none;\"><div style=\"display: table-cell;\"></div><div style=\"display: table-cell;\">border_fill_alpha&nbsp;=&nbsp;1.0,</div></div><div class=\"p1111\" style=\"display: none;\"><div style=\"display: table-cell;\"></div><div style=\"display: table-cell;\">border_fill_color&nbsp;=&nbsp;'#ffffff',</div></div><div class=\"p1111\" style=\"display: none;\"><div style=\"display: table-cell;\"></div><div style=\"display: table-cell;\">center&nbsp;=&nbsp;[Grid(id='p1075', ...), Grid(id='p1080', ...), Legend(id='p1094', ...)],</div></div><div class=\"p1111\" style=\"display: none;\"><div style=\"display: table-cell;\"></div><div style=\"display: table-cell;\">context_menu&nbsp;=&nbsp;None,</div></div><div class=\"p1111\" style=\"display: none;\"><div style=\"display: table-cell;\"></div><div style=\"display: table-cell;\">css_classes&nbsp;=&nbsp;[],</div></div><div class=\"p1111\" style=\"display: none;\"><div style=\"display: table-cell;\"></div><div style=\"display: table-cell;\">css_variables&nbsp;=&nbsp;{},</div></div><div class=\"p1111\" style=\"display: none;\"><div style=\"display: table-cell;\"></div><div style=\"display: table-cell;\">disabled&nbsp;=&nbsp;False,</div></div><div class=\"p1111\" style=\"display: none;\"><div style=\"display: table-cell;\"></div><div style=\"display: table-cell;\">elements&nbsp;=&nbsp;[],</div></div><div class=\"p1111\" style=\"display: none;\"><div style=\"display: table-cell;\"></div><div style=\"display: table-cell;\">extra_x_ranges&nbsp;=&nbsp;{},</div></div><div class=\"p1111\" style=\"display: none;\"><div style=\"display: table-cell;\"></div><div style=\"display: table-cell;\">extra_x_scales&nbsp;=&nbsp;{},</div></div><div class=\"p1111\" style=\"display: none;\"><div style=\"display: table-cell;\"></div><div style=\"display: table-cell;\">extra_y_ranges&nbsp;=&nbsp;{'memory': Range1d(id='p1096', ...)},</div></div><div class=\"p1111\" style=\"display: none;\"><div style=\"display: table-cell;\"></div><div style=\"display: table-cell;\">extra_y_scales&nbsp;=&nbsp;{},</div></div><div class=\"p1111\" style=\"display: none;\"><div style=\"display: table-cell;\"></div><div style=\"display: table-cell;\">flow_mode&nbsp;=&nbsp;'block',</div></div><div class=\"p1111\" style=\"display: none;\"><div style=\"display: table-cell;\"></div><div style=\"display: table-cell;\">frame_align&nbsp;=&nbsp;True,</div></div><div class=\"p1111\" style=\"display: none;\"><div style=\"display: table-cell;\"></div><div style=\"display: table-cell;\">frame_height&nbsp;=&nbsp;None,</div></div><div class=\"p1111\" style=\"display: none;\"><div style=\"display: table-cell;\"></div><div style=\"display: table-cell;\">frame_width&nbsp;=&nbsp;None,</div></div><div class=\"p1111\" style=\"display: none;\"><div style=\"display: table-cell;\"></div><div style=\"display: table-cell;\">height&nbsp;=&nbsp;300,</div></div><div class=\"p1111\" style=\"display: none;\"><div style=\"display: table-cell;\"></div><div style=\"display: table-cell;\">height_policy&nbsp;=&nbsp;'auto',</div></div><div class=\"p1111\" style=\"display: none;\"><div style=\"display: table-cell;\"></div><div style=\"display: table-cell;\">hidpi&nbsp;=&nbsp;True,</div></div><div class=\"p1111\" style=\"display: none;\"><div style=\"display: table-cell;\"></div><div style=\"display: table-cell;\">hold_render&nbsp;=&nbsp;False,</div></div><div class=\"p1111\" style=\"display: none;\"><div style=\"display: table-cell;\"></div><div style=\"display: table-cell;\">js_event_callbacks&nbsp;=&nbsp;{},</div></div><div class=\"p1111\" style=\"display: none;\"><div style=\"display: table-cell;\"></div><div style=\"display: table-cell;\">js_property_callbacks&nbsp;=&nbsp;{},</div></div><div class=\"p1111\" style=\"display: none;\"><div style=\"display: table-cell;\"></div><div style=\"display: table-cell;\">left&nbsp;=&nbsp;[LinearAxis(id='p1076', ...)],</div></div><div class=\"p1111\" style=\"display: none;\"><div style=\"display: table-cell;\"></div><div style=\"display: table-cell;\">lod_factor&nbsp;=&nbsp;10,</div></div><div class=\"p1111\" style=\"display: none;\"><div style=\"display: table-cell;\"></div><div style=\"display: table-cell;\">lod_interval&nbsp;=&nbsp;300,</div></div><div class=\"p1111\" style=\"display: none;\"><div style=\"display: table-cell;\"></div><div style=\"display: table-cell;\">lod_threshold&nbsp;=&nbsp;2000,</div></div><div class=\"p1111\" style=\"display: none;\"><div style=\"display: table-cell;\"></div><div style=\"display: table-cell;\">lod_timeout&nbsp;=&nbsp;500,</div></div><div class=\"p1111\" style=\"display: none;\"><div style=\"display: table-cell;\"></div><div style=\"display: table-cell;\">margin&nbsp;=&nbsp;None,</div></div><div class=\"p1111\" style=\"display: none;\"><div style=\"display: table-cell;\"></div><div style=\"display: table-cell;\">match_aspect&nbsp;=&nbsp;False,</div></div><div class=\"p1111\" style=\"display: none;\"><div style=\"display: table-cell;\"></div><div style=\"display: table-cell;\">max_height&nbsp;=&nbsp;None,</div></div><div class=\"p1111\" style=\"display: none;\"><div style=\"display: table-cell;\"></div><div style=\"display: table-cell;\">max_width&nbsp;=&nbsp;None,</div></div><div class=\"p1111\" style=\"display: none;\"><div style=\"display: table-cell;\"></div><div style=\"display: table-cell;\">min_border&nbsp;=&nbsp;5,</div></div><div class=\"p1111\" style=\"display: none;\"><div style=\"display: table-cell;\"></div><div style=\"display: table-cell;\">min_border_bottom&nbsp;=&nbsp;None,</div></div><div class=\"p1111\" style=\"display: none;\"><div style=\"display: table-cell;\"></div><div style=\"display: table-cell;\">min_border_left&nbsp;=&nbsp;None,</div></div><div class=\"p1111\" style=\"display: none;\"><div style=\"display: table-cell;\"></div><div style=\"display: table-cell;\">min_border_right&nbsp;=&nbsp;None,</div></div><div class=\"p1111\" style=\"display: none;\"><div style=\"display: table-cell;\"></div><div style=\"display: table-cell;\">min_border_top&nbsp;=&nbsp;None,</div></div><div class=\"p1111\" style=\"display: none;\"><div style=\"display: table-cell;\"></div><div style=\"display: table-cell;\">min_height&nbsp;=&nbsp;None,</div></div><div class=\"p1111\" style=\"display: none;\"><div style=\"display: table-cell;\"></div><div style=\"display: table-cell;\">min_width&nbsp;=&nbsp;None,</div></div><div class=\"p1111\" style=\"display: none;\"><div style=\"display: table-cell;\"></div><div style=\"display: table-cell;\">name&nbsp;=&nbsp;None,</div></div><div class=\"p1111\" style=\"display: none;\"><div style=\"display: table-cell;\"></div><div style=\"display: table-cell;\">outline_line_alpha&nbsp;=&nbsp;1.0,</div></div><div class=\"p1111\" style=\"display: none;\"><div style=\"display: table-cell;\"></div><div style=\"display: table-cell;\">outline_line_cap&nbsp;=&nbsp;'butt',</div></div><div class=\"p1111\" style=\"display: none;\"><div style=\"display: table-cell;\"></div><div style=\"display: table-cell;\">outline_line_color&nbsp;=&nbsp;'#e5e5e5',</div></div><div class=\"p1111\" style=\"display: none;\"><div style=\"display: table-cell;\"></div><div style=\"display: table-cell;\">outline_line_dash&nbsp;=&nbsp;[],</div></div><div class=\"p1111\" style=\"display: none;\"><div style=\"display: table-cell;\"></div><div style=\"display: table-cell;\">outline_line_dash_offset&nbsp;=&nbsp;0,</div></div><div class=\"p1111\" style=\"display: none;\"><div style=\"display: table-cell;\"></div><div style=\"display: table-cell;\">outline_line_join&nbsp;=&nbsp;'bevel',</div></div><div class=\"p1111\" style=\"display: none;\"><div style=\"display: table-cell;\"></div><div style=\"display: table-cell;\">outline_line_width&nbsp;=&nbsp;1,</div></div><div class=\"p1111\" style=\"display: none;\"><div style=\"display: table-cell;\"></div><div style=\"display: table-cell;\">output_backend&nbsp;=&nbsp;'canvas',</div></div><div class=\"p1111\" style=\"display: none;\"><div style=\"display: table-cell;\"></div><div style=\"display: table-cell;\">renderers&nbsp;=&nbsp;[GlyphRenderer(id='p1091', ...), GlyphRenderer(id='p1103', ...)],</div></div><div class=\"p1111\" style=\"display: none;\"><div style=\"display: table-cell;\"></div><div style=\"display: table-cell;\">reset_policy&nbsp;=&nbsp;'standard',</div></div><div class=\"p1111\" style=\"display: none;\"><div style=\"display: table-cell;\"></div><div style=\"display: table-cell;\">resizable&nbsp;=&nbsp;False,</div></div><div class=\"p1111\" style=\"display: none;\"><div style=\"display: table-cell;\"></div><div style=\"display: table-cell;\">right&nbsp;=&nbsp;[LinearAxis(id='p1107', ...)],</div></div><div class=\"p1111\" style=\"display: none;\"><div style=\"display: table-cell;\"></div><div style=\"display: table-cell;\">sizing_mode&nbsp;=&nbsp;None,</div></div><div class=\"p1111\" style=\"display: none;\"><div style=\"display: table-cell;\"></div><div style=\"display: table-cell;\">styles&nbsp;=&nbsp;{},</div></div><div class=\"p1111\" style=\"display: none;\"><div style=\"display: table-cell;\"></div><div style=\"display: table-cell;\">stylesheets&nbsp;=&nbsp;[],</div></div><div class=\"p1111\" style=\"display: none;\"><div style=\"display: table-cell;\"></div><div style=\"display: table-cell;\">subscribed_events&nbsp;=&nbsp;PropertyValueSet(),</div></div><div class=\"p1111\" style=\"display: none;\"><div style=\"display: table-cell;\"></div><div style=\"display: table-cell;\">syncable&nbsp;=&nbsp;True,</div></div><div class=\"p1111\" style=\"display: none;\"><div style=\"display: table-cell;\"></div><div style=\"display: table-cell;\">tags&nbsp;=&nbsp;[],</div></div><div class=\"p1111\" style=\"display: none;\"><div style=\"display: table-cell;\"></div><div style=\"display: table-cell;\">title&nbsp;=&nbsp;Title(id='p1060', ...),</div></div><div class=\"p1111\" style=\"display: none;\"><div style=\"display: table-cell;\"></div><div style=\"display: table-cell;\">title_location&nbsp;=&nbsp;'above',</div></div><div class=\"p1111\" style=\"display: none;\"><div style=\"display: table-cell;\"></div><div style=\"display: table-cell;\">toolbar&nbsp;=&nbsp;Toolbar(id='p1066', ...),</div></div><div class=\"p1111\" style=\"display: none;\"><div style=\"display: table-cell;\"></div><div style=\"display: table-cell;\">toolbar_inner&nbsp;=&nbsp;False,</div></div><div class=\"p1111\" style=\"display: none;\"><div style=\"display: table-cell;\"></div><div style=\"display: table-cell;\">toolbar_location&nbsp;=&nbsp;'above',</div></div><div class=\"p1111\" style=\"display: none;\"><div style=\"display: table-cell;\"></div><div style=\"display: table-cell;\">toolbar_sticky&nbsp;=&nbsp;True,</div></div><div class=\"p1111\" style=\"display: none;\"><div style=\"display: table-cell;\"></div><div style=\"display: table-cell;\">visible&nbsp;=&nbsp;True,</div></div><div class=\"p1111\" style=\"display: none;\"><div style=\"display: table-cell;\"></div><div style=\"display: table-cell;\">width&nbsp;=&nbsp;800,</div></div><div class=\"p1111\" style=\"display: none;\"><div style=\"display: table-cell;\"></div><div style=\"display: table-cell;\">width_policy&nbsp;=&nbsp;'auto',</div></div><div class=\"p1111\" style=\"display: none;\"><div style=\"display: table-cell;\"></div><div style=\"display: table-cell;\">x_range&nbsp;=&nbsp;Range1d(id='p1067', ...),</div></div><div class=\"p1111\" style=\"display: none;\"><div style=\"display: table-cell;\"></div><div style=\"display: table-cell;\">x_scale&nbsp;=&nbsp;LinearScale(id='p1069', ...),</div></div><div class=\"p1111\" style=\"display: none;\"><div style=\"display: table-cell;\"></div><div style=\"display: table-cell;\">y_range&nbsp;=&nbsp;Range1d(id='p1068', ...),</div></div><div class=\"p1111\" style=\"display: none;\"><div style=\"display: table-cell;\"></div><div style=\"display: table-cell;\">y_scale&nbsp;=&nbsp;LinearScale(id='p1070', ...))</div></div></div>\n",
       "<script>\n",
       "(function() {\n",
       "  let expanded = false;\n",
       "  const ellipsis = document.getElementById(\"p1112\");\n",
       "  ellipsis.addEventListener(\"click\", function() {\n",
       "    const rows = document.getElementsByClassName(\"p1111\");\n",
       "    for (let i = 0; i < rows.length; i++) {\n",
       "      const el = rows[i];\n",
       "      el.style.display = expanded ? \"none\" : \"table-row\";\n",
       "    }\n",
       "    ellipsis.innerHTML = expanded ? \"&hellip;)\" : \"&lsaquo;&lsaquo;&lsaquo;\";\n",
       "    expanded = !expanded;\n",
       "  });\n",
       "})();\n",
       "</script>\n"
      ],
      "text/plain": [
       "figure(id='p1057', ...)"
      ]
     },
     "metadata": {},
     "output_type": "display_data"
    }
   ],
   "source": [
    "import numpy as np\n",
    "import dask.array as da\n",
    "from dask.diagnostics import ResourceProfiler\n",
    "from dask.distributed import Client\n",
    "from helpers.dask_operators import envelope_from_ndarray, load_segy\n",
    "\n",
    "client = Client(n_workers=1, threads_per_worker=1, memory_limit='16GB')\n",
    "\n",
    "# Example usage based on your synthetic experiment shape and model's prediction\n",
    "synthetic_data_shape = synthetic_data.shape  # Assuming shape is something like (inlines, crosslines, samples)\n",
    "expected_memory_usage_kb = envelope_model.predict(target_df)[0]  # Model output in KB\n",
    "\n",
    "optimal_chunk_size = get_optimal_chunk_size(synthetic_data_shape, expected_memory_usage_kb, client)\n",
    "print(f\"The optimal chunk size is {optimal_chunk_size}\")\n",
    "\n",
    "# Use Dask Profiler to monitor resource usage\n",
    "resource_profiler = ResourceProfiler()\n",
    "\n",
    "with resource_profiler:\n",
    "    start_time = time.time()\n",
    "    try:\n",
    "        synthetic_data = load_segy(synthetic_data_path)\n",
    "        print(\"Data shape: \", synthetic_data.shape)\n",
    "\n",
    "        X = da.from_array(synthetic_data, chunks=optimal_chunk_size)\n",
    "        print(\"Chunks: \", X.chunks)\n",
    "        print(\"Number of chunks along each axis:\", [len(c) for c in X.chunks])\n",
    "\n",
    "        result = envelope_from_ndarray(X)\n",
    "    finally:\n",
    "        end_time = time.time()\n",
    "        client.close()\n",
    "\n",
    "execution_time = end_time - start_time\n",
    "print(f\"Execution time: {execution_time:.2f} seconds\")\n",
    "\n",
    "resource_visualization = resource_profiler.visualize()\n",
    "display(resource_visualization)"
   ]
  },
  {
   "cell_type": "markdown",
   "id": "5c0ce6eb-4694-4d4c-b020-74395936977b",
   "metadata": {},
   "source": [
    "## Evaluating with a few workers"
   ]
  },
  {
   "cell_type": "code",
   "execution_count": 22,
   "id": "49917ff2-2601-4b0e-8c54-d732d6447810",
   "metadata": {},
   "outputs": [],
   "source": [
    "n_workers = 5\n",
    "n_threads = 5"
   ]
  },
  {
   "cell_type": "markdown",
   "id": "31e26140-f35e-4803-aa63-913920858f3e",
   "metadata": {},
   "source": [
    "### Auto-chunking"
   ]
  },
  {
   "cell_type": "code",
   "execution_count": 23,
   "id": "36b9ea2b-1178-421d-a667-5da4ae410986",
   "metadata": {},
   "outputs": [
    {
     "name": "stderr",
     "output_type": "stream",
     "text": [
      "/home/delucca/.pyenv/versions/3.10.14/envs/dask-auto-chunking/lib/python3.10/site-packages/distributed/node.py:187: UserWarning: Port 8787 is already in use.\n",
      "Perhaps you already have a cluster running?\n",
      "Hosting the HTTP server on port 44111 instead\n",
      "  warnings.warn(\n"
     ]
    },
    {
     "name": "stdout",
     "output_type": "stream",
     "text": [
      "Data shape:  (600, 600, 600)\n",
      "Chunks:  ((322, 278), (322, 278), (322, 278))\n",
      "Number of chunks along each axis: [2, 2, 2]\n"
     ]
    },
    {
     "name": "stderr",
     "output_type": "stream",
     "text": [
      "/home/delucca/.pyenv/versions/3.10.14/envs/dask-auto-chunking/lib/python3.10/site-packages/distributed/client.py:3361: UserWarning: Sending large graph of size 823.98 MiB.\n",
      "This may cause some slowdown.\n",
      "Consider loading the data with Dask directly\n",
      " or using futures or delayed objects to embed the data into the graph without repetition.\n",
      "See also https://docs.dask.org/en/stable/best-practices.html#load-data-with-dask for more information.\n",
      "  warnings.warn(\n"
     ]
    },
    {
     "name": "stdout",
     "output_type": "stream",
     "text": [
      "Execution time: 6.16 seconds\n"
     ]
    },
    {
     "data": {
      "text/html": [
       "\n",
       "  <div id=\"c7f8e526-f958-40f9-aea3-975526539319\" data-root-id=\"p1615\" style=\"display: contents;\"></div>\n"
      ]
     },
     "metadata": {},
     "output_type": "display_data"
    },
    {
     "data": {
      "application/javascript": [
       "(function(root) {\n",
       "  function embed_document(root) {\n",
       "  const docs_json = {\"6ffadef2-6295-4644-88ae-5a6271190116\":{\"version\":\"3.6.0\",\"title\":\"Bokeh Application\",\"roots\":[{\"type\":\"object\",\"name\":\"Figure\",\"id\":\"p1615\",\"attributes\":{\"width\":800,\"height\":300,\"x_range\":{\"type\":\"object\",\"name\":\"Range1d\",\"id\":\"p1625\",\"attributes\":{\"end\":7.045610135000061}},\"y_range\":{\"type\":\"object\",\"name\":\"Range1d\",\"id\":\"p1626\",\"attributes\":{\"end\":898.4000000000001}},\"x_scale\":{\"type\":\"object\",\"name\":\"LinearScale\",\"id\":\"p1627\"},\"y_scale\":{\"type\":\"object\",\"name\":\"LinearScale\",\"id\":\"p1628\"},\"extra_y_ranges\":{\"type\":\"map\",\"entries\":[[\"memory\",{\"type\":\"object\",\"name\":\"Range1d\",\"id\":\"p1654\",\"attributes\":{\"start\":10855.559168,\"end\":16975.33952}}]]},\"title\":{\"type\":\"object\",\"name\":\"Title\",\"id\":\"p1618\",\"attributes\":{\"text\":\"Profile Results\"}},\"renderers\":[{\"type\":\"object\",\"name\":\"GlyphRenderer\",\"id\":\"p1649\",\"attributes\":{\"data_source\":{\"type\":\"object\",\"name\":\"ColumnDataSource\",\"id\":\"p1643\",\"attributes\":{\"selected\":{\"type\":\"object\",\"name\":\"Selection\",\"id\":\"p1644\",\"attributes\":{\"indices\":[],\"line_indices\":[]}},\"selection_policy\":{\"type\":\"object\",\"name\":\"UnionRenderers\",\"id\":\"p1645\"},\"data\":{\"type\":\"map\",\"entries\":[[\"x\",[0.01626271000077395,1.018042529000013,2.019809083000837,3.021615639000629,4.023532711000371,5.025232886000595,6.026541791000454]],[\"y\",[0.0,139.8,132.8,133.8,382.4,898.4000000000001,340.7]]]}}},\"view\":{\"type\":\"object\",\"name\":\"CDSView\",\"id\":\"p1650\",\"attributes\":{\"filter\":{\"type\":\"object\",\"name\":\"AllIndices\",\"id\":\"p1651\"}}},\"glyph\":{\"type\":\"object\",\"name\":\"Line\",\"id\":\"p1646\",\"attributes\":{\"x\":{\"type\":\"field\",\"field\":\"x\"},\"y\":{\"type\":\"field\",\"field\":\"y\"},\"line_color\":\"#440154\",\"line_width\":4}},\"nonselection_glyph\":{\"type\":\"object\",\"name\":\"Line\",\"id\":\"p1647\",\"attributes\":{\"x\":{\"type\":\"field\",\"field\":\"x\"},\"y\":{\"type\":\"field\",\"field\":\"y\"},\"line_color\":\"#440154\",\"line_alpha\":0.1,\"line_width\":4}},\"muted_glyph\":{\"type\":\"object\",\"name\":\"Line\",\"id\":\"p1648\",\"attributes\":{\"x\":{\"type\":\"field\",\"field\":\"x\"},\"y\":{\"type\":\"field\",\"field\":\"y\"},\"line_color\":\"#440154\",\"line_alpha\":0.2,\"line_width\":4}}}},{\"type\":\"object\",\"name\":\"GlyphRenderer\",\"id\":\"p1661\",\"attributes\":{\"y_range_name\":\"memory\",\"data_source\":{\"type\":\"object\",\"name\":\"ColumnDataSource\",\"id\":\"p1655\",\"attributes\":{\"selected\":{\"type\":\"object\",\"name\":\"Selection\",\"id\":\"p1656\",\"attributes\":{\"indices\":[],\"line_indices\":[]}},\"selection_policy\":{\"type\":\"object\",\"name\":\"UnionRenderers\",\"id\":\"p1657\"},\"data\":{\"type\":\"map\",\"entries\":[[\"x\",[0.01626271000077395,1.018042529000013,2.019809083000837,3.021615639000629,4.023532711000371,5.025232886000595,6.026541791000454]],[\"y\",[10855.559168,11720.425472,12051.566592,11721.469952,14551.576576,16975.33952,12250.370048]]]}}},\"view\":{\"type\":\"object\",\"name\":\"CDSView\",\"id\":\"p1662\",\"attributes\":{\"filter\":{\"type\":\"object\",\"name\":\"AllIndices\",\"id\":\"p1663\"}}},\"glyph\":{\"type\":\"object\",\"name\":\"Line\",\"id\":\"p1658\",\"attributes\":{\"x\":{\"type\":\"field\",\"field\":\"x\"},\"y\":{\"type\":\"field\",\"field\":\"y\"},\"line_color\":\"#29788E\",\"line_width\":4}},\"nonselection_glyph\":{\"type\":\"object\",\"name\":\"Line\",\"id\":\"p1659\",\"attributes\":{\"x\":{\"type\":\"field\",\"field\":\"x\"},\"y\":{\"type\":\"field\",\"field\":\"y\"},\"line_color\":\"#29788E\",\"line_alpha\":0.1,\"line_width\":4}},\"muted_glyph\":{\"type\":\"object\",\"name\":\"Line\",\"id\":\"p1660\",\"attributes\":{\"x\":{\"type\":\"field\",\"field\":\"x\"},\"y\":{\"type\":\"field\",\"field\":\"y\"},\"line_color\":\"#29788E\",\"line_alpha\":0.2,\"line_width\":4}}}}],\"toolbar\":{\"type\":\"object\",\"name\":\"Toolbar\",\"id\":\"p1624\",\"attributes\":{\"tools\":[{\"type\":\"object\",\"name\":\"SaveTool\",\"id\":\"p1639\"},{\"type\":\"object\",\"name\":\"ResetTool\",\"id\":\"p1640\"},{\"type\":\"object\",\"name\":\"WheelZoomTool\",\"id\":\"p1641\",\"attributes\":{\"dimensions\":\"width\",\"renderers\":\"auto\"}},{\"type\":\"object\",\"name\":\"PanTool\",\"id\":\"p1642\",\"attributes\":{\"dimensions\":\"width\"}}]}},\"toolbar_location\":\"above\",\"left\":[{\"type\":\"object\",\"name\":\"LinearAxis\",\"id\":\"p1634\",\"attributes\":{\"ticker\":{\"type\":\"object\",\"name\":\"BasicTicker\",\"id\":\"p1635\",\"attributes\":{\"mantissas\":[1,2,5]}},\"formatter\":{\"type\":\"object\",\"name\":\"BasicTickFormatter\",\"id\":\"p1636\"},\"axis_label\":\"% CPU\",\"major_label_policy\":{\"type\":\"object\",\"name\":\"AllLabels\",\"id\":\"p1637\"}}}],\"right\":[{\"type\":\"object\",\"name\":\"LinearAxis\",\"id\":\"p1665\",\"attributes\":{\"y_range_name\":\"memory\",\"ticker\":{\"type\":\"object\",\"name\":\"BasicTicker\",\"id\":\"p1666\",\"attributes\":{\"mantissas\":[1,2,5]}},\"formatter\":{\"type\":\"object\",\"name\":\"BasicTickFormatter\",\"id\":\"p1667\"},\"axis_label\":\"Memory (MB)\",\"major_label_policy\":{\"type\":\"object\",\"name\":\"AllLabels\",\"id\":\"p1668\"}}}],\"below\":[{\"type\":\"object\",\"name\":\"LinearAxis\",\"id\":\"p1629\",\"attributes\":{\"ticker\":{\"type\":\"object\",\"name\":\"BasicTicker\",\"id\":\"p1630\",\"attributes\":{\"mantissas\":[1,2,5]}},\"formatter\":{\"type\":\"object\",\"name\":\"BasicTickFormatter\",\"id\":\"p1631\"},\"axis_label\":\"Time (s)\",\"major_label_policy\":{\"type\":\"object\",\"name\":\"AllLabels\",\"id\":\"p1632\"}}}],\"center\":[{\"type\":\"object\",\"name\":\"Grid\",\"id\":\"p1633\",\"attributes\":{\"axis\":{\"id\":\"p1629\"}}},{\"type\":\"object\",\"name\":\"Grid\",\"id\":\"p1638\",\"attributes\":{\"dimension\":1,\"axis\":{\"id\":\"p1634\"}}},{\"type\":\"object\",\"name\":\"Legend\",\"id\":\"p1652\",\"attributes\":{\"items\":[{\"type\":\"object\",\"name\":\"LegendItem\",\"id\":\"p1653\",\"attributes\":{\"label\":{\"type\":\"value\",\"value\":\"% CPU\"},\"renderers\":[{\"id\":\"p1649\"}]}},{\"type\":\"object\",\"name\":\"LegendItem\",\"id\":\"p1664\",\"attributes\":{\"label\":{\"type\":\"value\",\"value\":\"Memory\"},\"renderers\":[{\"id\":\"p1661\"}]}}]}}]}}]}};\n",
       "  const render_items = [{\"docid\":\"6ffadef2-6295-4644-88ae-5a6271190116\",\"roots\":{\"p1615\":\"c7f8e526-f958-40f9-aea3-975526539319\"},\"root_ids\":[\"p1615\"]}];\n",
       "  void root.Bokeh.embed.embed_items_notebook(docs_json, render_items);\n",
       "  }\n",
       "  if (root.Bokeh !== undefined) {\n",
       "    embed_document(root);\n",
       "  } else {\n",
       "    let attempts = 0;\n",
       "    const timer = setInterval(function(root) {\n",
       "      if (root.Bokeh !== undefined) {\n",
       "        clearInterval(timer);\n",
       "        embed_document(root);\n",
       "      } else {\n",
       "        attempts++;\n",
       "        if (attempts > 100) {\n",
       "          clearInterval(timer);\n",
       "          console.log(\"Bokeh: ERROR: Unable to run BokehJS code because BokehJS library is missing\");\n",
       "        }\n",
       "      }\n",
       "    }, 10, root)\n",
       "  }\n",
       "})(window);"
      ],
      "application/vnd.bokehjs_exec.v0+json": ""
     },
     "metadata": {
      "application/vnd.bokehjs_exec.v0+json": {
       "id": "p1615"
      }
     },
     "output_type": "display_data"
    },
    {
     "data": {
      "text/html": [
       "<div style=\"display: table;\"><div style=\"display: table-row;\"><div style=\"display: table-cell;\"><b title=\"bokeh.plotting._figure.figure\">figure</b>(</div><div style=\"display: table-cell;\">id&nbsp;=&nbsp;'p1615', <span id=\"p1670\" style=\"cursor: pointer;\">&hellip;)</span></div></div><div class=\"p1669\" style=\"display: none;\"><div style=\"display: table-cell;\"></div><div style=\"display: table-cell;\">above&nbsp;=&nbsp;[],</div></div><div class=\"p1669\" style=\"display: none;\"><div style=\"display: table-cell;\"></div><div style=\"display: table-cell;\">align&nbsp;=&nbsp;'auto',</div></div><div class=\"p1669\" style=\"display: none;\"><div style=\"display: table-cell;\"></div><div style=\"display: table-cell;\">aspect_ratio&nbsp;=&nbsp;None,</div></div><div class=\"p1669\" style=\"display: none;\"><div style=\"display: table-cell;\"></div><div style=\"display: table-cell;\">aspect_scale&nbsp;=&nbsp;1,</div></div><div class=\"p1669\" style=\"display: none;\"><div style=\"display: table-cell;\"></div><div style=\"display: table-cell;\">attribution&nbsp;=&nbsp;[],</div></div><div class=\"p1669\" style=\"display: none;\"><div style=\"display: table-cell;\"></div><div style=\"display: table-cell;\">background_fill_alpha&nbsp;=&nbsp;1.0,</div></div><div class=\"p1669\" style=\"display: none;\"><div style=\"display: table-cell;\"></div><div style=\"display: table-cell;\">background_fill_color&nbsp;=&nbsp;'#ffffff',</div></div><div class=\"p1669\" style=\"display: none;\"><div style=\"display: table-cell;\"></div><div style=\"display: table-cell;\">below&nbsp;=&nbsp;[LinearAxis(id='p1629', ...)],</div></div><div class=\"p1669\" style=\"display: none;\"><div style=\"display: table-cell;\"></div><div style=\"display: table-cell;\">border_fill_alpha&nbsp;=&nbsp;1.0,</div></div><div class=\"p1669\" style=\"display: none;\"><div style=\"display: table-cell;\"></div><div style=\"display: table-cell;\">border_fill_color&nbsp;=&nbsp;'#ffffff',</div></div><div class=\"p1669\" style=\"display: none;\"><div style=\"display: table-cell;\"></div><div style=\"display: table-cell;\">center&nbsp;=&nbsp;[Grid(id='p1633', ...), Grid(id='p1638', ...), Legend(id='p1652', ...)],</div></div><div class=\"p1669\" style=\"display: none;\"><div style=\"display: table-cell;\"></div><div style=\"display: table-cell;\">context_menu&nbsp;=&nbsp;None,</div></div><div class=\"p1669\" style=\"display: none;\"><div style=\"display: table-cell;\"></div><div style=\"display: table-cell;\">css_classes&nbsp;=&nbsp;[],</div></div><div class=\"p1669\" style=\"display: none;\"><div style=\"display: table-cell;\"></div><div style=\"display: table-cell;\">css_variables&nbsp;=&nbsp;{},</div></div><div class=\"p1669\" style=\"display: none;\"><div style=\"display: table-cell;\"></div><div style=\"display: table-cell;\">disabled&nbsp;=&nbsp;False,</div></div><div class=\"p1669\" style=\"display: none;\"><div style=\"display: table-cell;\"></div><div style=\"display: table-cell;\">elements&nbsp;=&nbsp;[],</div></div><div class=\"p1669\" style=\"display: none;\"><div style=\"display: table-cell;\"></div><div style=\"display: table-cell;\">extra_x_ranges&nbsp;=&nbsp;{},</div></div><div class=\"p1669\" style=\"display: none;\"><div style=\"display: table-cell;\"></div><div style=\"display: table-cell;\">extra_x_scales&nbsp;=&nbsp;{},</div></div><div class=\"p1669\" style=\"display: none;\"><div style=\"display: table-cell;\"></div><div style=\"display: table-cell;\">extra_y_ranges&nbsp;=&nbsp;{'memory': Range1d(id='p1654', ...)},</div></div><div class=\"p1669\" style=\"display: none;\"><div style=\"display: table-cell;\"></div><div style=\"display: table-cell;\">extra_y_scales&nbsp;=&nbsp;{},</div></div><div class=\"p1669\" style=\"display: none;\"><div style=\"display: table-cell;\"></div><div style=\"display: table-cell;\">flow_mode&nbsp;=&nbsp;'block',</div></div><div class=\"p1669\" style=\"display: none;\"><div style=\"display: table-cell;\"></div><div style=\"display: table-cell;\">frame_align&nbsp;=&nbsp;True,</div></div><div class=\"p1669\" style=\"display: none;\"><div style=\"display: table-cell;\"></div><div style=\"display: table-cell;\">frame_height&nbsp;=&nbsp;None,</div></div><div class=\"p1669\" style=\"display: none;\"><div style=\"display: table-cell;\"></div><div style=\"display: table-cell;\">frame_width&nbsp;=&nbsp;None,</div></div><div class=\"p1669\" style=\"display: none;\"><div style=\"display: table-cell;\"></div><div style=\"display: table-cell;\">height&nbsp;=&nbsp;300,</div></div><div class=\"p1669\" style=\"display: none;\"><div style=\"display: table-cell;\"></div><div style=\"display: table-cell;\">height_policy&nbsp;=&nbsp;'auto',</div></div><div class=\"p1669\" style=\"display: none;\"><div style=\"display: table-cell;\"></div><div style=\"display: table-cell;\">hidpi&nbsp;=&nbsp;True,</div></div><div class=\"p1669\" style=\"display: none;\"><div style=\"display: table-cell;\"></div><div style=\"display: table-cell;\">hold_render&nbsp;=&nbsp;False,</div></div><div class=\"p1669\" style=\"display: none;\"><div style=\"display: table-cell;\"></div><div style=\"display: table-cell;\">js_event_callbacks&nbsp;=&nbsp;{},</div></div><div class=\"p1669\" style=\"display: none;\"><div style=\"display: table-cell;\"></div><div style=\"display: table-cell;\">js_property_callbacks&nbsp;=&nbsp;{},</div></div><div class=\"p1669\" style=\"display: none;\"><div style=\"display: table-cell;\"></div><div style=\"display: table-cell;\">left&nbsp;=&nbsp;[LinearAxis(id='p1634', ...)],</div></div><div class=\"p1669\" style=\"display: none;\"><div style=\"display: table-cell;\"></div><div style=\"display: table-cell;\">lod_factor&nbsp;=&nbsp;10,</div></div><div class=\"p1669\" style=\"display: none;\"><div style=\"display: table-cell;\"></div><div style=\"display: table-cell;\">lod_interval&nbsp;=&nbsp;300,</div></div><div class=\"p1669\" style=\"display: none;\"><div style=\"display: table-cell;\"></div><div style=\"display: table-cell;\">lod_threshold&nbsp;=&nbsp;2000,</div></div><div class=\"p1669\" style=\"display: none;\"><div style=\"display: table-cell;\"></div><div style=\"display: table-cell;\">lod_timeout&nbsp;=&nbsp;500,</div></div><div class=\"p1669\" style=\"display: none;\"><div style=\"display: table-cell;\"></div><div style=\"display: table-cell;\">margin&nbsp;=&nbsp;None,</div></div><div class=\"p1669\" style=\"display: none;\"><div style=\"display: table-cell;\"></div><div style=\"display: table-cell;\">match_aspect&nbsp;=&nbsp;False,</div></div><div class=\"p1669\" style=\"display: none;\"><div style=\"display: table-cell;\"></div><div style=\"display: table-cell;\">max_height&nbsp;=&nbsp;None,</div></div><div class=\"p1669\" style=\"display: none;\"><div style=\"display: table-cell;\"></div><div style=\"display: table-cell;\">max_width&nbsp;=&nbsp;None,</div></div><div class=\"p1669\" style=\"display: none;\"><div style=\"display: table-cell;\"></div><div style=\"display: table-cell;\">min_border&nbsp;=&nbsp;5,</div></div><div class=\"p1669\" style=\"display: none;\"><div style=\"display: table-cell;\"></div><div style=\"display: table-cell;\">min_border_bottom&nbsp;=&nbsp;None,</div></div><div class=\"p1669\" style=\"display: none;\"><div style=\"display: table-cell;\"></div><div style=\"display: table-cell;\">min_border_left&nbsp;=&nbsp;None,</div></div><div class=\"p1669\" style=\"display: none;\"><div style=\"display: table-cell;\"></div><div style=\"display: table-cell;\">min_border_right&nbsp;=&nbsp;None,</div></div><div class=\"p1669\" style=\"display: none;\"><div style=\"display: table-cell;\"></div><div style=\"display: table-cell;\">min_border_top&nbsp;=&nbsp;None,</div></div><div class=\"p1669\" style=\"display: none;\"><div style=\"display: table-cell;\"></div><div style=\"display: table-cell;\">min_height&nbsp;=&nbsp;None,</div></div><div class=\"p1669\" style=\"display: none;\"><div style=\"display: table-cell;\"></div><div style=\"display: table-cell;\">min_width&nbsp;=&nbsp;None,</div></div><div class=\"p1669\" style=\"display: none;\"><div style=\"display: table-cell;\"></div><div style=\"display: table-cell;\">name&nbsp;=&nbsp;None,</div></div><div class=\"p1669\" style=\"display: none;\"><div style=\"display: table-cell;\"></div><div style=\"display: table-cell;\">outline_line_alpha&nbsp;=&nbsp;1.0,</div></div><div class=\"p1669\" style=\"display: none;\"><div style=\"display: table-cell;\"></div><div style=\"display: table-cell;\">outline_line_cap&nbsp;=&nbsp;'butt',</div></div><div class=\"p1669\" style=\"display: none;\"><div style=\"display: table-cell;\"></div><div style=\"display: table-cell;\">outline_line_color&nbsp;=&nbsp;'#e5e5e5',</div></div><div class=\"p1669\" style=\"display: none;\"><div style=\"display: table-cell;\"></div><div style=\"display: table-cell;\">outline_line_dash&nbsp;=&nbsp;[],</div></div><div class=\"p1669\" style=\"display: none;\"><div style=\"display: table-cell;\"></div><div style=\"display: table-cell;\">outline_line_dash_offset&nbsp;=&nbsp;0,</div></div><div class=\"p1669\" style=\"display: none;\"><div style=\"display: table-cell;\"></div><div style=\"display: table-cell;\">outline_line_join&nbsp;=&nbsp;'bevel',</div></div><div class=\"p1669\" style=\"display: none;\"><div style=\"display: table-cell;\"></div><div style=\"display: table-cell;\">outline_line_width&nbsp;=&nbsp;1,</div></div><div class=\"p1669\" style=\"display: none;\"><div style=\"display: table-cell;\"></div><div style=\"display: table-cell;\">output_backend&nbsp;=&nbsp;'canvas',</div></div><div class=\"p1669\" style=\"display: none;\"><div style=\"display: table-cell;\"></div><div style=\"display: table-cell;\">renderers&nbsp;=&nbsp;[GlyphRenderer(id='p1649', ...), GlyphRenderer(id='p1661', ...)],</div></div><div class=\"p1669\" style=\"display: none;\"><div style=\"display: table-cell;\"></div><div style=\"display: table-cell;\">reset_policy&nbsp;=&nbsp;'standard',</div></div><div class=\"p1669\" style=\"display: none;\"><div style=\"display: table-cell;\"></div><div style=\"display: table-cell;\">resizable&nbsp;=&nbsp;False,</div></div><div class=\"p1669\" style=\"display: none;\"><div style=\"display: table-cell;\"></div><div style=\"display: table-cell;\">right&nbsp;=&nbsp;[LinearAxis(id='p1665', ...)],</div></div><div class=\"p1669\" style=\"display: none;\"><div style=\"display: table-cell;\"></div><div style=\"display: table-cell;\">sizing_mode&nbsp;=&nbsp;None,</div></div><div class=\"p1669\" style=\"display: none;\"><div style=\"display: table-cell;\"></div><div style=\"display: table-cell;\">styles&nbsp;=&nbsp;{},</div></div><div class=\"p1669\" style=\"display: none;\"><div style=\"display: table-cell;\"></div><div style=\"display: table-cell;\">stylesheets&nbsp;=&nbsp;[],</div></div><div class=\"p1669\" style=\"display: none;\"><div style=\"display: table-cell;\"></div><div style=\"display: table-cell;\">subscribed_events&nbsp;=&nbsp;PropertyValueSet(),</div></div><div class=\"p1669\" style=\"display: none;\"><div style=\"display: table-cell;\"></div><div style=\"display: table-cell;\">syncable&nbsp;=&nbsp;True,</div></div><div class=\"p1669\" style=\"display: none;\"><div style=\"display: table-cell;\"></div><div style=\"display: table-cell;\">tags&nbsp;=&nbsp;[],</div></div><div class=\"p1669\" style=\"display: none;\"><div style=\"display: table-cell;\"></div><div style=\"display: table-cell;\">title&nbsp;=&nbsp;Title(id='p1618', ...),</div></div><div class=\"p1669\" style=\"display: none;\"><div style=\"display: table-cell;\"></div><div style=\"display: table-cell;\">title_location&nbsp;=&nbsp;'above',</div></div><div class=\"p1669\" style=\"display: none;\"><div style=\"display: table-cell;\"></div><div style=\"display: table-cell;\">toolbar&nbsp;=&nbsp;Toolbar(id='p1624', ...),</div></div><div class=\"p1669\" style=\"display: none;\"><div style=\"display: table-cell;\"></div><div style=\"display: table-cell;\">toolbar_inner&nbsp;=&nbsp;False,</div></div><div class=\"p1669\" style=\"display: none;\"><div style=\"display: table-cell;\"></div><div style=\"display: table-cell;\">toolbar_location&nbsp;=&nbsp;'above',</div></div><div class=\"p1669\" style=\"display: none;\"><div style=\"display: table-cell;\"></div><div style=\"display: table-cell;\">toolbar_sticky&nbsp;=&nbsp;True,</div></div><div class=\"p1669\" style=\"display: none;\"><div style=\"display: table-cell;\"></div><div style=\"display: table-cell;\">visible&nbsp;=&nbsp;True,</div></div><div class=\"p1669\" style=\"display: none;\"><div style=\"display: table-cell;\"></div><div style=\"display: table-cell;\">width&nbsp;=&nbsp;800,</div></div><div class=\"p1669\" style=\"display: none;\"><div style=\"display: table-cell;\"></div><div style=\"display: table-cell;\">width_policy&nbsp;=&nbsp;'auto',</div></div><div class=\"p1669\" style=\"display: none;\"><div style=\"display: table-cell;\"></div><div style=\"display: table-cell;\">x_range&nbsp;=&nbsp;Range1d(id='p1625', ...),</div></div><div class=\"p1669\" style=\"display: none;\"><div style=\"display: table-cell;\"></div><div style=\"display: table-cell;\">x_scale&nbsp;=&nbsp;LinearScale(id='p1627', ...),</div></div><div class=\"p1669\" style=\"display: none;\"><div style=\"display: table-cell;\"></div><div style=\"display: table-cell;\">y_range&nbsp;=&nbsp;Range1d(id='p1626', ...),</div></div><div class=\"p1669\" style=\"display: none;\"><div style=\"display: table-cell;\"></div><div style=\"display: table-cell;\">y_scale&nbsp;=&nbsp;LinearScale(id='p1628', ...))</div></div></div>\n",
       "<script>\n",
       "(function() {\n",
       "  let expanded = false;\n",
       "  const ellipsis = document.getElementById(\"p1670\");\n",
       "  ellipsis.addEventListener(\"click\", function() {\n",
       "    const rows = document.getElementsByClassName(\"p1669\");\n",
       "    for (let i = 0; i < rows.length; i++) {\n",
       "      const el = rows[i];\n",
       "      el.style.display = expanded ? \"none\" : \"table-row\";\n",
       "    }\n",
       "    ellipsis.innerHTML = expanded ? \"&hellip;)\" : \"&lsaquo;&lsaquo;&lsaquo;\";\n",
       "    expanded = !expanded;\n",
       "  });\n",
       "})();\n",
       "</script>\n"
      ],
      "text/plain": [
       "figure(id='p1615', ...)"
      ]
     },
     "metadata": {},
     "output_type": "display_data"
    }
   ],
   "source": [
    "client = Client(n_workers=n_workers, memory_limit=f'{16 / n_workers}GB')\n",
    "\n",
    "# Use Dask Profiler to monitor resource usage\n",
    "resource_profiler = ResourceProfiler()\n",
    "\n",
    "with resource_profiler:\n",
    "    start_time = time.time()\n",
    "    try:\n",
    "        synthetic_data = load_segy(synthetic_data_path)\n",
    "        print(\"Data shape: \", synthetic_data.shape)\n",
    "\n",
    "        X = da.from_array(synthetic_data, chunks='auto')\n",
    "        print(\"Chunks: \", X.chunks)\n",
    "        print(\"Number of chunks along each axis:\", [len(c) for c in X.chunks])\n",
    "\n",
    "        result = envelope_from_ndarray(X)\n",
    "    finally:\n",
    "        end_time = time.time()\n",
    "        client.close()\n",
    "\n",
    "execution_time = end_time - start_time\n",
    "print(f\"Execution time: {execution_time:.2f} seconds\")\n",
    "\n",
    "resource_visualization = resource_profiler.visualize()\n",
    "display(resource_visualization)"
   ]
  },
  {
   "cell_type": "markdown",
   "id": "1ff117aa-2270-46f4-a17d-11a1c3c210a6",
   "metadata": {},
   "source": [
    "### Modeled chunking"
   ]
  },
  {
   "cell_type": "code",
   "execution_count": 24,
   "id": "fdeabcb6-18e4-4b40-ab4a-f1849dacc58b",
   "metadata": {},
   "outputs": [
    {
     "name": "stderr",
     "output_type": "stream",
     "text": [
      "/home/delucca/.pyenv/versions/3.10.14/envs/dask-auto-chunking/lib/python3.10/site-packages/distributed/node.py:187: UserWarning: Port 8787 is already in use.\n",
      "Perhaps you already have a cluster running?\n",
      "Hosting the HTTP server on port 36163 instead\n",
      "  warnings.warn(\n"
     ]
    },
    {
     "name": "stdout",
     "output_type": "stream",
     "text": [
      "Total Workers: 5\n",
      "Memory per Worker: 3.20 GB\n",
      "Expected memory usage exceeds memory per worker. Reducing chunk size.\n",
      "Optimal Chunk Size: (311, 311, 311)\n",
      "The optimal chunk size is (311, 311, 311)\n",
      "Data shape:  (600, 600, 600)\n",
      "Chunks:  ((311, 289), (311, 289), (311, 289))\n",
      "Number of chunks along each axis: [2, 2, 2]\n"
     ]
    },
    {
     "name": "stderr",
     "output_type": "stream",
     "text": [
      "/home/delucca/.pyenv/versions/3.10.14/envs/dask-auto-chunking/lib/python3.10/site-packages/distributed/client.py:3361: UserWarning: Sending large graph of size 823.98 MiB.\n",
      "This may cause some slowdown.\n",
      "Consider loading the data with Dask directly\n",
      " or using futures or delayed objects to embed the data into the graph without repetition.\n",
      "See also https://docs.dask.org/en/stable/best-practices.html#load-data-with-dask for more information.\n",
      "  warnings.warn(\n"
     ]
    },
    {
     "name": "stdout",
     "output_type": "stream",
     "text": [
      "Execution time: 6.29 seconds\n"
     ]
    },
    {
     "data": {
      "text/html": [
       "\n",
       "  <div id=\"bbdbded8-a49c-4465-a09f-688ec29bbebf\" data-root-id=\"p1671\" style=\"display: contents;\"></div>\n"
      ]
     },
     "metadata": {},
     "output_type": "display_data"
    },
    {
     "data": {
      "application/javascript": [
       "(function(root) {\n",
       "  function embed_document(root) {\n",
       "  const docs_json = {\"66a96463-f97b-44fd-a01c-02c77188b113\":{\"version\":\"3.6.0\",\"title\":\"Bokeh Application\",\"roots\":[{\"type\":\"object\",\"name\":\"Figure\",\"id\":\"p1671\",\"attributes\":{\"width\":800,\"height\":300,\"x_range\":{\"type\":\"object\",\"name\":\"Range1d\",\"id\":\"p1681\",\"attributes\":{\"end\":7.048493393000172}},\"y_range\":{\"type\":\"object\",\"name\":\"Range1d\",\"id\":\"p1682\",\"attributes\":{\"end\":651.8}},\"x_scale\":{\"type\":\"object\",\"name\":\"LinearScale\",\"id\":\"p1683\"},\"y_scale\":{\"type\":\"object\",\"name\":\"LinearScale\",\"id\":\"p1684\"},\"extra_y_ranges\":{\"type\":\"map\",\"entries\":[[\"memory\",{\"type\":\"object\",\"name\":\"Range1d\",\"id\":\"p1710\",\"attributes\":{\"start\":10856.157184,\"end\":17003.1104}}]]},\"title\":{\"type\":\"object\",\"name\":\"Title\",\"id\":\"p1674\",\"attributes\":{\"text\":\"Profile Results\"}},\"renderers\":[{\"type\":\"object\",\"name\":\"GlyphRenderer\",\"id\":\"p1705\",\"attributes\":{\"data_source\":{\"type\":\"object\",\"name\":\"ColumnDataSource\",\"id\":\"p1699\",\"attributes\":{\"selected\":{\"type\":\"object\",\"name\":\"Selection\",\"id\":\"p1700\",\"attributes\":{\"indices\":[],\"line_indices\":[]}},\"selection_policy\":{\"type\":\"object\",\"name\":\"UnionRenderers\",\"id\":\"p1701\"},\"data\":{\"type\":\"map\",\"entries\":[[\"x\",[0.016744855000069947,1.0175427929998477,2.019387461000406,3.020889913999781,4.0228160730002855,5.024947212999905,6.027582648000134]],[\"y\",[0.0,142.9,130.8,134.8,651.8,546.8,164.7]]]}}},\"view\":{\"type\":\"object\",\"name\":\"CDSView\",\"id\":\"p1706\",\"attributes\":{\"filter\":{\"type\":\"object\",\"name\":\"AllIndices\",\"id\":\"p1707\"}}},\"glyph\":{\"type\":\"object\",\"name\":\"Line\",\"id\":\"p1702\",\"attributes\":{\"x\":{\"type\":\"field\",\"field\":\"x\"},\"y\":{\"type\":\"field\",\"field\":\"y\"},\"line_color\":\"#440154\",\"line_width\":4}},\"nonselection_glyph\":{\"type\":\"object\",\"name\":\"Line\",\"id\":\"p1703\",\"attributes\":{\"x\":{\"type\":\"field\",\"field\":\"x\"},\"y\":{\"type\":\"field\",\"field\":\"y\"},\"line_color\":\"#440154\",\"line_alpha\":0.1,\"line_width\":4}},\"muted_glyph\":{\"type\":\"object\",\"name\":\"Line\",\"id\":\"p1704\",\"attributes\":{\"x\":{\"type\":\"field\",\"field\":\"x\"},\"y\":{\"type\":\"field\",\"field\":\"y\"},\"line_color\":\"#440154\",\"line_alpha\":0.2,\"line_width\":4}}}},{\"type\":\"object\",\"name\":\"GlyphRenderer\",\"id\":\"p1717\",\"attributes\":{\"y_range_name\":\"memory\",\"data_source\":{\"type\":\"object\",\"name\":\"ColumnDataSource\",\"id\":\"p1711\",\"attributes\":{\"selected\":{\"type\":\"object\",\"name\":\"Selection\",\"id\":\"p1712\",\"attributes\":{\"indices\":[],\"line_indices\":[]}},\"selection_policy\":{\"type\":\"object\",\"name\":\"UnionRenderers\",\"id\":\"p1713\"},\"data\":{\"type\":\"map\",\"entries\":[[\"x\",[0.016744855000069947,1.0175427929998477,2.019387461000406,3.020889913999781,4.0228160730002855,5.024947212999905,6.027582648000134]],[\"y\",[10856.157184,11722.252288,12420.620288,12021.805056,17003.1104,15049.080832,14976.802816]]]}}},\"view\":{\"type\":\"object\",\"name\":\"CDSView\",\"id\":\"p1718\",\"attributes\":{\"filter\":{\"type\":\"object\",\"name\":\"AllIndices\",\"id\":\"p1719\"}}},\"glyph\":{\"type\":\"object\",\"name\":\"Line\",\"id\":\"p1714\",\"attributes\":{\"x\":{\"type\":\"field\",\"field\":\"x\"},\"y\":{\"type\":\"field\",\"field\":\"y\"},\"line_color\":\"#29788E\",\"line_width\":4}},\"nonselection_glyph\":{\"type\":\"object\",\"name\":\"Line\",\"id\":\"p1715\",\"attributes\":{\"x\":{\"type\":\"field\",\"field\":\"x\"},\"y\":{\"type\":\"field\",\"field\":\"y\"},\"line_color\":\"#29788E\",\"line_alpha\":0.1,\"line_width\":4}},\"muted_glyph\":{\"type\":\"object\",\"name\":\"Line\",\"id\":\"p1716\",\"attributes\":{\"x\":{\"type\":\"field\",\"field\":\"x\"},\"y\":{\"type\":\"field\",\"field\":\"y\"},\"line_color\":\"#29788E\",\"line_alpha\":0.2,\"line_width\":4}}}}],\"toolbar\":{\"type\":\"object\",\"name\":\"Toolbar\",\"id\":\"p1680\",\"attributes\":{\"tools\":[{\"type\":\"object\",\"name\":\"SaveTool\",\"id\":\"p1695\"},{\"type\":\"object\",\"name\":\"ResetTool\",\"id\":\"p1696\"},{\"type\":\"object\",\"name\":\"WheelZoomTool\",\"id\":\"p1697\",\"attributes\":{\"dimensions\":\"width\",\"renderers\":\"auto\"}},{\"type\":\"object\",\"name\":\"PanTool\",\"id\":\"p1698\",\"attributes\":{\"dimensions\":\"width\"}}]}},\"toolbar_location\":\"above\",\"left\":[{\"type\":\"object\",\"name\":\"LinearAxis\",\"id\":\"p1690\",\"attributes\":{\"ticker\":{\"type\":\"object\",\"name\":\"BasicTicker\",\"id\":\"p1691\",\"attributes\":{\"mantissas\":[1,2,5]}},\"formatter\":{\"type\":\"object\",\"name\":\"BasicTickFormatter\",\"id\":\"p1692\"},\"axis_label\":\"% CPU\",\"major_label_policy\":{\"type\":\"object\",\"name\":\"AllLabels\",\"id\":\"p1693\"}}}],\"right\":[{\"type\":\"object\",\"name\":\"LinearAxis\",\"id\":\"p1721\",\"attributes\":{\"y_range_name\":\"memory\",\"ticker\":{\"type\":\"object\",\"name\":\"BasicTicker\",\"id\":\"p1722\",\"attributes\":{\"mantissas\":[1,2,5]}},\"formatter\":{\"type\":\"object\",\"name\":\"BasicTickFormatter\",\"id\":\"p1723\"},\"axis_label\":\"Memory (MB)\",\"major_label_policy\":{\"type\":\"object\",\"name\":\"AllLabels\",\"id\":\"p1724\"}}}],\"below\":[{\"type\":\"object\",\"name\":\"LinearAxis\",\"id\":\"p1685\",\"attributes\":{\"ticker\":{\"type\":\"object\",\"name\":\"BasicTicker\",\"id\":\"p1686\",\"attributes\":{\"mantissas\":[1,2,5]}},\"formatter\":{\"type\":\"object\",\"name\":\"BasicTickFormatter\",\"id\":\"p1687\"},\"axis_label\":\"Time (s)\",\"major_label_policy\":{\"type\":\"object\",\"name\":\"AllLabels\",\"id\":\"p1688\"}}}],\"center\":[{\"type\":\"object\",\"name\":\"Grid\",\"id\":\"p1689\",\"attributes\":{\"axis\":{\"id\":\"p1685\"}}},{\"type\":\"object\",\"name\":\"Grid\",\"id\":\"p1694\",\"attributes\":{\"dimension\":1,\"axis\":{\"id\":\"p1690\"}}},{\"type\":\"object\",\"name\":\"Legend\",\"id\":\"p1708\",\"attributes\":{\"items\":[{\"type\":\"object\",\"name\":\"LegendItem\",\"id\":\"p1709\",\"attributes\":{\"label\":{\"type\":\"value\",\"value\":\"% CPU\"},\"renderers\":[{\"id\":\"p1705\"}]}},{\"type\":\"object\",\"name\":\"LegendItem\",\"id\":\"p1720\",\"attributes\":{\"label\":{\"type\":\"value\",\"value\":\"Memory\"},\"renderers\":[{\"id\":\"p1717\"}]}}]}}]}}]}};\n",
       "  const render_items = [{\"docid\":\"66a96463-f97b-44fd-a01c-02c77188b113\",\"roots\":{\"p1671\":\"bbdbded8-a49c-4465-a09f-688ec29bbebf\"},\"root_ids\":[\"p1671\"]}];\n",
       "  void root.Bokeh.embed.embed_items_notebook(docs_json, render_items);\n",
       "  }\n",
       "  if (root.Bokeh !== undefined) {\n",
       "    embed_document(root);\n",
       "  } else {\n",
       "    let attempts = 0;\n",
       "    const timer = setInterval(function(root) {\n",
       "      if (root.Bokeh !== undefined) {\n",
       "        clearInterval(timer);\n",
       "        embed_document(root);\n",
       "      } else {\n",
       "        attempts++;\n",
       "        if (attempts > 100) {\n",
       "          clearInterval(timer);\n",
       "          console.log(\"Bokeh: ERROR: Unable to run BokehJS code because BokehJS library is missing\");\n",
       "        }\n",
       "      }\n",
       "    }, 10, root)\n",
       "  }\n",
       "})(window);"
      ],
      "application/vnd.bokehjs_exec.v0+json": ""
     },
     "metadata": {
      "application/vnd.bokehjs_exec.v0+json": {
       "id": "p1671"
      }
     },
     "output_type": "display_data"
    },
    {
     "data": {
      "text/html": [
       "<div style=\"display: table;\"><div style=\"display: table-row;\"><div style=\"display: table-cell;\"><b title=\"bokeh.plotting._figure.figure\">figure</b>(</div><div style=\"display: table-cell;\">id&nbsp;=&nbsp;'p1671', <span id=\"p1726\" style=\"cursor: pointer;\">&hellip;)</span></div></div><div class=\"p1725\" style=\"display: none;\"><div style=\"display: table-cell;\"></div><div style=\"display: table-cell;\">above&nbsp;=&nbsp;[],</div></div><div class=\"p1725\" style=\"display: none;\"><div style=\"display: table-cell;\"></div><div style=\"display: table-cell;\">align&nbsp;=&nbsp;'auto',</div></div><div class=\"p1725\" style=\"display: none;\"><div style=\"display: table-cell;\"></div><div style=\"display: table-cell;\">aspect_ratio&nbsp;=&nbsp;None,</div></div><div class=\"p1725\" style=\"display: none;\"><div style=\"display: table-cell;\"></div><div style=\"display: table-cell;\">aspect_scale&nbsp;=&nbsp;1,</div></div><div class=\"p1725\" style=\"display: none;\"><div style=\"display: table-cell;\"></div><div style=\"display: table-cell;\">attribution&nbsp;=&nbsp;[],</div></div><div class=\"p1725\" style=\"display: none;\"><div style=\"display: table-cell;\"></div><div style=\"display: table-cell;\">background_fill_alpha&nbsp;=&nbsp;1.0,</div></div><div class=\"p1725\" style=\"display: none;\"><div style=\"display: table-cell;\"></div><div style=\"display: table-cell;\">background_fill_color&nbsp;=&nbsp;'#ffffff',</div></div><div class=\"p1725\" style=\"display: none;\"><div style=\"display: table-cell;\"></div><div style=\"display: table-cell;\">below&nbsp;=&nbsp;[LinearAxis(id='p1685', ...)],</div></div><div class=\"p1725\" style=\"display: none;\"><div style=\"display: table-cell;\"></div><div style=\"display: table-cell;\">border_fill_alpha&nbsp;=&nbsp;1.0,</div></div><div class=\"p1725\" style=\"display: none;\"><div style=\"display: table-cell;\"></div><div style=\"display: table-cell;\">border_fill_color&nbsp;=&nbsp;'#ffffff',</div></div><div class=\"p1725\" style=\"display: none;\"><div style=\"display: table-cell;\"></div><div style=\"display: table-cell;\">center&nbsp;=&nbsp;[Grid(id='p1689', ...), Grid(id='p1694', ...), Legend(id='p1708', ...)],</div></div><div class=\"p1725\" style=\"display: none;\"><div style=\"display: table-cell;\"></div><div style=\"display: table-cell;\">context_menu&nbsp;=&nbsp;None,</div></div><div class=\"p1725\" style=\"display: none;\"><div style=\"display: table-cell;\"></div><div style=\"display: table-cell;\">css_classes&nbsp;=&nbsp;[],</div></div><div class=\"p1725\" style=\"display: none;\"><div style=\"display: table-cell;\"></div><div style=\"display: table-cell;\">css_variables&nbsp;=&nbsp;{},</div></div><div class=\"p1725\" style=\"display: none;\"><div style=\"display: table-cell;\"></div><div style=\"display: table-cell;\">disabled&nbsp;=&nbsp;False,</div></div><div class=\"p1725\" style=\"display: none;\"><div style=\"display: table-cell;\"></div><div style=\"display: table-cell;\">elements&nbsp;=&nbsp;[],</div></div><div class=\"p1725\" style=\"display: none;\"><div style=\"display: table-cell;\"></div><div style=\"display: table-cell;\">extra_x_ranges&nbsp;=&nbsp;{},</div></div><div class=\"p1725\" style=\"display: none;\"><div style=\"display: table-cell;\"></div><div style=\"display: table-cell;\">extra_x_scales&nbsp;=&nbsp;{},</div></div><div class=\"p1725\" style=\"display: none;\"><div style=\"display: table-cell;\"></div><div style=\"display: table-cell;\">extra_y_ranges&nbsp;=&nbsp;{'memory': Range1d(id='p1710', ...)},</div></div><div class=\"p1725\" style=\"display: none;\"><div style=\"display: table-cell;\"></div><div style=\"display: table-cell;\">extra_y_scales&nbsp;=&nbsp;{},</div></div><div class=\"p1725\" style=\"display: none;\"><div style=\"display: table-cell;\"></div><div style=\"display: table-cell;\">flow_mode&nbsp;=&nbsp;'block',</div></div><div class=\"p1725\" style=\"display: none;\"><div style=\"display: table-cell;\"></div><div style=\"display: table-cell;\">frame_align&nbsp;=&nbsp;True,</div></div><div class=\"p1725\" style=\"display: none;\"><div style=\"display: table-cell;\"></div><div style=\"display: table-cell;\">frame_height&nbsp;=&nbsp;None,</div></div><div class=\"p1725\" style=\"display: none;\"><div style=\"display: table-cell;\"></div><div style=\"display: table-cell;\">frame_width&nbsp;=&nbsp;None,</div></div><div class=\"p1725\" style=\"display: none;\"><div style=\"display: table-cell;\"></div><div style=\"display: table-cell;\">height&nbsp;=&nbsp;300,</div></div><div class=\"p1725\" style=\"display: none;\"><div style=\"display: table-cell;\"></div><div style=\"display: table-cell;\">height_policy&nbsp;=&nbsp;'auto',</div></div><div class=\"p1725\" style=\"display: none;\"><div style=\"display: table-cell;\"></div><div style=\"display: table-cell;\">hidpi&nbsp;=&nbsp;True,</div></div><div class=\"p1725\" style=\"display: none;\"><div style=\"display: table-cell;\"></div><div style=\"display: table-cell;\">hold_render&nbsp;=&nbsp;False,</div></div><div class=\"p1725\" style=\"display: none;\"><div style=\"display: table-cell;\"></div><div style=\"display: table-cell;\">js_event_callbacks&nbsp;=&nbsp;{},</div></div><div class=\"p1725\" style=\"display: none;\"><div style=\"display: table-cell;\"></div><div style=\"display: table-cell;\">js_property_callbacks&nbsp;=&nbsp;{},</div></div><div class=\"p1725\" style=\"display: none;\"><div style=\"display: table-cell;\"></div><div style=\"display: table-cell;\">left&nbsp;=&nbsp;[LinearAxis(id='p1690', ...)],</div></div><div class=\"p1725\" style=\"display: none;\"><div style=\"display: table-cell;\"></div><div style=\"display: table-cell;\">lod_factor&nbsp;=&nbsp;10,</div></div><div class=\"p1725\" style=\"display: none;\"><div style=\"display: table-cell;\"></div><div style=\"display: table-cell;\">lod_interval&nbsp;=&nbsp;300,</div></div><div class=\"p1725\" style=\"display: none;\"><div style=\"display: table-cell;\"></div><div style=\"display: table-cell;\">lod_threshold&nbsp;=&nbsp;2000,</div></div><div class=\"p1725\" style=\"display: none;\"><div style=\"display: table-cell;\"></div><div style=\"display: table-cell;\">lod_timeout&nbsp;=&nbsp;500,</div></div><div class=\"p1725\" style=\"display: none;\"><div style=\"display: table-cell;\"></div><div style=\"display: table-cell;\">margin&nbsp;=&nbsp;None,</div></div><div class=\"p1725\" style=\"display: none;\"><div style=\"display: table-cell;\"></div><div style=\"display: table-cell;\">match_aspect&nbsp;=&nbsp;False,</div></div><div class=\"p1725\" style=\"display: none;\"><div style=\"display: table-cell;\"></div><div style=\"display: table-cell;\">max_height&nbsp;=&nbsp;None,</div></div><div class=\"p1725\" style=\"display: none;\"><div style=\"display: table-cell;\"></div><div style=\"display: table-cell;\">max_width&nbsp;=&nbsp;None,</div></div><div class=\"p1725\" style=\"display: none;\"><div style=\"display: table-cell;\"></div><div style=\"display: table-cell;\">min_border&nbsp;=&nbsp;5,</div></div><div class=\"p1725\" style=\"display: none;\"><div style=\"display: table-cell;\"></div><div style=\"display: table-cell;\">min_border_bottom&nbsp;=&nbsp;None,</div></div><div class=\"p1725\" style=\"display: none;\"><div style=\"display: table-cell;\"></div><div style=\"display: table-cell;\">min_border_left&nbsp;=&nbsp;None,</div></div><div class=\"p1725\" style=\"display: none;\"><div style=\"display: table-cell;\"></div><div style=\"display: table-cell;\">min_border_right&nbsp;=&nbsp;None,</div></div><div class=\"p1725\" style=\"display: none;\"><div style=\"display: table-cell;\"></div><div style=\"display: table-cell;\">min_border_top&nbsp;=&nbsp;None,</div></div><div class=\"p1725\" style=\"display: none;\"><div style=\"display: table-cell;\"></div><div style=\"display: table-cell;\">min_height&nbsp;=&nbsp;None,</div></div><div class=\"p1725\" style=\"display: none;\"><div style=\"display: table-cell;\"></div><div style=\"display: table-cell;\">min_width&nbsp;=&nbsp;None,</div></div><div class=\"p1725\" style=\"display: none;\"><div style=\"display: table-cell;\"></div><div style=\"display: table-cell;\">name&nbsp;=&nbsp;None,</div></div><div class=\"p1725\" style=\"display: none;\"><div style=\"display: table-cell;\"></div><div style=\"display: table-cell;\">outline_line_alpha&nbsp;=&nbsp;1.0,</div></div><div class=\"p1725\" style=\"display: none;\"><div style=\"display: table-cell;\"></div><div style=\"display: table-cell;\">outline_line_cap&nbsp;=&nbsp;'butt',</div></div><div class=\"p1725\" style=\"display: none;\"><div style=\"display: table-cell;\"></div><div style=\"display: table-cell;\">outline_line_color&nbsp;=&nbsp;'#e5e5e5',</div></div><div class=\"p1725\" style=\"display: none;\"><div style=\"display: table-cell;\"></div><div style=\"display: table-cell;\">outline_line_dash&nbsp;=&nbsp;[],</div></div><div class=\"p1725\" style=\"display: none;\"><div style=\"display: table-cell;\"></div><div style=\"display: table-cell;\">outline_line_dash_offset&nbsp;=&nbsp;0,</div></div><div class=\"p1725\" style=\"display: none;\"><div style=\"display: table-cell;\"></div><div style=\"display: table-cell;\">outline_line_join&nbsp;=&nbsp;'bevel',</div></div><div class=\"p1725\" style=\"display: none;\"><div style=\"display: table-cell;\"></div><div style=\"display: table-cell;\">outline_line_width&nbsp;=&nbsp;1,</div></div><div class=\"p1725\" style=\"display: none;\"><div style=\"display: table-cell;\"></div><div style=\"display: table-cell;\">output_backend&nbsp;=&nbsp;'canvas',</div></div><div class=\"p1725\" style=\"display: none;\"><div style=\"display: table-cell;\"></div><div style=\"display: table-cell;\">renderers&nbsp;=&nbsp;[GlyphRenderer(id='p1705', ...), GlyphRenderer(id='p1717', ...)],</div></div><div class=\"p1725\" style=\"display: none;\"><div style=\"display: table-cell;\"></div><div style=\"display: table-cell;\">reset_policy&nbsp;=&nbsp;'standard',</div></div><div class=\"p1725\" style=\"display: none;\"><div style=\"display: table-cell;\"></div><div style=\"display: table-cell;\">resizable&nbsp;=&nbsp;False,</div></div><div class=\"p1725\" style=\"display: none;\"><div style=\"display: table-cell;\"></div><div style=\"display: table-cell;\">right&nbsp;=&nbsp;[LinearAxis(id='p1721', ...)],</div></div><div class=\"p1725\" style=\"display: none;\"><div style=\"display: table-cell;\"></div><div style=\"display: table-cell;\">sizing_mode&nbsp;=&nbsp;None,</div></div><div class=\"p1725\" style=\"display: none;\"><div style=\"display: table-cell;\"></div><div style=\"display: table-cell;\">styles&nbsp;=&nbsp;{},</div></div><div class=\"p1725\" style=\"display: none;\"><div style=\"display: table-cell;\"></div><div style=\"display: table-cell;\">stylesheets&nbsp;=&nbsp;[],</div></div><div class=\"p1725\" style=\"display: none;\"><div style=\"display: table-cell;\"></div><div style=\"display: table-cell;\">subscribed_events&nbsp;=&nbsp;PropertyValueSet(),</div></div><div class=\"p1725\" style=\"display: none;\"><div style=\"display: table-cell;\"></div><div style=\"display: table-cell;\">syncable&nbsp;=&nbsp;True,</div></div><div class=\"p1725\" style=\"display: none;\"><div style=\"display: table-cell;\"></div><div style=\"display: table-cell;\">tags&nbsp;=&nbsp;[],</div></div><div class=\"p1725\" style=\"display: none;\"><div style=\"display: table-cell;\"></div><div style=\"display: table-cell;\">title&nbsp;=&nbsp;Title(id='p1674', ...),</div></div><div class=\"p1725\" style=\"display: none;\"><div style=\"display: table-cell;\"></div><div style=\"display: table-cell;\">title_location&nbsp;=&nbsp;'above',</div></div><div class=\"p1725\" style=\"display: none;\"><div style=\"display: table-cell;\"></div><div style=\"display: table-cell;\">toolbar&nbsp;=&nbsp;Toolbar(id='p1680', ...),</div></div><div class=\"p1725\" style=\"display: none;\"><div style=\"display: table-cell;\"></div><div style=\"display: table-cell;\">toolbar_inner&nbsp;=&nbsp;False,</div></div><div class=\"p1725\" style=\"display: none;\"><div style=\"display: table-cell;\"></div><div style=\"display: table-cell;\">toolbar_location&nbsp;=&nbsp;'above',</div></div><div class=\"p1725\" style=\"display: none;\"><div style=\"display: table-cell;\"></div><div style=\"display: table-cell;\">toolbar_sticky&nbsp;=&nbsp;True,</div></div><div class=\"p1725\" style=\"display: none;\"><div style=\"display: table-cell;\"></div><div style=\"display: table-cell;\">visible&nbsp;=&nbsp;True,</div></div><div class=\"p1725\" style=\"display: none;\"><div style=\"display: table-cell;\"></div><div style=\"display: table-cell;\">width&nbsp;=&nbsp;800,</div></div><div class=\"p1725\" style=\"display: none;\"><div style=\"display: table-cell;\"></div><div style=\"display: table-cell;\">width_policy&nbsp;=&nbsp;'auto',</div></div><div class=\"p1725\" style=\"display: none;\"><div style=\"display: table-cell;\"></div><div style=\"display: table-cell;\">x_range&nbsp;=&nbsp;Range1d(id='p1681', ...),</div></div><div class=\"p1725\" style=\"display: none;\"><div style=\"display: table-cell;\"></div><div style=\"display: table-cell;\">x_scale&nbsp;=&nbsp;LinearScale(id='p1683', ...),</div></div><div class=\"p1725\" style=\"display: none;\"><div style=\"display: table-cell;\"></div><div style=\"display: table-cell;\">y_range&nbsp;=&nbsp;Range1d(id='p1682', ...),</div></div><div class=\"p1725\" style=\"display: none;\"><div style=\"display: table-cell;\"></div><div style=\"display: table-cell;\">y_scale&nbsp;=&nbsp;LinearScale(id='p1684', ...))</div></div></div>\n",
       "<script>\n",
       "(function() {\n",
       "  let expanded = false;\n",
       "  const ellipsis = document.getElementById(\"p1726\");\n",
       "  ellipsis.addEventListener(\"click\", function() {\n",
       "    const rows = document.getElementsByClassName(\"p1725\");\n",
       "    for (let i = 0; i < rows.length; i++) {\n",
       "      const el = rows[i];\n",
       "      el.style.display = expanded ? \"none\" : \"table-row\";\n",
       "    }\n",
       "    ellipsis.innerHTML = expanded ? \"&hellip;)\" : \"&lsaquo;&lsaquo;&lsaquo;\";\n",
       "    expanded = !expanded;\n",
       "  });\n",
       "})();\n",
       "</script>\n"
      ],
      "text/plain": [
       "figure(id='p1671', ...)"
      ]
     },
     "metadata": {},
     "output_type": "display_data"
    }
   ],
   "source": [
    "client = Client(n_workers=n_workers, memory_limit=f'{16 / n_workers}GB')\n",
    "\n",
    "synthetic_data_shape = synthetic_data.shape  # Assuming shape is something like (inlines, crosslines, samples)\n",
    "expected_memory_usage_kb = envelope_model.predict(target_df)[0]  # Model output in KB\n",
    "\n",
    "optimal_chunk_size = get_optimal_chunk_size(synthetic_data_shape, expected_memory_usage_kb, client)\n",
    "print(f\"The optimal chunk size is {optimal_chunk_size}\")\n",
    "\n",
    "# Use Dask Profiler to monitor resource usage\n",
    "resource_profiler = ResourceProfiler()\n",
    "\n",
    "with resource_profiler:\n",
    "    start_time = time.time()\n",
    "    try:\n",
    "        synthetic_data = load_segy(synthetic_data_path)\n",
    "        print(\"Data shape: \", synthetic_data.shape)\n",
    "\n",
    "        X = da.from_array(synthetic_data, chunks=optimal_chunk_size)\n",
    "        print(\"Chunks: \", X.chunks)\n",
    "        print(\"Number of chunks along each axis:\", [len(c) for c in X.chunks])\n",
    "\n",
    "        result = envelope_from_ndarray(X)\n",
    "    finally:\n",
    "        end_time = time.time()\n",
    "        client.close()\n",
    "\n",
    "execution_time = end_time - start_time\n",
    "print(f\"Execution time: {execution_time:.2f} seconds\")\n",
    "\n",
    "resource_visualization = resource_profiler.visualize()\n",
    "display(resource_visualization)"
   ]
  },
  {
   "cell_type": "markdown",
   "id": "a76bbd78-68ee-48f5-a00b-7172c81bb80f",
   "metadata": {},
   "source": [
    "## Evaluating with many workers"
   ]
  },
  {
   "cell_type": "code",
   "execution_count": 29,
   "id": "68deb3a9-312a-4b1f-96e2-631c8a233fef",
   "metadata": {},
   "outputs": [],
   "source": [
    "n_workers = 15\n",
    "n_threads = 15"
   ]
  },
  {
   "cell_type": "markdown",
   "id": "ee20c03b-cee6-4413-b8b5-6e97743d9c37",
   "metadata": {},
   "source": [
    "### Autochunking"
   ]
  },
  {
   "cell_type": "code",
   "execution_count": 30,
   "id": "dc09452f-bca0-4c97-b8d4-5879d04de5da",
   "metadata": {},
   "outputs": [
    {
     "name": "stderr",
     "output_type": "stream",
     "text": [
      "/home/delucca/.pyenv/versions/3.10.14/envs/dask-auto-chunking/lib/python3.10/site-packages/distributed/node.py:187: UserWarning: Port 8787 is already in use.\n",
      "Perhaps you already have a cluster running?\n",
      "Hosting the HTTP server on port 46551 instead\n",
      "  warnings.warn(\n"
     ]
    },
    {
     "name": "stdout",
     "output_type": "stream",
     "text": [
      "Data shape:  (600, 600, 600)\n",
      "Chunks:  ((322, 278), (322, 278), (322, 278))\n",
      "Number of chunks along each axis: [2, 2, 2]\n"
     ]
    },
    {
     "name": "stderr",
     "output_type": "stream",
     "text": [
      "/home/delucca/.pyenv/versions/3.10.14/envs/dask-auto-chunking/lib/python3.10/site-packages/distributed/client.py:3361: UserWarning: Sending large graph of size 823.98 MiB.\n",
      "This may cause some slowdown.\n",
      "Consider loading the data with Dask directly\n",
      " or using futures or delayed objects to embed the data into the graph without repetition.\n",
      "See also https://docs.dask.org/en/stable/best-practices.html#load-data-with-dask for more information.\n",
      "  warnings.warn(\n",
      "2024-10-08 16:12:30,761 - distributed.worker.memory - WARNING - Unmanaged memory use is high. This may indicate a memory leak or the memory may not be released to the OS; see https://distributed.dask.org/en/latest/worker-memory.html#memory-not-released-back-to-the-os for more information. -- Unmanaged memory: 755.41 MiB -- Worker memory limit: 0.99 GiB\n",
      "2024-10-08 16:12:30,869 - distributed.worker.memory - WARNING - Unmanaged memory use is high. This may indicate a memory leak or the memory may not be released to the OS; see https://distributed.dask.org/en/latest/worker-memory.html#memory-not-released-back-to-the-os for more information. -- Unmanaged memory: 757.64 MiB -- Worker memory limit: 0.99 GiB\n",
      "2024-10-08 16:12:30,891 - distributed.worker.memory - WARNING - Unmanaged memory use is high. This may indicate a memory leak or the memory may not be released to the OS; see https://distributed.dask.org/en/latest/worker-memory.html#memory-not-released-back-to-the-os for more information. -- Unmanaged memory: 763.71 MiB -- Worker memory limit: 0.99 GiB\n",
      "2024-10-08 16:12:30,995 - distributed.worker.memory - WARNING - Unmanaged memory use is high. This may indicate a memory leak or the memory may not be released to the OS; see https://distributed.dask.org/en/latest/worker-memory.html#memory-not-released-back-to-the-os for more information. -- Unmanaged memory: 799.10 MiB -- Worker memory limit: 0.99 GiB\n",
      "2024-10-08 16:12:31,013 - distributed.worker.memory - WARNING - Worker is at 80% memory usage. Pausing worker.  Process memory: 822.37 MiB -- Worker memory limit: 0.99 GiB\n",
      "2024-10-08 16:12:31,029 - distributed.worker.memory - WARNING - Worker is at 82% memory usage. Pausing worker.  Process memory: 834.78 MiB -- Worker memory limit: 0.99 GiB\n",
      "2024-10-08 16:12:31,147 - distributed.worker.memory - WARNING - Worker is at 82% memory usage. Pausing worker.  Process memory: 843.07 MiB -- Worker memory limit: 0.99 GiB\n",
      "2024-10-08 16:12:31,173 - distributed.worker.memory - WARNING - Worker is at 33% memory usage. Resuming worker. Process memory: 337.61 MiB -- Worker memory limit: 0.99 GiB\n",
      "2024-10-08 16:12:31,212 - distributed.worker.memory - WARNING - Worker is at 32% memory usage. Resuming worker. Process memory: 333.38 MiB -- Worker memory limit: 0.99 GiB\n",
      "2024-10-08 16:12:31,242 - distributed.worker.memory - WARNING - Unmanaged memory use is high. This may indicate a memory leak or the memory may not be released to the OS; see https://distributed.dask.org/en/latest/worker-memory.html#memory-not-released-back-to-the-os for more information. -- Unmanaged memory: 767.75 MiB -- Worker memory limit: 0.99 GiB\n",
      "2024-10-08 16:12:31,282 - distributed.worker.memory - WARNING - Worker is at 48% memory usage. Resuming worker. Process memory: 495.98 MiB -- Worker memory limit: 0.99 GiB\n",
      "2024-10-08 16:12:31,333 - distributed.worker.memory - WARNING - Unmanaged memory use is high. This may indicate a memory leak or the memory may not be released to the OS; see https://distributed.dask.org/en/latest/worker-memory.html#memory-not-released-back-to-the-os for more information. -- Unmanaged memory: 768.12 MiB -- Worker memory limit: 0.99 GiB\n",
      "2024-10-08 16:12:31,427 - distributed.worker.memory - WARNING - Worker is at 84% memory usage. Pausing worker.  Process memory: 856.30 MiB -- Worker memory limit: 0.99 GiB\n",
      "2024-10-08 16:12:31,477 - distributed.worker.memory - WARNING - Worker is at 32% memory usage. Resuming worker. Process memory: 335.18 MiB -- Worker memory limit: 0.99 GiB\n"
     ]
    },
    {
     "name": "stdout",
     "output_type": "stream",
     "text": [
      "Execution time: 7.61 seconds\n"
     ]
    },
    {
     "data": {
      "text/html": [
       "\n",
       "  <div id=\"bedaa6a8-f8a5-40f7-8073-853a99f411a9\" data-root-id=\"p1727\" style=\"display: contents;\"></div>\n"
      ]
     },
     "metadata": {},
     "output_type": "display_data"
    },
    {
     "data": {
      "application/javascript": [
       "(function(root) {\n",
       "  function embed_document(root) {\n",
       "  const docs_json = {\"d4dfd84c-9215-4708-a003-208cfe255647\":{\"version\":\"3.6.0\",\"title\":\"Bokeh Application\",\"roots\":[{\"type\":\"object\",\"name\":\"Figure\",\"id\":\"p1727\",\"attributes\":{\"width\":800,\"height\":300,\"x_range\":{\"type\":\"object\",\"name\":\"Range1d\",\"id\":\"p1737\",\"attributes\":{\"end\":9.098918242999389}},\"y_range\":{\"type\":\"object\",\"name\":\"Range1d\",\"id\":\"p1738\",\"attributes\":{\"end\":949.5000000000001}},\"x_scale\":{\"type\":\"object\",\"name\":\"LinearScale\",\"id\":\"p1739\"},\"y_scale\":{\"type\":\"object\",\"name\":\"LinearScale\",\"id\":\"p1740\"},\"extra_y_ranges\":{\"type\":\"map\",\"entries\":[[\"memory\",{\"type\":\"object\",\"name\":\"Range1d\",\"id\":\"p1766\",\"attributes\":{\"start\":13793.214464,\"end\":19921.539072}}]]},\"title\":{\"type\":\"object\",\"name\":\"Title\",\"id\":\"p1730\",\"attributes\":{\"text\":\"Profile Results\"}},\"renderers\":[{\"type\":\"object\",\"name\":\"GlyphRenderer\",\"id\":\"p1761\",\"attributes\":{\"data_source\":{\"type\":\"object\",\"name\":\"ColumnDataSource\",\"id\":\"p1755\",\"attributes\":{\"selected\":{\"type\":\"object\",\"name\":\"Selection\",\"id\":\"p1756\",\"attributes\":{\"indices\":[],\"line_indices\":[]}},\"selection_policy\":{\"type\":\"object\",\"name\":\"UnionRenderers\",\"id\":\"p1757\"},\"data\":{\"type\":\"map\",\"entries\":[[\"x\",[0.025618675999794505,1.0273751999993692,2.029648079999788,3.030964124000093,4.033203904999937,5.034931277999931,6.037722320999819,7.0397864870001285,8.041837324999506]],[\"y\",[0.0,123.9,166.7,156.9,162.8,303.8,949.5000000000001,710.9,457.3999999999999]]]}}},\"view\":{\"type\":\"object\",\"name\":\"CDSView\",\"id\":\"p1762\",\"attributes\":{\"filter\":{\"type\":\"object\",\"name\":\"AllIndices\",\"id\":\"p1763\"}}},\"glyph\":{\"type\":\"object\",\"name\":\"Line\",\"id\":\"p1758\",\"attributes\":{\"x\":{\"type\":\"field\",\"field\":\"x\"},\"y\":{\"type\":\"field\",\"field\":\"y\"},\"line_color\":\"#440154\",\"line_width\":4}},\"nonselection_glyph\":{\"type\":\"object\",\"name\":\"Line\",\"id\":\"p1759\",\"attributes\":{\"x\":{\"type\":\"field\",\"field\":\"x\"},\"y\":{\"type\":\"field\",\"field\":\"y\"},\"line_color\":\"#440154\",\"line_alpha\":0.1,\"line_width\":4}},\"muted_glyph\":{\"type\":\"object\",\"name\":\"Line\",\"id\":\"p1760\",\"attributes\":{\"x\":{\"type\":\"field\",\"field\":\"x\"},\"y\":{\"type\":\"field\",\"field\":\"y\"},\"line_color\":\"#440154\",\"line_alpha\":0.2,\"line_width\":4}}}},{\"type\":\"object\",\"name\":\"GlyphRenderer\",\"id\":\"p1773\",\"attributes\":{\"y_range_name\":\"memory\",\"data_source\":{\"type\":\"object\",\"name\":\"ColumnDataSource\",\"id\":\"p1767\",\"attributes\":{\"selected\":{\"type\":\"object\",\"name\":\"Selection\",\"id\":\"p1768\",\"attributes\":{\"indices\":[],\"line_indices\":[]}},\"selection_policy\":{\"type\":\"object\",\"name\":\"UnionRenderers\",\"id\":\"p1769\"},\"data\":{\"type\":\"map\",\"entries\":[[\"x\",[0.025618675999794505,1.0273751999993692,2.029648079999788,3.030964124000093,4.033203904999937,5.034931277999931,6.037722320999819,7.0397864870001285,8.041837324999506]],[\"y\",[15595.122688,16460.234752,16793.653248,17325.469696,16965.779456,17610.93632,19921.539072,17852.141568,13793.214464]]]}}},\"view\":{\"type\":\"object\",\"name\":\"CDSView\",\"id\":\"p1774\",\"attributes\":{\"filter\":{\"type\":\"object\",\"name\":\"AllIndices\",\"id\":\"p1775\"}}},\"glyph\":{\"type\":\"object\",\"name\":\"Line\",\"id\":\"p1770\",\"attributes\":{\"x\":{\"type\":\"field\",\"field\":\"x\"},\"y\":{\"type\":\"field\",\"field\":\"y\"},\"line_color\":\"#29788E\",\"line_width\":4}},\"nonselection_glyph\":{\"type\":\"object\",\"name\":\"Line\",\"id\":\"p1771\",\"attributes\":{\"x\":{\"type\":\"field\",\"field\":\"x\"},\"y\":{\"type\":\"field\",\"field\":\"y\"},\"line_color\":\"#29788E\",\"line_alpha\":0.1,\"line_width\":4}},\"muted_glyph\":{\"type\":\"object\",\"name\":\"Line\",\"id\":\"p1772\",\"attributes\":{\"x\":{\"type\":\"field\",\"field\":\"x\"},\"y\":{\"type\":\"field\",\"field\":\"y\"},\"line_color\":\"#29788E\",\"line_alpha\":0.2,\"line_width\":4}}}}],\"toolbar\":{\"type\":\"object\",\"name\":\"Toolbar\",\"id\":\"p1736\",\"attributes\":{\"tools\":[{\"type\":\"object\",\"name\":\"SaveTool\",\"id\":\"p1751\"},{\"type\":\"object\",\"name\":\"ResetTool\",\"id\":\"p1752\"},{\"type\":\"object\",\"name\":\"WheelZoomTool\",\"id\":\"p1753\",\"attributes\":{\"dimensions\":\"width\",\"renderers\":\"auto\"}},{\"type\":\"object\",\"name\":\"PanTool\",\"id\":\"p1754\",\"attributes\":{\"dimensions\":\"width\"}}]}},\"toolbar_location\":\"above\",\"left\":[{\"type\":\"object\",\"name\":\"LinearAxis\",\"id\":\"p1746\",\"attributes\":{\"ticker\":{\"type\":\"object\",\"name\":\"BasicTicker\",\"id\":\"p1747\",\"attributes\":{\"mantissas\":[1,2,5]}},\"formatter\":{\"type\":\"object\",\"name\":\"BasicTickFormatter\",\"id\":\"p1748\"},\"axis_label\":\"% CPU\",\"major_label_policy\":{\"type\":\"object\",\"name\":\"AllLabels\",\"id\":\"p1749\"}}}],\"right\":[{\"type\":\"object\",\"name\":\"LinearAxis\",\"id\":\"p1777\",\"attributes\":{\"y_range_name\":\"memory\",\"ticker\":{\"type\":\"object\",\"name\":\"BasicTicker\",\"id\":\"p1778\",\"attributes\":{\"mantissas\":[1,2,5]}},\"formatter\":{\"type\":\"object\",\"name\":\"BasicTickFormatter\",\"id\":\"p1779\"},\"axis_label\":\"Memory (MB)\",\"major_label_policy\":{\"type\":\"object\",\"name\":\"AllLabels\",\"id\":\"p1780\"}}}],\"below\":[{\"type\":\"object\",\"name\":\"LinearAxis\",\"id\":\"p1741\",\"attributes\":{\"ticker\":{\"type\":\"object\",\"name\":\"BasicTicker\",\"id\":\"p1742\",\"attributes\":{\"mantissas\":[1,2,5]}},\"formatter\":{\"type\":\"object\",\"name\":\"BasicTickFormatter\",\"id\":\"p1743\"},\"axis_label\":\"Time (s)\",\"major_label_policy\":{\"type\":\"object\",\"name\":\"AllLabels\",\"id\":\"p1744\"}}}],\"center\":[{\"type\":\"object\",\"name\":\"Grid\",\"id\":\"p1745\",\"attributes\":{\"axis\":{\"id\":\"p1741\"}}},{\"type\":\"object\",\"name\":\"Grid\",\"id\":\"p1750\",\"attributes\":{\"dimension\":1,\"axis\":{\"id\":\"p1746\"}}},{\"type\":\"object\",\"name\":\"Legend\",\"id\":\"p1764\",\"attributes\":{\"items\":[{\"type\":\"object\",\"name\":\"LegendItem\",\"id\":\"p1765\",\"attributes\":{\"label\":{\"type\":\"value\",\"value\":\"% CPU\"},\"renderers\":[{\"id\":\"p1761\"}]}},{\"type\":\"object\",\"name\":\"LegendItem\",\"id\":\"p1776\",\"attributes\":{\"label\":{\"type\":\"value\",\"value\":\"Memory\"},\"renderers\":[{\"id\":\"p1773\"}]}}]}}]}}]}};\n",
       "  const render_items = [{\"docid\":\"d4dfd84c-9215-4708-a003-208cfe255647\",\"roots\":{\"p1727\":\"bedaa6a8-f8a5-40f7-8073-853a99f411a9\"},\"root_ids\":[\"p1727\"]}];\n",
       "  void root.Bokeh.embed.embed_items_notebook(docs_json, render_items);\n",
       "  }\n",
       "  if (root.Bokeh !== undefined) {\n",
       "    embed_document(root);\n",
       "  } else {\n",
       "    let attempts = 0;\n",
       "    const timer = setInterval(function(root) {\n",
       "      if (root.Bokeh !== undefined) {\n",
       "        clearInterval(timer);\n",
       "        embed_document(root);\n",
       "      } else {\n",
       "        attempts++;\n",
       "        if (attempts > 100) {\n",
       "          clearInterval(timer);\n",
       "          console.log(\"Bokeh: ERROR: Unable to run BokehJS code because BokehJS library is missing\");\n",
       "        }\n",
       "      }\n",
       "    }, 10, root)\n",
       "  }\n",
       "})(window);"
      ],
      "application/vnd.bokehjs_exec.v0+json": ""
     },
     "metadata": {
      "application/vnd.bokehjs_exec.v0+json": {
       "id": "p1727"
      }
     },
     "output_type": "display_data"
    },
    {
     "data": {
      "text/html": [
       "<div style=\"display: table;\"><div style=\"display: table-row;\"><div style=\"display: table-cell;\"><b title=\"bokeh.plotting._figure.figure\">figure</b>(</div><div style=\"display: table-cell;\">id&nbsp;=&nbsp;'p1727', <span id=\"p1782\" style=\"cursor: pointer;\">&hellip;)</span></div></div><div class=\"p1781\" style=\"display: none;\"><div style=\"display: table-cell;\"></div><div style=\"display: table-cell;\">above&nbsp;=&nbsp;[],</div></div><div class=\"p1781\" style=\"display: none;\"><div style=\"display: table-cell;\"></div><div style=\"display: table-cell;\">align&nbsp;=&nbsp;'auto',</div></div><div class=\"p1781\" style=\"display: none;\"><div style=\"display: table-cell;\"></div><div style=\"display: table-cell;\">aspect_ratio&nbsp;=&nbsp;None,</div></div><div class=\"p1781\" style=\"display: none;\"><div style=\"display: table-cell;\"></div><div style=\"display: table-cell;\">aspect_scale&nbsp;=&nbsp;1,</div></div><div class=\"p1781\" style=\"display: none;\"><div style=\"display: table-cell;\"></div><div style=\"display: table-cell;\">attribution&nbsp;=&nbsp;[],</div></div><div class=\"p1781\" style=\"display: none;\"><div style=\"display: table-cell;\"></div><div style=\"display: table-cell;\">background_fill_alpha&nbsp;=&nbsp;1.0,</div></div><div class=\"p1781\" style=\"display: none;\"><div style=\"display: table-cell;\"></div><div style=\"display: table-cell;\">background_fill_color&nbsp;=&nbsp;'#ffffff',</div></div><div class=\"p1781\" style=\"display: none;\"><div style=\"display: table-cell;\"></div><div style=\"display: table-cell;\">below&nbsp;=&nbsp;[LinearAxis(id='p1741', ...)],</div></div><div class=\"p1781\" style=\"display: none;\"><div style=\"display: table-cell;\"></div><div style=\"display: table-cell;\">border_fill_alpha&nbsp;=&nbsp;1.0,</div></div><div class=\"p1781\" style=\"display: none;\"><div style=\"display: table-cell;\"></div><div style=\"display: table-cell;\">border_fill_color&nbsp;=&nbsp;'#ffffff',</div></div><div class=\"p1781\" style=\"display: none;\"><div style=\"display: table-cell;\"></div><div style=\"display: table-cell;\">center&nbsp;=&nbsp;[Grid(id='p1745', ...), Grid(id='p1750', ...), Legend(id='p1764', ...)],</div></div><div class=\"p1781\" style=\"display: none;\"><div style=\"display: table-cell;\"></div><div style=\"display: table-cell;\">context_menu&nbsp;=&nbsp;None,</div></div><div class=\"p1781\" style=\"display: none;\"><div style=\"display: table-cell;\"></div><div style=\"display: table-cell;\">css_classes&nbsp;=&nbsp;[],</div></div><div class=\"p1781\" style=\"display: none;\"><div style=\"display: table-cell;\"></div><div style=\"display: table-cell;\">css_variables&nbsp;=&nbsp;{},</div></div><div class=\"p1781\" style=\"display: none;\"><div style=\"display: table-cell;\"></div><div style=\"display: table-cell;\">disabled&nbsp;=&nbsp;False,</div></div><div class=\"p1781\" style=\"display: none;\"><div style=\"display: table-cell;\"></div><div style=\"display: table-cell;\">elements&nbsp;=&nbsp;[],</div></div><div class=\"p1781\" style=\"display: none;\"><div style=\"display: table-cell;\"></div><div style=\"display: table-cell;\">extra_x_ranges&nbsp;=&nbsp;{},</div></div><div class=\"p1781\" style=\"display: none;\"><div style=\"display: table-cell;\"></div><div style=\"display: table-cell;\">extra_x_scales&nbsp;=&nbsp;{},</div></div><div class=\"p1781\" style=\"display: none;\"><div style=\"display: table-cell;\"></div><div style=\"display: table-cell;\">extra_y_ranges&nbsp;=&nbsp;{'memory': Range1d(id='p1766', ...)},</div></div><div class=\"p1781\" style=\"display: none;\"><div style=\"display: table-cell;\"></div><div style=\"display: table-cell;\">extra_y_scales&nbsp;=&nbsp;{},</div></div><div class=\"p1781\" style=\"display: none;\"><div style=\"display: table-cell;\"></div><div style=\"display: table-cell;\">flow_mode&nbsp;=&nbsp;'block',</div></div><div class=\"p1781\" style=\"display: none;\"><div style=\"display: table-cell;\"></div><div style=\"display: table-cell;\">frame_align&nbsp;=&nbsp;True,</div></div><div class=\"p1781\" style=\"display: none;\"><div style=\"display: table-cell;\"></div><div style=\"display: table-cell;\">frame_height&nbsp;=&nbsp;None,</div></div><div class=\"p1781\" style=\"display: none;\"><div style=\"display: table-cell;\"></div><div style=\"display: table-cell;\">frame_width&nbsp;=&nbsp;None,</div></div><div class=\"p1781\" style=\"display: none;\"><div style=\"display: table-cell;\"></div><div style=\"display: table-cell;\">height&nbsp;=&nbsp;300,</div></div><div class=\"p1781\" style=\"display: none;\"><div style=\"display: table-cell;\"></div><div style=\"display: table-cell;\">height_policy&nbsp;=&nbsp;'auto',</div></div><div class=\"p1781\" style=\"display: none;\"><div style=\"display: table-cell;\"></div><div style=\"display: table-cell;\">hidpi&nbsp;=&nbsp;True,</div></div><div class=\"p1781\" style=\"display: none;\"><div style=\"display: table-cell;\"></div><div style=\"display: table-cell;\">hold_render&nbsp;=&nbsp;False,</div></div><div class=\"p1781\" style=\"display: none;\"><div style=\"display: table-cell;\"></div><div style=\"display: table-cell;\">js_event_callbacks&nbsp;=&nbsp;{},</div></div><div class=\"p1781\" style=\"display: none;\"><div style=\"display: table-cell;\"></div><div style=\"display: table-cell;\">js_property_callbacks&nbsp;=&nbsp;{},</div></div><div class=\"p1781\" style=\"display: none;\"><div style=\"display: table-cell;\"></div><div style=\"display: table-cell;\">left&nbsp;=&nbsp;[LinearAxis(id='p1746', ...)],</div></div><div class=\"p1781\" style=\"display: none;\"><div style=\"display: table-cell;\"></div><div style=\"display: table-cell;\">lod_factor&nbsp;=&nbsp;10,</div></div><div class=\"p1781\" style=\"display: none;\"><div style=\"display: table-cell;\"></div><div style=\"display: table-cell;\">lod_interval&nbsp;=&nbsp;300,</div></div><div class=\"p1781\" style=\"display: none;\"><div style=\"display: table-cell;\"></div><div style=\"display: table-cell;\">lod_threshold&nbsp;=&nbsp;2000,</div></div><div class=\"p1781\" style=\"display: none;\"><div style=\"display: table-cell;\"></div><div style=\"display: table-cell;\">lod_timeout&nbsp;=&nbsp;500,</div></div><div class=\"p1781\" style=\"display: none;\"><div style=\"display: table-cell;\"></div><div style=\"display: table-cell;\">margin&nbsp;=&nbsp;None,</div></div><div class=\"p1781\" style=\"display: none;\"><div style=\"display: table-cell;\"></div><div style=\"display: table-cell;\">match_aspect&nbsp;=&nbsp;False,</div></div><div class=\"p1781\" style=\"display: none;\"><div style=\"display: table-cell;\"></div><div style=\"display: table-cell;\">max_height&nbsp;=&nbsp;None,</div></div><div class=\"p1781\" style=\"display: none;\"><div style=\"display: table-cell;\"></div><div style=\"display: table-cell;\">max_width&nbsp;=&nbsp;None,</div></div><div class=\"p1781\" style=\"display: none;\"><div style=\"display: table-cell;\"></div><div style=\"display: table-cell;\">min_border&nbsp;=&nbsp;5,</div></div><div class=\"p1781\" style=\"display: none;\"><div style=\"display: table-cell;\"></div><div style=\"display: table-cell;\">min_border_bottom&nbsp;=&nbsp;None,</div></div><div class=\"p1781\" style=\"display: none;\"><div style=\"display: table-cell;\"></div><div style=\"display: table-cell;\">min_border_left&nbsp;=&nbsp;None,</div></div><div class=\"p1781\" style=\"display: none;\"><div style=\"display: table-cell;\"></div><div style=\"display: table-cell;\">min_border_right&nbsp;=&nbsp;None,</div></div><div class=\"p1781\" style=\"display: none;\"><div style=\"display: table-cell;\"></div><div style=\"display: table-cell;\">min_border_top&nbsp;=&nbsp;None,</div></div><div class=\"p1781\" style=\"display: none;\"><div style=\"display: table-cell;\"></div><div style=\"display: table-cell;\">min_height&nbsp;=&nbsp;None,</div></div><div class=\"p1781\" style=\"display: none;\"><div style=\"display: table-cell;\"></div><div style=\"display: table-cell;\">min_width&nbsp;=&nbsp;None,</div></div><div class=\"p1781\" style=\"display: none;\"><div style=\"display: table-cell;\"></div><div style=\"display: table-cell;\">name&nbsp;=&nbsp;None,</div></div><div class=\"p1781\" style=\"display: none;\"><div style=\"display: table-cell;\"></div><div style=\"display: table-cell;\">outline_line_alpha&nbsp;=&nbsp;1.0,</div></div><div class=\"p1781\" style=\"display: none;\"><div style=\"display: table-cell;\"></div><div style=\"display: table-cell;\">outline_line_cap&nbsp;=&nbsp;'butt',</div></div><div class=\"p1781\" style=\"display: none;\"><div style=\"display: table-cell;\"></div><div style=\"display: table-cell;\">outline_line_color&nbsp;=&nbsp;'#e5e5e5',</div></div><div class=\"p1781\" style=\"display: none;\"><div style=\"display: table-cell;\"></div><div style=\"display: table-cell;\">outline_line_dash&nbsp;=&nbsp;[],</div></div><div class=\"p1781\" style=\"display: none;\"><div style=\"display: table-cell;\"></div><div style=\"display: table-cell;\">outline_line_dash_offset&nbsp;=&nbsp;0,</div></div><div class=\"p1781\" style=\"display: none;\"><div style=\"display: table-cell;\"></div><div style=\"display: table-cell;\">outline_line_join&nbsp;=&nbsp;'bevel',</div></div><div class=\"p1781\" style=\"display: none;\"><div style=\"display: table-cell;\"></div><div style=\"display: table-cell;\">outline_line_width&nbsp;=&nbsp;1,</div></div><div class=\"p1781\" style=\"display: none;\"><div style=\"display: table-cell;\"></div><div style=\"display: table-cell;\">output_backend&nbsp;=&nbsp;'canvas',</div></div><div class=\"p1781\" style=\"display: none;\"><div style=\"display: table-cell;\"></div><div style=\"display: table-cell;\">renderers&nbsp;=&nbsp;[GlyphRenderer(id='p1761', ...), GlyphRenderer(id='p1773', ...)],</div></div><div class=\"p1781\" style=\"display: none;\"><div style=\"display: table-cell;\"></div><div style=\"display: table-cell;\">reset_policy&nbsp;=&nbsp;'standard',</div></div><div class=\"p1781\" style=\"display: none;\"><div style=\"display: table-cell;\"></div><div style=\"display: table-cell;\">resizable&nbsp;=&nbsp;False,</div></div><div class=\"p1781\" style=\"display: none;\"><div style=\"display: table-cell;\"></div><div style=\"display: table-cell;\">right&nbsp;=&nbsp;[LinearAxis(id='p1777', ...)],</div></div><div class=\"p1781\" style=\"display: none;\"><div style=\"display: table-cell;\"></div><div style=\"display: table-cell;\">sizing_mode&nbsp;=&nbsp;None,</div></div><div class=\"p1781\" style=\"display: none;\"><div style=\"display: table-cell;\"></div><div style=\"display: table-cell;\">styles&nbsp;=&nbsp;{},</div></div><div class=\"p1781\" style=\"display: none;\"><div style=\"display: table-cell;\"></div><div style=\"display: table-cell;\">stylesheets&nbsp;=&nbsp;[],</div></div><div class=\"p1781\" style=\"display: none;\"><div style=\"display: table-cell;\"></div><div style=\"display: table-cell;\">subscribed_events&nbsp;=&nbsp;PropertyValueSet(),</div></div><div class=\"p1781\" style=\"display: none;\"><div style=\"display: table-cell;\"></div><div style=\"display: table-cell;\">syncable&nbsp;=&nbsp;True,</div></div><div class=\"p1781\" style=\"display: none;\"><div style=\"display: table-cell;\"></div><div style=\"display: table-cell;\">tags&nbsp;=&nbsp;[],</div></div><div class=\"p1781\" style=\"display: none;\"><div style=\"display: table-cell;\"></div><div style=\"display: table-cell;\">title&nbsp;=&nbsp;Title(id='p1730', ...),</div></div><div class=\"p1781\" style=\"display: none;\"><div style=\"display: table-cell;\"></div><div style=\"display: table-cell;\">title_location&nbsp;=&nbsp;'above',</div></div><div class=\"p1781\" style=\"display: none;\"><div style=\"display: table-cell;\"></div><div style=\"display: table-cell;\">toolbar&nbsp;=&nbsp;Toolbar(id='p1736', ...),</div></div><div class=\"p1781\" style=\"display: none;\"><div style=\"display: table-cell;\"></div><div style=\"display: table-cell;\">toolbar_inner&nbsp;=&nbsp;False,</div></div><div class=\"p1781\" style=\"display: none;\"><div style=\"display: table-cell;\"></div><div style=\"display: table-cell;\">toolbar_location&nbsp;=&nbsp;'above',</div></div><div class=\"p1781\" style=\"display: none;\"><div style=\"display: table-cell;\"></div><div style=\"display: table-cell;\">toolbar_sticky&nbsp;=&nbsp;True,</div></div><div class=\"p1781\" style=\"display: none;\"><div style=\"display: table-cell;\"></div><div style=\"display: table-cell;\">visible&nbsp;=&nbsp;True,</div></div><div class=\"p1781\" style=\"display: none;\"><div style=\"display: table-cell;\"></div><div style=\"display: table-cell;\">width&nbsp;=&nbsp;800,</div></div><div class=\"p1781\" style=\"display: none;\"><div style=\"display: table-cell;\"></div><div style=\"display: table-cell;\">width_policy&nbsp;=&nbsp;'auto',</div></div><div class=\"p1781\" style=\"display: none;\"><div style=\"display: table-cell;\"></div><div style=\"display: table-cell;\">x_range&nbsp;=&nbsp;Range1d(id='p1737', ...),</div></div><div class=\"p1781\" style=\"display: none;\"><div style=\"display: table-cell;\"></div><div style=\"display: table-cell;\">x_scale&nbsp;=&nbsp;LinearScale(id='p1739', ...),</div></div><div class=\"p1781\" style=\"display: none;\"><div style=\"display: table-cell;\"></div><div style=\"display: table-cell;\">y_range&nbsp;=&nbsp;Range1d(id='p1738', ...),</div></div><div class=\"p1781\" style=\"display: none;\"><div style=\"display: table-cell;\"></div><div style=\"display: table-cell;\">y_scale&nbsp;=&nbsp;LinearScale(id='p1740', ...))</div></div></div>\n",
       "<script>\n",
       "(function() {\n",
       "  let expanded = false;\n",
       "  const ellipsis = document.getElementById(\"p1782\");\n",
       "  ellipsis.addEventListener(\"click\", function() {\n",
       "    const rows = document.getElementsByClassName(\"p1781\");\n",
       "    for (let i = 0; i < rows.length; i++) {\n",
       "      const el = rows[i];\n",
       "      el.style.display = expanded ? \"none\" : \"table-row\";\n",
       "    }\n",
       "    ellipsis.innerHTML = expanded ? \"&hellip;)\" : \"&lsaquo;&lsaquo;&lsaquo;\";\n",
       "    expanded = !expanded;\n",
       "  });\n",
       "})();\n",
       "</script>\n"
      ],
      "text/plain": [
       "figure(id='p1727', ...)"
      ]
     },
     "metadata": {},
     "output_type": "display_data"
    }
   ],
   "source": [
    "client = Client(n_workers=n_workers, memory_limit=f'{16 / n_workers}GB')\n",
    "\n",
    "# Use Dask Profiler to monitor resource usage\n",
    "resource_profiler = ResourceProfiler()\n",
    "\n",
    "with resource_profiler:\n",
    "    start_time = time.time()\n",
    "    try:\n",
    "        synthetic_data = load_segy(synthetic_data_path)\n",
    "        print(\"Data shape: \", synthetic_data.shape)\n",
    "\n",
    "        X = da.from_array(synthetic_data, chunks='auto')\n",
    "        print(\"Chunks: \", X.chunks)\n",
    "        print(\"Number of chunks along each axis:\", [len(c) for c in X.chunks])\n",
    "\n",
    "        result = envelope_from_ndarray(X)\n",
    "    finally:\n",
    "        end_time = time.time()\n",
    "        client.close()\n",
    "\n",
    "execution_time = end_time - start_time\n",
    "print(f\"Execution time: {execution_time:.2f} seconds\")\n",
    "\n",
    "resource_visualization = resource_profiler.visualize()\n",
    "display(resource_visualization)"
   ]
  },
  {
   "cell_type": "markdown",
   "id": "f12f259c-33b7-4373-9acd-9726215f8416",
   "metadata": {},
   "source": [
    "### Modeled chunking"
   ]
  },
  {
   "cell_type": "code",
   "execution_count": 31,
   "id": "edc226a5-d709-4d34-89bd-ec4860cb091a",
   "metadata": {},
   "outputs": [
    {
     "name": "stderr",
     "output_type": "stream",
     "text": [
      "/home/delucca/.pyenv/versions/3.10.14/envs/dask-auto-chunking/lib/python3.10/site-packages/distributed/node.py:187: UserWarning: Port 8787 is already in use.\n",
      "Perhaps you already have a cluster running?\n",
      "Hosting the HTTP server on port 45081 instead\n",
      "  warnings.warn(\n"
     ]
    },
    {
     "name": "stdout",
     "output_type": "stream",
     "text": [
      "Total Workers: 15\n",
      "Memory per Worker: 1.07 GB\n",
      "Expected memory usage exceeds memory per worker. Reducing chunk size.\n",
      "Optimal Chunk Size: (103, 103, 103)\n",
      "The optimal chunk size is (103, 103, 103)\n",
      "Data shape:  (600, 600, 600)\n",
      "Chunks:  ((103, 103, 103, 103, 103, 85), (103, 103, 103, 103, 103, 85), (103, 103, 103, 103, 103, 85))\n",
      "Number of chunks along each axis: [6, 6, 6]\n"
     ]
    },
    {
     "name": "stderr",
     "output_type": "stream",
     "text": [
      "/home/delucca/.pyenv/versions/3.10.14/envs/dask-auto-chunking/lib/python3.10/site-packages/distributed/client.py:3361: UserWarning: Sending large graph of size 823.99 MiB.\n",
      "This may cause some slowdown.\n",
      "Consider loading the data with Dask directly\n",
      " or using futures or delayed objects to embed the data into the graph without repetition.\n",
      "See also https://docs.dask.org/en/stable/best-practices.html#load-data-with-dask for more information.\n",
      "  warnings.warn(\n"
     ]
    },
    {
     "name": "stdout",
     "output_type": "stream",
     "text": [
      "Execution time: 10.85 seconds\n"
     ]
    },
    {
     "data": {
      "text/html": [
       "\n",
       "  <div id=\"be50e3a1-cf9c-4925-898b-eeffc0c17447\" data-root-id=\"p1783\" style=\"display: contents;\"></div>\n"
      ]
     },
     "metadata": {},
     "output_type": "display_data"
    },
    {
     "data": {
      "application/javascript": [
       "(function(root) {\n",
       "  function embed_document(root) {\n",
       "  const docs_json = {\"470c079a-ceaa-46d1-952b-c5b7b32d819a\":{\"version\":\"3.6.0\",\"title\":\"Bokeh Application\",\"roots\":[{\"type\":\"object\",\"name\":\"Figure\",\"id\":\"p1783\",\"attributes\":{\"width\":800,\"height\":300,\"x_range\":{\"type\":\"object\",\"name\":\"Range1d\",\"id\":\"p1793\",\"attributes\":{\"end\":12.090306826000415}},\"y_range\":{\"type\":\"object\",\"name\":\"Range1d\",\"id\":\"p1794\",\"attributes\":{\"end\":1085.0999999999997}},\"x_scale\":{\"type\":\"object\",\"name\":\"LinearScale\",\"id\":\"p1795\"},\"y_scale\":{\"type\":\"object\",\"name\":\"LinearScale\",\"id\":\"p1796\"},\"extra_y_ranges\":{\"type\":\"map\",\"entries\":[[\"memory\",{\"type\":\"object\",\"name\":\"Range1d\",\"id\":\"p1822\",\"attributes\":{\"start\":14962.597888,\"end\":17633.857536}}]]},\"title\":{\"type\":\"object\",\"name\":\"Title\",\"id\":\"p1786\",\"attributes\":{\"text\":\"Profile Results\"}},\"renderers\":[{\"type\":\"object\",\"name\":\"GlyphRenderer\",\"id\":\"p1817\",\"attributes\":{\"data_source\":{\"type\":\"object\",\"name\":\"ColumnDataSource\",\"id\":\"p1811\",\"attributes\":{\"selected\":{\"type\":\"object\",\"name\":\"Selection\",\"id\":\"p1812\",\"attributes\":{\"indices\":[],\"line_indices\":[]}},\"selection_policy\":{\"type\":\"object\",\"name\":\"UnionRenderers\",\"id\":\"p1813\"},\"data\":{\"type\":\"map\",\"entries\":[[\"x\",[0.020684588000221993,1.0227785110000696,2.0251247520000106,3.0273620179996215,4.029528781000408,5.03177401100038,6.034032561000458,7.036235235000277,8.038818586999696,9.041336139000123,10.043473597999764,11.045693514999584]],[\"y\",[0.0,122.9,176.7,158.8,154.8,117.9,84.9,877.3999999999997,1085.0999999999997,541.4999999999999,124.8,401.29999999999984]]]}}},\"view\":{\"type\":\"object\",\"name\":\"CDSView\",\"id\":\"p1818\",\"attributes\":{\"filter\":{\"type\":\"object\",\"name\":\"AllIndices\",\"id\":\"p1819\"}}},\"glyph\":{\"type\":\"object\",\"name\":\"Line\",\"id\":\"p1814\",\"attributes\":{\"x\":{\"type\":\"field\",\"field\":\"x\"},\"y\":{\"type\":\"field\",\"field\":\"y\"},\"line_color\":\"#440154\",\"line_width\":4}},\"nonselection_glyph\":{\"type\":\"object\",\"name\":\"Line\",\"id\":\"p1815\",\"attributes\":{\"x\":{\"type\":\"field\",\"field\":\"x\"},\"y\":{\"type\":\"field\",\"field\":\"y\"},\"line_color\":\"#440154\",\"line_alpha\":0.1,\"line_width\":4}},\"muted_glyph\":{\"type\":\"object\",\"name\":\"Line\",\"id\":\"p1816\",\"attributes\":{\"x\":{\"type\":\"field\",\"field\":\"x\"},\"y\":{\"type\":\"field\",\"field\":\"y\"},\"line_color\":\"#440154\",\"line_alpha\":0.2,\"line_width\":4}}}},{\"type\":\"object\",\"name\":\"GlyphRenderer\",\"id\":\"p1829\",\"attributes\":{\"y_range_name\":\"memory\",\"data_source\":{\"type\":\"object\",\"name\":\"ColumnDataSource\",\"id\":\"p1823\",\"attributes\":{\"selected\":{\"type\":\"object\",\"name\":\"Selection\",\"id\":\"p1824\",\"attributes\":{\"indices\":[],\"line_indices\":[]}},\"selection_policy\":{\"type\":\"object\",\"name\":\"UnionRenderers\",\"id\":\"p1825\"},\"data\":{\"type\":\"map\",\"entries\":[[\"x\",[0.020684588000221993,1.0227785110000696,2.0251247520000106,3.0273620179996215,4.029528781000408,5.03177401100038,6.034032561000458,7.036235235000277,8.038818586999696,9.041336139000123,10.043473597999764,11.045693514999584]],[\"y\",[14962.597888,15827.705856,15252.76672,16538.70592,16143.970304,15858.950144,15908.970496,15938.277376,17233.16224,17598.386176,17633.857536,15892.414464]]]}}},\"view\":{\"type\":\"object\",\"name\":\"CDSView\",\"id\":\"p1830\",\"attributes\":{\"filter\":{\"type\":\"object\",\"name\":\"AllIndices\",\"id\":\"p1831\"}}},\"glyph\":{\"type\":\"object\",\"name\":\"Line\",\"id\":\"p1826\",\"attributes\":{\"x\":{\"type\":\"field\",\"field\":\"x\"},\"y\":{\"type\":\"field\",\"field\":\"y\"},\"line_color\":\"#29788E\",\"line_width\":4}},\"nonselection_glyph\":{\"type\":\"object\",\"name\":\"Line\",\"id\":\"p1827\",\"attributes\":{\"x\":{\"type\":\"field\",\"field\":\"x\"},\"y\":{\"type\":\"field\",\"field\":\"y\"},\"line_color\":\"#29788E\",\"line_alpha\":0.1,\"line_width\":4}},\"muted_glyph\":{\"type\":\"object\",\"name\":\"Line\",\"id\":\"p1828\",\"attributes\":{\"x\":{\"type\":\"field\",\"field\":\"x\"},\"y\":{\"type\":\"field\",\"field\":\"y\"},\"line_color\":\"#29788E\",\"line_alpha\":0.2,\"line_width\":4}}}}],\"toolbar\":{\"type\":\"object\",\"name\":\"Toolbar\",\"id\":\"p1792\",\"attributes\":{\"tools\":[{\"type\":\"object\",\"name\":\"SaveTool\",\"id\":\"p1807\"},{\"type\":\"object\",\"name\":\"ResetTool\",\"id\":\"p1808\"},{\"type\":\"object\",\"name\":\"WheelZoomTool\",\"id\":\"p1809\",\"attributes\":{\"dimensions\":\"width\",\"renderers\":\"auto\"}},{\"type\":\"object\",\"name\":\"PanTool\",\"id\":\"p1810\",\"attributes\":{\"dimensions\":\"width\"}}]}},\"toolbar_location\":\"above\",\"left\":[{\"type\":\"object\",\"name\":\"LinearAxis\",\"id\":\"p1802\",\"attributes\":{\"ticker\":{\"type\":\"object\",\"name\":\"BasicTicker\",\"id\":\"p1803\",\"attributes\":{\"mantissas\":[1,2,5]}},\"formatter\":{\"type\":\"object\",\"name\":\"BasicTickFormatter\",\"id\":\"p1804\"},\"axis_label\":\"% CPU\",\"major_label_policy\":{\"type\":\"object\",\"name\":\"AllLabels\",\"id\":\"p1805\"}}}],\"right\":[{\"type\":\"object\",\"name\":\"LinearAxis\",\"id\":\"p1833\",\"attributes\":{\"y_range_name\":\"memory\",\"ticker\":{\"type\":\"object\",\"name\":\"BasicTicker\",\"id\":\"p1834\",\"attributes\":{\"mantissas\":[1,2,5]}},\"formatter\":{\"type\":\"object\",\"name\":\"BasicTickFormatter\",\"id\":\"p1835\"},\"axis_label\":\"Memory (MB)\",\"major_label_policy\":{\"type\":\"object\",\"name\":\"AllLabels\",\"id\":\"p1836\"}}}],\"below\":[{\"type\":\"object\",\"name\":\"LinearAxis\",\"id\":\"p1797\",\"attributes\":{\"ticker\":{\"type\":\"object\",\"name\":\"BasicTicker\",\"id\":\"p1798\",\"attributes\":{\"mantissas\":[1,2,5]}},\"formatter\":{\"type\":\"object\",\"name\":\"BasicTickFormatter\",\"id\":\"p1799\"},\"axis_label\":\"Time (s)\",\"major_label_policy\":{\"type\":\"object\",\"name\":\"AllLabels\",\"id\":\"p1800\"}}}],\"center\":[{\"type\":\"object\",\"name\":\"Grid\",\"id\":\"p1801\",\"attributes\":{\"axis\":{\"id\":\"p1797\"}}},{\"type\":\"object\",\"name\":\"Grid\",\"id\":\"p1806\",\"attributes\":{\"dimension\":1,\"axis\":{\"id\":\"p1802\"}}},{\"type\":\"object\",\"name\":\"Legend\",\"id\":\"p1820\",\"attributes\":{\"items\":[{\"type\":\"object\",\"name\":\"LegendItem\",\"id\":\"p1821\",\"attributes\":{\"label\":{\"type\":\"value\",\"value\":\"% CPU\"},\"renderers\":[{\"id\":\"p1817\"}]}},{\"type\":\"object\",\"name\":\"LegendItem\",\"id\":\"p1832\",\"attributes\":{\"label\":{\"type\":\"value\",\"value\":\"Memory\"},\"renderers\":[{\"id\":\"p1829\"}]}}]}}]}}]}};\n",
       "  const render_items = [{\"docid\":\"470c079a-ceaa-46d1-952b-c5b7b32d819a\",\"roots\":{\"p1783\":\"be50e3a1-cf9c-4925-898b-eeffc0c17447\"},\"root_ids\":[\"p1783\"]}];\n",
       "  void root.Bokeh.embed.embed_items_notebook(docs_json, render_items);\n",
       "  }\n",
       "  if (root.Bokeh !== undefined) {\n",
       "    embed_document(root);\n",
       "  } else {\n",
       "    let attempts = 0;\n",
       "    const timer = setInterval(function(root) {\n",
       "      if (root.Bokeh !== undefined) {\n",
       "        clearInterval(timer);\n",
       "        embed_document(root);\n",
       "      } else {\n",
       "        attempts++;\n",
       "        if (attempts > 100) {\n",
       "          clearInterval(timer);\n",
       "          console.log(\"Bokeh: ERROR: Unable to run BokehJS code because BokehJS library is missing\");\n",
       "        }\n",
       "      }\n",
       "    }, 10, root)\n",
       "  }\n",
       "})(window);"
      ],
      "application/vnd.bokehjs_exec.v0+json": ""
     },
     "metadata": {
      "application/vnd.bokehjs_exec.v0+json": {
       "id": "p1783"
      }
     },
     "output_type": "display_data"
    },
    {
     "data": {
      "text/html": [
       "<div style=\"display: table;\"><div style=\"display: table-row;\"><div style=\"display: table-cell;\"><b title=\"bokeh.plotting._figure.figure\">figure</b>(</div><div style=\"display: table-cell;\">id&nbsp;=&nbsp;'p1783', <span id=\"p1838\" style=\"cursor: pointer;\">&hellip;)</span></div></div><div class=\"p1837\" style=\"display: none;\"><div style=\"display: table-cell;\"></div><div style=\"display: table-cell;\">above&nbsp;=&nbsp;[],</div></div><div class=\"p1837\" style=\"display: none;\"><div style=\"display: table-cell;\"></div><div style=\"display: table-cell;\">align&nbsp;=&nbsp;'auto',</div></div><div class=\"p1837\" style=\"display: none;\"><div style=\"display: table-cell;\"></div><div style=\"display: table-cell;\">aspect_ratio&nbsp;=&nbsp;None,</div></div><div class=\"p1837\" style=\"display: none;\"><div style=\"display: table-cell;\"></div><div style=\"display: table-cell;\">aspect_scale&nbsp;=&nbsp;1,</div></div><div class=\"p1837\" style=\"display: none;\"><div style=\"display: table-cell;\"></div><div style=\"display: table-cell;\">attribution&nbsp;=&nbsp;[],</div></div><div class=\"p1837\" style=\"display: none;\"><div style=\"display: table-cell;\"></div><div style=\"display: table-cell;\">background_fill_alpha&nbsp;=&nbsp;1.0,</div></div><div class=\"p1837\" style=\"display: none;\"><div style=\"display: table-cell;\"></div><div style=\"display: table-cell;\">background_fill_color&nbsp;=&nbsp;'#ffffff',</div></div><div class=\"p1837\" style=\"display: none;\"><div style=\"display: table-cell;\"></div><div style=\"display: table-cell;\">below&nbsp;=&nbsp;[LinearAxis(id='p1797', ...)],</div></div><div class=\"p1837\" style=\"display: none;\"><div style=\"display: table-cell;\"></div><div style=\"display: table-cell;\">border_fill_alpha&nbsp;=&nbsp;1.0,</div></div><div class=\"p1837\" style=\"display: none;\"><div style=\"display: table-cell;\"></div><div style=\"display: table-cell;\">border_fill_color&nbsp;=&nbsp;'#ffffff',</div></div><div class=\"p1837\" style=\"display: none;\"><div style=\"display: table-cell;\"></div><div style=\"display: table-cell;\">center&nbsp;=&nbsp;[Grid(id='p1801', ...), Grid(id='p1806', ...), Legend(id='p1820', ...)],</div></div><div class=\"p1837\" style=\"display: none;\"><div style=\"display: table-cell;\"></div><div style=\"display: table-cell;\">context_menu&nbsp;=&nbsp;None,</div></div><div class=\"p1837\" style=\"display: none;\"><div style=\"display: table-cell;\"></div><div style=\"display: table-cell;\">css_classes&nbsp;=&nbsp;[],</div></div><div class=\"p1837\" style=\"display: none;\"><div style=\"display: table-cell;\"></div><div style=\"display: table-cell;\">css_variables&nbsp;=&nbsp;{},</div></div><div class=\"p1837\" style=\"display: none;\"><div style=\"display: table-cell;\"></div><div style=\"display: table-cell;\">disabled&nbsp;=&nbsp;False,</div></div><div class=\"p1837\" style=\"display: none;\"><div style=\"display: table-cell;\"></div><div style=\"display: table-cell;\">elements&nbsp;=&nbsp;[],</div></div><div class=\"p1837\" style=\"display: none;\"><div style=\"display: table-cell;\"></div><div style=\"display: table-cell;\">extra_x_ranges&nbsp;=&nbsp;{},</div></div><div class=\"p1837\" style=\"display: none;\"><div style=\"display: table-cell;\"></div><div style=\"display: table-cell;\">extra_x_scales&nbsp;=&nbsp;{},</div></div><div class=\"p1837\" style=\"display: none;\"><div style=\"display: table-cell;\"></div><div style=\"display: table-cell;\">extra_y_ranges&nbsp;=&nbsp;{'memory': Range1d(id='p1822', ...)},</div></div><div class=\"p1837\" style=\"display: none;\"><div style=\"display: table-cell;\"></div><div style=\"display: table-cell;\">extra_y_scales&nbsp;=&nbsp;{},</div></div><div class=\"p1837\" style=\"display: none;\"><div style=\"display: table-cell;\"></div><div style=\"display: table-cell;\">flow_mode&nbsp;=&nbsp;'block',</div></div><div class=\"p1837\" style=\"display: none;\"><div style=\"display: table-cell;\"></div><div style=\"display: table-cell;\">frame_align&nbsp;=&nbsp;True,</div></div><div class=\"p1837\" style=\"display: none;\"><div style=\"display: table-cell;\"></div><div style=\"display: table-cell;\">frame_height&nbsp;=&nbsp;None,</div></div><div class=\"p1837\" style=\"display: none;\"><div style=\"display: table-cell;\"></div><div style=\"display: table-cell;\">frame_width&nbsp;=&nbsp;None,</div></div><div class=\"p1837\" style=\"display: none;\"><div style=\"display: table-cell;\"></div><div style=\"display: table-cell;\">height&nbsp;=&nbsp;300,</div></div><div class=\"p1837\" style=\"display: none;\"><div style=\"display: table-cell;\"></div><div style=\"display: table-cell;\">height_policy&nbsp;=&nbsp;'auto',</div></div><div class=\"p1837\" style=\"display: none;\"><div style=\"display: table-cell;\"></div><div style=\"display: table-cell;\">hidpi&nbsp;=&nbsp;True,</div></div><div class=\"p1837\" style=\"display: none;\"><div style=\"display: table-cell;\"></div><div style=\"display: table-cell;\">hold_render&nbsp;=&nbsp;False,</div></div><div class=\"p1837\" style=\"display: none;\"><div style=\"display: table-cell;\"></div><div style=\"display: table-cell;\">js_event_callbacks&nbsp;=&nbsp;{},</div></div><div class=\"p1837\" style=\"display: none;\"><div style=\"display: table-cell;\"></div><div style=\"display: table-cell;\">js_property_callbacks&nbsp;=&nbsp;{},</div></div><div class=\"p1837\" style=\"display: none;\"><div style=\"display: table-cell;\"></div><div style=\"display: table-cell;\">left&nbsp;=&nbsp;[LinearAxis(id='p1802', ...)],</div></div><div class=\"p1837\" style=\"display: none;\"><div style=\"display: table-cell;\"></div><div style=\"display: table-cell;\">lod_factor&nbsp;=&nbsp;10,</div></div><div class=\"p1837\" style=\"display: none;\"><div style=\"display: table-cell;\"></div><div style=\"display: table-cell;\">lod_interval&nbsp;=&nbsp;300,</div></div><div class=\"p1837\" style=\"display: none;\"><div style=\"display: table-cell;\"></div><div style=\"display: table-cell;\">lod_threshold&nbsp;=&nbsp;2000,</div></div><div class=\"p1837\" style=\"display: none;\"><div style=\"display: table-cell;\"></div><div style=\"display: table-cell;\">lod_timeout&nbsp;=&nbsp;500,</div></div><div class=\"p1837\" style=\"display: none;\"><div style=\"display: table-cell;\"></div><div style=\"display: table-cell;\">margin&nbsp;=&nbsp;None,</div></div><div class=\"p1837\" style=\"display: none;\"><div style=\"display: table-cell;\"></div><div style=\"display: table-cell;\">match_aspect&nbsp;=&nbsp;False,</div></div><div class=\"p1837\" style=\"display: none;\"><div style=\"display: table-cell;\"></div><div style=\"display: table-cell;\">max_height&nbsp;=&nbsp;None,</div></div><div class=\"p1837\" style=\"display: none;\"><div style=\"display: table-cell;\"></div><div style=\"display: table-cell;\">max_width&nbsp;=&nbsp;None,</div></div><div class=\"p1837\" style=\"display: none;\"><div style=\"display: table-cell;\"></div><div style=\"display: table-cell;\">min_border&nbsp;=&nbsp;5,</div></div><div class=\"p1837\" style=\"display: none;\"><div style=\"display: table-cell;\"></div><div style=\"display: table-cell;\">min_border_bottom&nbsp;=&nbsp;None,</div></div><div class=\"p1837\" style=\"display: none;\"><div style=\"display: table-cell;\"></div><div style=\"display: table-cell;\">min_border_left&nbsp;=&nbsp;None,</div></div><div class=\"p1837\" style=\"display: none;\"><div style=\"display: table-cell;\"></div><div style=\"display: table-cell;\">min_border_right&nbsp;=&nbsp;None,</div></div><div class=\"p1837\" style=\"display: none;\"><div style=\"display: table-cell;\"></div><div style=\"display: table-cell;\">min_border_top&nbsp;=&nbsp;None,</div></div><div class=\"p1837\" style=\"display: none;\"><div style=\"display: table-cell;\"></div><div style=\"display: table-cell;\">min_height&nbsp;=&nbsp;None,</div></div><div class=\"p1837\" style=\"display: none;\"><div style=\"display: table-cell;\"></div><div style=\"display: table-cell;\">min_width&nbsp;=&nbsp;None,</div></div><div class=\"p1837\" style=\"display: none;\"><div style=\"display: table-cell;\"></div><div style=\"display: table-cell;\">name&nbsp;=&nbsp;None,</div></div><div class=\"p1837\" style=\"display: none;\"><div style=\"display: table-cell;\"></div><div style=\"display: table-cell;\">outline_line_alpha&nbsp;=&nbsp;1.0,</div></div><div class=\"p1837\" style=\"display: none;\"><div style=\"display: table-cell;\"></div><div style=\"display: table-cell;\">outline_line_cap&nbsp;=&nbsp;'butt',</div></div><div class=\"p1837\" style=\"display: none;\"><div style=\"display: table-cell;\"></div><div style=\"display: table-cell;\">outline_line_color&nbsp;=&nbsp;'#e5e5e5',</div></div><div class=\"p1837\" style=\"display: none;\"><div style=\"display: table-cell;\"></div><div style=\"display: table-cell;\">outline_line_dash&nbsp;=&nbsp;[],</div></div><div class=\"p1837\" style=\"display: none;\"><div style=\"display: table-cell;\"></div><div style=\"display: table-cell;\">outline_line_dash_offset&nbsp;=&nbsp;0,</div></div><div class=\"p1837\" style=\"display: none;\"><div style=\"display: table-cell;\"></div><div style=\"display: table-cell;\">outline_line_join&nbsp;=&nbsp;'bevel',</div></div><div class=\"p1837\" style=\"display: none;\"><div style=\"display: table-cell;\"></div><div style=\"display: table-cell;\">outline_line_width&nbsp;=&nbsp;1,</div></div><div class=\"p1837\" style=\"display: none;\"><div style=\"display: table-cell;\"></div><div style=\"display: table-cell;\">output_backend&nbsp;=&nbsp;'canvas',</div></div><div class=\"p1837\" style=\"display: none;\"><div style=\"display: table-cell;\"></div><div style=\"display: table-cell;\">renderers&nbsp;=&nbsp;[GlyphRenderer(id='p1817', ...), GlyphRenderer(id='p1829', ...)],</div></div><div class=\"p1837\" style=\"display: none;\"><div style=\"display: table-cell;\"></div><div style=\"display: table-cell;\">reset_policy&nbsp;=&nbsp;'standard',</div></div><div class=\"p1837\" style=\"display: none;\"><div style=\"display: table-cell;\"></div><div style=\"display: table-cell;\">resizable&nbsp;=&nbsp;False,</div></div><div class=\"p1837\" style=\"display: none;\"><div style=\"display: table-cell;\"></div><div style=\"display: table-cell;\">right&nbsp;=&nbsp;[LinearAxis(id='p1833', ...)],</div></div><div class=\"p1837\" style=\"display: none;\"><div style=\"display: table-cell;\"></div><div style=\"display: table-cell;\">sizing_mode&nbsp;=&nbsp;None,</div></div><div class=\"p1837\" style=\"display: none;\"><div style=\"display: table-cell;\"></div><div style=\"display: table-cell;\">styles&nbsp;=&nbsp;{},</div></div><div class=\"p1837\" style=\"display: none;\"><div style=\"display: table-cell;\"></div><div style=\"display: table-cell;\">stylesheets&nbsp;=&nbsp;[],</div></div><div class=\"p1837\" style=\"display: none;\"><div style=\"display: table-cell;\"></div><div style=\"display: table-cell;\">subscribed_events&nbsp;=&nbsp;PropertyValueSet(),</div></div><div class=\"p1837\" style=\"display: none;\"><div style=\"display: table-cell;\"></div><div style=\"display: table-cell;\">syncable&nbsp;=&nbsp;True,</div></div><div class=\"p1837\" style=\"display: none;\"><div style=\"display: table-cell;\"></div><div style=\"display: table-cell;\">tags&nbsp;=&nbsp;[],</div></div><div class=\"p1837\" style=\"display: none;\"><div style=\"display: table-cell;\"></div><div style=\"display: table-cell;\">title&nbsp;=&nbsp;Title(id='p1786', ...),</div></div><div class=\"p1837\" style=\"display: none;\"><div style=\"display: table-cell;\"></div><div style=\"display: table-cell;\">title_location&nbsp;=&nbsp;'above',</div></div><div class=\"p1837\" style=\"display: none;\"><div style=\"display: table-cell;\"></div><div style=\"display: table-cell;\">toolbar&nbsp;=&nbsp;Toolbar(id='p1792', ...),</div></div><div class=\"p1837\" style=\"display: none;\"><div style=\"display: table-cell;\"></div><div style=\"display: table-cell;\">toolbar_inner&nbsp;=&nbsp;False,</div></div><div class=\"p1837\" style=\"display: none;\"><div style=\"display: table-cell;\"></div><div style=\"display: table-cell;\">toolbar_location&nbsp;=&nbsp;'above',</div></div><div class=\"p1837\" style=\"display: none;\"><div style=\"display: table-cell;\"></div><div style=\"display: table-cell;\">toolbar_sticky&nbsp;=&nbsp;True,</div></div><div class=\"p1837\" style=\"display: none;\"><div style=\"display: table-cell;\"></div><div style=\"display: table-cell;\">visible&nbsp;=&nbsp;True,</div></div><div class=\"p1837\" style=\"display: none;\"><div style=\"display: table-cell;\"></div><div style=\"display: table-cell;\">width&nbsp;=&nbsp;800,</div></div><div class=\"p1837\" style=\"display: none;\"><div style=\"display: table-cell;\"></div><div style=\"display: table-cell;\">width_policy&nbsp;=&nbsp;'auto',</div></div><div class=\"p1837\" style=\"display: none;\"><div style=\"display: table-cell;\"></div><div style=\"display: table-cell;\">x_range&nbsp;=&nbsp;Range1d(id='p1793', ...),</div></div><div class=\"p1837\" style=\"display: none;\"><div style=\"display: table-cell;\"></div><div style=\"display: table-cell;\">x_scale&nbsp;=&nbsp;LinearScale(id='p1795', ...),</div></div><div class=\"p1837\" style=\"display: none;\"><div style=\"display: table-cell;\"></div><div style=\"display: table-cell;\">y_range&nbsp;=&nbsp;Range1d(id='p1794', ...),</div></div><div class=\"p1837\" style=\"display: none;\"><div style=\"display: table-cell;\"></div><div style=\"display: table-cell;\">y_scale&nbsp;=&nbsp;LinearScale(id='p1796', ...))</div></div></div>\n",
       "<script>\n",
       "(function() {\n",
       "  let expanded = false;\n",
       "  const ellipsis = document.getElementById(\"p1838\");\n",
       "  ellipsis.addEventListener(\"click\", function() {\n",
       "    const rows = document.getElementsByClassName(\"p1837\");\n",
       "    for (let i = 0; i < rows.length; i++) {\n",
       "      const el = rows[i];\n",
       "      el.style.display = expanded ? \"none\" : \"table-row\";\n",
       "    }\n",
       "    ellipsis.innerHTML = expanded ? \"&hellip;)\" : \"&lsaquo;&lsaquo;&lsaquo;\";\n",
       "    expanded = !expanded;\n",
       "  });\n",
       "})();\n",
       "</script>\n"
      ],
      "text/plain": [
       "figure(id='p1783', ...)"
      ]
     },
     "metadata": {},
     "output_type": "display_data"
    }
   ],
   "source": [
    "client = Client(n_workers=n_workers, memory_limit=f'{16 / n_workers}GB')\n",
    "\n",
    "synthetic_data_shape = synthetic_data.shape  # Assuming shape is something like (inlines, crosslines, samples)\n",
    "expected_memory_usage_kb = envelope_model.predict(target_df)[0]  # Model output in KB\n",
    "\n",
    "optimal_chunk_size = get_optimal_chunk_size(synthetic_data_shape, expected_memory_usage_kb, client)\n",
    "print(f\"The optimal chunk size is {optimal_chunk_size}\")\n",
    "\n",
    "# Use Dask Profiler to monitor resource usage\n",
    "resource_profiler = ResourceProfiler()\n",
    "\n",
    "with resource_profiler:\n",
    "    start_time = time.time()\n",
    "    try:\n",
    "        synthetic_data = load_segy(synthetic_data_path)\n",
    "        print(\"Data shape: \", synthetic_data.shape)\n",
    "\n",
    "        X = da.from_array(synthetic_data, chunks=optimal_chunk_size)\n",
    "        print(\"Chunks: \", X.chunks)\n",
    "        print(\"Number of chunks along each axis:\", [len(c) for c in X.chunks])\n",
    "\n",
    "        result = envelope_from_ndarray(X)\n",
    "    finally:\n",
    "        end_time = time.time()\n",
    "        client.close()\n",
    "\n",
    "execution_time = end_time - start_time\n",
    "print(f\"Execution time: {execution_time:.2f} seconds\")\n",
    "\n",
    "resource_visualization = resource_profiler.visualize()\n",
    "display(resource_visualization)"
   ]
  },
  {
   "cell_type": "markdown",
   "id": "8facf46c-10e5-4f35-891a-30b57a009b46",
   "metadata": {},
   "source": [
    "## Evaluating with a large amount of workers"
   ]
  },
  {
   "cell_type": "code",
   "execution_count": 32,
   "id": "ae83224d-50bd-49f3-910b-7fc6d8af98f7",
   "metadata": {},
   "outputs": [],
   "source": [
    "n_workers = 25\n",
    "n_threads = 25"
   ]
  },
  {
   "cell_type": "markdown",
   "id": "4c781846-6ae8-4065-868c-49db9d1e8fb6",
   "metadata": {},
   "source": [
    "### Autochunking"
   ]
  },
  {
   "cell_type": "code",
   "execution_count": 33,
   "id": "5257eb5d-fb9b-4d23-9e56-fb5edec7bc2d",
   "metadata": {},
   "outputs": [
    {
     "name": "stderr",
     "output_type": "stream",
     "text": [
      "/home/delucca/.pyenv/versions/3.10.14/envs/dask-auto-chunking/lib/python3.10/site-packages/distributed/node.py:187: UserWarning: Port 8787 is already in use.\n",
      "Perhaps you already have a cluster running?\n",
      "Hosting the HTTP server on port 45843 instead\n",
      "  warnings.warn(\n"
     ]
    },
    {
     "name": "stdout",
     "output_type": "stream",
     "text": [
      "Data shape:  (600, 600, 600)\n",
      "Chunks:  ((322, 278), (322, 278), (322, 278))\n",
      "Number of chunks along each axis: [2, 2, 2]\n"
     ]
    },
    {
     "name": "stderr",
     "output_type": "stream",
     "text": [
      "/home/delucca/.pyenv/versions/3.10.14/envs/dask-auto-chunking/lib/python3.10/site-packages/distributed/client.py:3361: UserWarning: Sending large graph of size 823.98 MiB.\n",
      "This may cause some slowdown.\n",
      "Consider loading the data with Dask directly\n",
      " or using futures or delayed objects to embed the data into the graph without repetition.\n",
      "See also https://docs.dask.org/en/stable/best-practices.html#load-data-with-dask for more information.\n",
      "  warnings.warn(\n",
      "2024-10-08 16:13:50,361 - distributed.worker.memory - WARNING - Worker is at 82% memory usage. Pausing worker.  Process memory: 503.24 MiB -- Worker memory limit: 610.35 MiB\n",
      "2024-10-08 16:13:50,361 - distributed.worker.memory - WARNING - Unmanaged memory use is high. This may indicate a memory leak or the memory may not be released to the OS; see https://distributed.dask.org/en/latest/worker-memory.html#memory-not-released-back-to-the-os for more information. -- Unmanaged memory: 503.24 MiB -- Worker memory limit: 610.35 MiB\n",
      "2024-10-08 16:13:50,436 - distributed.worker.memory - WARNING - Worker is at 81% memory usage. Pausing worker.  Process memory: 495.82 MiB -- Worker memory limit: 610.35 MiB\n",
      "2024-10-08 16:13:50,436 - distributed.worker.memory - WARNING - Unmanaged memory use is high. This may indicate a memory leak or the memory may not be released to the OS; see https://distributed.dask.org/en/latest/worker-memory.html#memory-not-released-back-to-the-os for more information. -- Unmanaged memory: 495.82 MiB -- Worker memory limit: 610.35 MiB\n",
      "2024-10-08 16:13:50,552 - distributed.worker.memory - WARNING - Unmanaged memory use is high. This may indicate a memory leak or the memory may not be released to the OS; see https://distributed.dask.org/en/latest/worker-memory.html#memory-not-released-back-to-the-os for more information. -- Unmanaged memory: 464.80 MiB -- Worker memory limit: 610.35 MiB\n",
      "2024-10-08 16:13:50,689 - distributed.worker.memory - WARNING - Unmanaged memory use is high. This may indicate a memory leak or the memory may not be released to the OS; see https://distributed.dask.org/en/latest/worker-memory.html#memory-not-released-back-to-the-os for more information. -- Unmanaged memory: 482.05 MiB -- Worker memory limit: 610.35 MiB\n",
      "2024-10-08 16:13:50,765 - distributed.worker.memory - WARNING - Worker is at 81% memory usage. Pausing worker.  Process memory: 498.25 MiB -- Worker memory limit: 610.35 MiB\n",
      "2024-10-08 16:13:50,777 - distributed.worker.memory - WARNING - Unmanaged memory use is high. This may indicate a memory leak or the memory may not be released to the OS; see https://distributed.dask.org/en/latest/worker-memory.html#memory-not-released-back-to-the-os for more information. -- Unmanaged memory: 454.85 MiB -- Worker memory limit: 610.35 MiB\n",
      "2024-10-08 16:13:50,809 - distributed.worker.memory - WARNING - Unmanaged memory use is high. This may indicate a memory leak or the memory may not be released to the OS; see https://distributed.dask.org/en/latest/worker-memory.html#memory-not-released-back-to-the-os for more information. -- Unmanaged memory: 460.11 MiB -- Worker memory limit: 610.35 MiB\n",
      "2024-10-08 16:13:50,880 - distributed.worker.memory - WARNING - Worker is at 83% memory usage. Pausing worker.  Process memory: 512.21 MiB -- Worker memory limit: 610.35 MiB\n",
      "2024-10-08 16:13:50,894 - distributed.nanny.memory - WARNING - Worker tcp://127.0.0.1:35213 (pid=8459) exceeded 95% memory budget. Restarting...\n",
      "2024-10-08 16:13:50,895 - distributed.worker.memory - WARNING - Unmanaged memory use is high. This may indicate a memory leak or the memory may not be released to the OS; see https://distributed.dask.org/en/latest/worker-memory.html#memory-not-released-back-to-the-os for more information. -- Unmanaged memory: 454.73 MiB -- Worker memory limit: 610.35 MiB\n",
      "2024-10-08 16:13:50,907 - distributed.nanny.memory - WARNING - Worker tcp://127.0.0.1:42229 (pid=8371) exceeded 95% memory budget. Restarting...\n",
      "2024-10-08 16:13:50,930 - distributed.worker.memory - WARNING - Worker is at 80% memory usage. Pausing worker.  Process memory: 491.38 MiB -- Worker memory limit: 610.35 MiB\n",
      "2024-10-08 16:13:50,931 - distributed.worker.memory - WARNING - Unmanaged memory use is high. This may indicate a memory leak or the memory may not be released to the OS; see https://distributed.dask.org/en/latest/worker-memory.html#memory-not-released-back-to-the-os for more information. -- Unmanaged memory: 491.38 MiB -- Worker memory limit: 610.35 MiB\n",
      "2024-10-08 16:13:50,945 - distributed.worker.memory - WARNING - Worker is at 82% memory usage. Pausing worker.  Process memory: 503.98 MiB -- Worker memory limit: 610.35 MiB\n",
      "2024-10-08 16:13:50,945 - distributed.worker.memory - WARNING - Worker is at 82% memory usage. Pausing worker.  Process memory: 500.97 MiB -- Worker memory limit: 610.35 MiB\n",
      "2024-10-08 16:13:50,970 - distributed.worker.memory - WARNING - Worker is at 85% memory usage. Pausing worker.  Process memory: 521.51 MiB -- Worker memory limit: 610.35 MiB\n",
      "2024-10-08 16:13:50,974 - distributed.scheduler - WARNING - Removing worker 'tcp://127.0.0.1:35213' caused the cluster to lose already computed task(s), which will be recomputed elsewhere: {('array-6184aae8e99e288bb2d0096c91fd1813', 1, 1, 0)} (stimulus_id='handle-worker-cleanup-1728414830.9735055')\n",
      "2024-10-08 16:13:50,977 - distributed.scheduler - WARNING - Removing worker 'tcp://127.0.0.1:42229' caused the cluster to lose already computed task(s), which will be recomputed elsewhere: {('array-6184aae8e99e288bb2d0096c91fd1813', 0, 0, 0)} (stimulus_id='handle-worker-cleanup-1728414830.977406')\n",
      "2024-10-08 16:13:50,988 - distributed.nanny.memory - WARNING - Worker tcp://127.0.0.1:38289 (pid=8428) exceeded 95% memory budget. Restarting...\n",
      "2024-10-08 16:13:51,037 - distributed.scheduler - WARNING - Removing worker 'tcp://127.0.0.1:38289' caused the cluster to lose already computed task(s), which will be recomputed elsewhere: {('array-6184aae8e99e288bb2d0096c91fd1813', 1, 0, 0)} (stimulus_id='handle-worker-cleanup-1728414831.0370228')\n",
      "2024-10-08 16:13:51,041 - distributed.nanny.memory - WARNING - Worker tcp://127.0.0.1:39917 (pid=8407) exceeded 95% memory budget. Restarting...\n",
      "2024-10-08 16:13:51,156 - distributed.scheduler - WARNING - Removing worker 'tcp://127.0.0.1:39917' caused the cluster to lose already computed task(s), which will be recomputed elsewhere: {('array-6184aae8e99e288bb2d0096c91fd1813', 0, 1, 0)} (stimulus_id='handle-worker-cleanup-1728414831.155732')\n",
      "2024-10-08 16:13:51,167 - distributed.nanny.memory - WARNING - Worker tcp://127.0.0.1:34507 (pid=8389) exceeded 95% memory budget. Restarting...\n",
      "2024-10-08 16:13:51,220 - distributed.nanny.memory - WARNING - Worker tcp://127.0.0.1:36493 (pid=8379) exceeded 95% memory budget. Restarting...\n",
      "2024-10-08 16:13:51,229 - distributed.nanny.memory - WARNING - Worker tcp://127.0.0.1:40599 (pid=8456) exceeded 95% memory budget. Restarting...\n",
      "2024-10-08 16:13:51,232 - distributed.nanny.memory - WARNING - Worker tcp://127.0.0.1:39183 (pid=8365) exceeded 95% memory budget. Restarting...\n",
      "2024-10-08 16:13:51,266 - distributed.scheduler - WARNING - Removing worker 'tcp://127.0.0.1:34507' caused the cluster to lose already computed task(s), which will be recomputed elsewhere: {('array-6184aae8e99e288bb2d0096c91fd1813', 1, 1, 1)} (stimulus_id='handle-worker-cleanup-1728414831.2660542')\n",
      "2024-10-08 16:13:51,302 - distributed.scheduler - WARNING - Removing worker 'tcp://127.0.0.1:36493' caused the cluster to lose already computed task(s), which will be recomputed elsewhere: {('array-6184aae8e99e288bb2d0096c91fd1813', 1, 0, 1)} (stimulus_id='handle-worker-cleanup-1728414831.3023827')\n",
      "2024-10-08 16:13:51,306 - distributed.scheduler - WARNING - Removing worker 'tcp://127.0.0.1:40599' caused the cluster to lose already computed task(s), which will be recomputed elsewhere: {('array-6184aae8e99e288bb2d0096c91fd1813', 0, 0, 1)} (stimulus_id='handle-worker-cleanup-1728414831.306296')\n",
      "2024-10-08 16:13:51,316 - distributed.scheduler - WARNING - Removing worker 'tcp://127.0.0.1:39183' caused the cluster to lose already computed task(s), which will be recomputed elsewhere: {('array-6184aae8e99e288bb2d0096c91fd1813', 0, 1, 1)} (stimulus_id='handle-worker-cleanup-1728414831.3166213')\n",
      "2024-10-08 16:13:51,375 - distributed.nanny - WARNING - Restarting worker\n",
      "2024-10-08 16:13:51,379 - distributed.nanny - WARNING - Restarting worker\n",
      "2024-10-08 16:13:51,491 - distributed.nanny - WARNING - Restarting worker\n",
      "2024-10-08 16:13:51,532 - distributed.nanny - WARNING - Restarting worker\n",
      "2024-10-08 16:13:51,564 - distributed.nanny - WARNING - Restarting worker\n",
      "2024-10-08 16:13:51,627 - distributed.nanny - WARNING - Restarting worker\n",
      "2024-10-08 16:13:51,640 - distributed.nanny - WARNING - Restarting worker\n",
      "2024-10-08 16:13:51,673 - distributed.nanny - WARNING - Restarting worker\n",
      "2024-10-08 16:13:52,214 - distributed.worker.memory - WARNING - Worker is at 93% memory usage. Pausing worker.  Process memory: 569.89 MiB -- Worker memory limit: 610.35 MiB\n",
      "2024-10-08 16:13:52,215 - distributed.worker.memory - WARNING - Unmanaged memory use is high. This may indicate a memory leak or the memory may not be released to the OS; see https://distributed.dask.org/en/latest/worker-memory.html#memory-not-released-back-to-the-os for more information. -- Unmanaged memory: 569.89 MiB -- Worker memory limit: 610.35 MiB\n",
      "2024-10-08 16:13:52,217 - distributed.worker.memory - WARNING - Worker is at 83% memory usage. Pausing worker.  Process memory: 508.01 MiB -- Worker memory limit: 610.35 MiB\n",
      "2024-10-08 16:13:52,217 - distributed.worker.memory - WARNING - Unmanaged memory use is high. This may indicate a memory leak or the memory may not be released to the OS; see https://distributed.dask.org/en/latest/worker-memory.html#memory-not-released-back-to-the-os for more information. -- Unmanaged memory: 508.01 MiB -- Worker memory limit: 610.35 MiB\n",
      "2024-10-08 16:13:52,254 - distributed.nanny.memory - WARNING - Worker tcp://127.0.0.1:43649 (pid=8367) exceeded 95% memory budget. Restarting...\n",
      "2024-10-08 16:13:52,330 - distributed.scheduler - WARNING - Removing worker 'tcp://127.0.0.1:43649' caused the cluster to lose already computed task(s), which will be recomputed elsewhere: {('array-6184aae8e99e288bb2d0096c91fd1813', 0, 0, 0)} (stimulus_id='handle-worker-cleanup-1728414832.3292656')\n",
      "2024-10-08 16:13:52,391 - distributed.nanny.memory - WARNING - Worker tcp://127.0.0.1:44315 (pid=8399) exceeded 95% memory budget. Restarting...\n",
      "2024-10-08 16:13:52,461 - distributed.scheduler - WARNING - Removing worker 'tcp://127.0.0.1:44315' caused the cluster to lose already computed task(s), which will be recomputed elsewhere: {('array-6184aae8e99e288bb2d0096c91fd1813', 1, 1, 0)} (stimulus_id='handle-worker-cleanup-1728414832.4613998')\n",
      "2024-10-08 16:13:52,500 - distributed.nanny.memory - WARNING - Worker tcp://127.0.0.1:39791 (pid=8439) exceeded 95% memory budget. Restarting...\n",
      "2024-10-08 16:13:52,644 - distributed.scheduler - WARNING - Removing worker 'tcp://127.0.0.1:39791' caused the cluster to lose already computed task(s), which will be recomputed elsewhere: {('array-6184aae8e99e288bb2d0096c91fd1813', 1, 0, 0)} (stimulus_id='handle-worker-cleanup-1728414832.644312')\n",
      "2024-10-08 16:13:52,688 - distributed.worker.memory - WARNING - Worker is at 92% memory usage. Pausing worker.  Process memory: 566.97 MiB -- Worker memory limit: 610.35 MiB\n",
      "2024-10-08 16:13:52,689 - distributed.worker.memory - WARNING - Unmanaged memory use is high. This may indicate a memory leak or the memory may not be released to the OS; see https://distributed.dask.org/en/latest/worker-memory.html#memory-not-released-back-to-the-os for more information. -- Unmanaged memory: 566.97 MiB -- Worker memory limit: 610.35 MiB\n",
      "2024-10-08 16:13:52,828 - distributed.nanny.memory - WARNING - Worker tcp://127.0.0.1:46137 (pid=8436) exceeded 95% memory budget. Restarting...\n",
      "2024-10-08 16:13:52,843 - distributed.nanny - WARNING - Restarting worker\n",
      "2024-10-08 16:13:52,856 - distributed.worker.memory - WARNING - Worker is at 82% memory usage. Pausing worker.  Process memory: 504.50 MiB -- Worker memory limit: 610.35 MiB\n",
      "2024-10-08 16:13:52,856 - distributed.worker.memory - WARNING - Unmanaged memory use is high. This may indicate a memory leak or the memory may not be released to the OS; see https://distributed.dask.org/en/latest/worker-memory.html#memory-not-released-back-to-the-os for more information. -- Unmanaged memory: 504.50 MiB -- Worker memory limit: 610.35 MiB\n",
      "2024-10-08 16:13:52,929 - distributed.scheduler - WARNING - Removing worker 'tcp://127.0.0.1:46137' caused the cluster to lose already computed task(s), which will be recomputed elsewhere: {('array-6184aae8e99e288bb2d0096c91fd1813', 0, 1, 0)} (stimulus_id='handle-worker-cleanup-1728414832.9289513')\n",
      "2024-10-08 16:13:52,956 - distributed.worker.memory - WARNING - Unmanaged memory use is high. This may indicate a memory leak or the memory may not be released to the OS; see https://distributed.dask.org/en/latest/worker-memory.html#memory-not-released-back-to-the-os for more information. -- Unmanaged memory: 377.06 MiB -- Worker memory limit: 610.35 MiB\n",
      "2024-10-08 16:13:52,979 - distributed.worker.memory - WARNING - Worker is at 80% memory usage. Pausing worker.  Process memory: 490.72 MiB -- Worker memory limit: 610.35 MiB\n",
      "2024-10-08 16:13:52,979 - distributed.worker.memory - WARNING - Unmanaged memory use is high. This may indicate a memory leak or the memory may not be released to the OS; see https://distributed.dask.org/en/latest/worker-memory.html#memory-not-released-back-to-the-os for more information. -- Unmanaged memory: 490.72 MiB -- Worker memory limit: 610.35 MiB\n",
      "2024-10-08 16:13:53,017 - distributed.nanny - WARNING - Restarting worker\n",
      "2024-10-08 16:13:53,081 - distributed.nanny - WARNING - Restarting worker\n",
      "2024-10-08 16:13:53,082 - distributed.worker.memory - WARNING - Worker is at 92% memory usage. Pausing worker.  Process memory: 563.81 MiB -- Worker memory limit: 610.35 MiB\n",
      "2024-10-08 16:13:53,178 - distributed.nanny.memory - WARNING - Worker tcp://127.0.0.1:36661 (pid=8403) exceeded 95% memory budget. Restarting...\n",
      "2024-10-08 16:13:53,225 - distributed.nanny.memory - WARNING - Worker tcp://127.0.0.1:45211 (pid=8444) exceeded 95% memory budget. Restarting...\n",
      "2024-10-08 16:13:53,241 - distributed.scheduler - WARNING - Removing worker 'tcp://127.0.0.1:36661' caused the cluster to lose already computed task(s), which will be recomputed elsewhere: {('array-6184aae8e99e288bb2d0096c91fd1813', 1, 1, 1)} (stimulus_id='handle-worker-cleanup-1728414833.2406979')\n",
      "2024-10-08 16:13:53,239 - distributed.worker.memory - WARNING - Worker is at 83% memory usage. Pausing worker.  Process memory: 510.93 MiB -- Worker memory limit: 610.35 MiB\n",
      "2024-10-08 16:13:53,240 - distributed.worker.memory - WARNING - Unmanaged memory use is high. This may indicate a memory leak or the memory may not be released to the OS; see https://distributed.dask.org/en/latest/worker-memory.html#memory-not-released-back-to-the-os for more information. -- Unmanaged memory: 510.93 MiB -- Worker memory limit: 610.35 MiB\n",
      "2024-10-08 16:13:53,292 - distributed.scheduler - WARNING - Removing worker 'tcp://127.0.0.1:45211' caused the cluster to lose already computed task(s), which will be recomputed elsewhere: {('array-6184aae8e99e288bb2d0096c91fd1813', 1, 0, 1)} (stimulus_id='handle-worker-cleanup-1728414833.292101')\n",
      "2024-10-08 16:13:53,308 - distributed.nanny.memory - WARNING - Worker tcp://127.0.0.1:38591 (pid=8415) exceeded 95% memory budget. Restarting...\n",
      "2024-10-08 16:13:53,330 - distributed.nanny - WARNING - Restarting worker\n",
      "2024-10-08 16:13:53,387 - distributed.scheduler - WARNING - Removing worker 'tcp://127.0.0.1:38591' caused the cluster to lose already computed task(s), which will be recomputed elsewhere: {('array-6184aae8e99e288bb2d0096c91fd1813', 0, 0, 1)} (stimulus_id='handle-worker-cleanup-1728414833.3875403')\n",
      "2024-10-08 16:13:53,456 - distributed.nanny.memory - WARNING - Worker tcp://127.0.0.1:43217 (pid=8396) exceeded 95% memory budget. Restarting...\n",
      "2024-10-08 16:13:53,536 - distributed.scheduler - WARNING - Removing worker 'tcp://127.0.0.1:43217' caused the cluster to lose already computed task(s), which will be recomputed elsewhere: {('array-6184aae8e99e288bb2d0096c91fd1813', 0, 1, 1)} (stimulus_id='handle-worker-cleanup-1728414833.5356834')\n",
      "2024-10-08 16:13:53,679 - distributed.nanny - WARNING - Restarting worker\n",
      "2024-10-08 16:13:53,719 - distributed.nanny - WARNING - Restarting worker\n",
      "2024-10-08 16:13:53,764 - distributed.nanny - WARNING - Restarting worker\n",
      "2024-10-08 16:13:53,834 - distributed.nanny - WARNING - Restarting worker\n",
      "2024-10-08 16:13:53,891 - distributed.worker.memory - WARNING - Worker is at 82% memory usage. Pausing worker.  Process memory: 501.66 MiB -- Worker memory limit: 610.35 MiB\n",
      "2024-10-08 16:13:53,894 - distributed.worker.memory - WARNING - Unmanaged memory use is high. This may indicate a memory leak or the memory may not be released to the OS; see https://distributed.dask.org/en/latest/worker-memory.html#memory-not-released-back-to-the-os for more information. -- Unmanaged memory: 570.47 MiB -- Worker memory limit: 610.35 MiB\n",
      "2024-10-08 16:13:53,992 - distributed.nanny.memory - WARNING - Worker tcp://127.0.0.1:35489 (pid=8375) exceeded 95% memory budget. Restarting...\n",
      "2024-10-08 16:13:53,996 - distributed.worker.memory - WARNING - Unmanaged memory use is high. This may indicate a memory leak or the memory may not be released to the OS; see https://distributed.dask.org/en/latest/worker-memory.html#memory-not-released-back-to-the-os for more information. -- Unmanaged memory: 620.93 MiB -- Worker memory limit: 610.35 MiB\n",
      "2024-10-08 16:13:54,007 - distributed.nanny.memory - WARNING - Worker tcp://127.0.0.1:43481 (pid=8448) exceeded 95% memory budget. Restarting...\n",
      "2024-10-08 16:13:54,008 - distributed.worker.memory - WARNING - Worker is at 93% memory usage. Pausing worker.  Process memory: 570.47 MiB -- Worker memory limit: 610.35 MiB\n",
      "2024-10-08 16:13:54,077 - distributed.scheduler - WARNING - Removing worker 'tcp://127.0.0.1:35489' caused the cluster to lose already computed task(s), which will be recomputed elsewhere: {('array-6184aae8e99e288bb2d0096c91fd1813', 1, 1, 0)} (stimulus_id='handle-worker-cleanup-1728414834.0775747')\n",
      "2024-10-08 16:13:54,085 - distributed.scheduler - WARNING - Removing worker 'tcp://127.0.0.1:43481' caused the cluster to lose already computed task(s), which will be recomputed elsewhere: {('array-6184aae8e99e288bb2d0096c91fd1813', 0, 0, 0)} (stimulus_id='handle-worker-cleanup-1728414834.085134')\n",
      "2024-10-08 16:13:54,091 - distributed.diskutils - ERROR - Failed to remove '/tmp/dask-scratch-space/worker-tiny0s31/storage' (failed in <built-in function rmdir>): [Errno 2] No such file or directory: 'storage'\n",
      "2024-10-08 16:13:54,091 - distributed.diskutils - ERROR - Failed to remove '/tmp/dask-scratch-space/worker-tiny0s31' (failed in <built-in function rmdir>): [Errno 2] No such file or directory: '/tmp/dask-scratch-space/worker-tiny0s31'\n",
      "2024-10-08 16:13:54,099 - distributed.nanny.memory - WARNING - Worker tcp://127.0.0.1:43579 (pid=8431) exceeded 95% memory budget. Restarting...\n",
      "2024-10-08 16:13:54,186 - distributed.scheduler - WARNING - Removing worker 'tcp://127.0.0.1:43579' caused the cluster to lose already computed task(s), which will be recomputed elsewhere: {('array-6184aae8e99e288bb2d0096c91fd1813', 1, 0, 0)} (stimulus_id='handle-worker-cleanup-1728414834.1863883')\n",
      "2024-10-08 16:13:54,217 - distributed.worker.memory - WARNING - Worker is at 93% memory usage. Pausing worker.  Process memory: 570.22 MiB -- Worker memory limit: 610.35 MiB\n",
      "2024-10-08 16:13:54,219 - distributed.worker.memory - WARNING - Unmanaged memory use is high. This may indicate a memory leak or the memory may not be released to the OS; see https://distributed.dask.org/en/latest/worker-memory.html#memory-not-released-back-to-the-os for more information. -- Unmanaged memory: 570.22 MiB -- Worker memory limit: 610.35 MiB\n",
      "2024-10-08 16:13:54,386 - distributed.nanny.memory - WARNING - Worker tcp://127.0.0.1:45413 (pid=8452) exceeded 95% memory budget. Restarting...\n",
      "2024-10-08 16:13:54,439 - distributed.scheduler - WARNING - Removing worker 'tcp://127.0.0.1:45413' caused the cluster to lose already computed task(s), which will be recomputed elsewhere: {('array-6184aae8e99e288bb2d0096c91fd1813', 0, 1, 0)} (stimulus_id='handle-worker-cleanup-1728414834.4388206')\n",
      "2024-10-08 16:13:54,507 - distributed.nanny - WARNING - Restarting worker\n",
      "2024-10-08 16:13:54,536 - distributed.nanny - WARNING - Restarting worker\n",
      "2024-10-08 16:13:54,575 - distributed.nanny - WARNING - Restarting worker\n",
      "2024-10-08 16:13:54,763 - distributed.nanny - WARNING - Restarting worker\n",
      "2024-10-08 16:13:54,873 - distributed.worker.memory - WARNING - Unmanaged memory use is high. This may indicate a memory leak or the memory may not be released to the OS; see https://distributed.dask.org/en/latest/worker-memory.html#memory-not-released-back-to-the-os for more information. -- Unmanaged memory: 456.51 MiB -- Worker memory limit: 610.35 MiB\n",
      "2024-10-08 16:13:55,053 - distributed.worker.memory - WARNING - Worker is at 81% memory usage. Pausing worker.  Process memory: 499.83 MiB -- Worker memory limit: 610.35 MiB\n",
      "2024-10-08 16:13:55,054 - distributed.worker.memory - WARNING - Unmanaged memory use is high. This may indicate a memory leak or the memory may not be released to the OS; see https://distributed.dask.org/en/latest/worker-memory.html#memory-not-released-back-to-the-os for more information. -- Unmanaged memory: 499.83 MiB -- Worker memory limit: 610.35 MiB\n",
      "2024-10-08 16:13:55,065 - distributed.worker.memory - WARNING - Worker is at 83% memory usage. Pausing worker.  Process memory: 510.36 MiB -- Worker memory limit: 610.35 MiB\n",
      "2024-10-08 16:13:55,098 - distributed.worker.memory - WARNING - Worker is at 83% memory usage. Pausing worker.  Process memory: 506.96 MiB -- Worker memory limit: 610.35 MiB\n",
      "2024-10-08 16:13:55,099 - distributed.worker.memory - WARNING - Unmanaged memory use is high. This may indicate a memory leak or the memory may not be released to the OS; see https://distributed.dask.org/en/latest/worker-memory.html#memory-not-released-back-to-the-os for more information. -- Unmanaged memory: 506.96 MiB -- Worker memory limit: 610.35 MiB\n",
      "2024-10-08 16:13:55,135 - distributed.worker.memory - WARNING - Worker is at 83% memory usage. Pausing worker.  Process memory: 511.77 MiB -- Worker memory limit: 610.35 MiB\n",
      "2024-10-08 16:13:55,135 - distributed.worker.memory - WARNING - Unmanaged memory use is high. This may indicate a memory leak or the memory may not be released to the OS; see https://distributed.dask.org/en/latest/worker-memory.html#memory-not-released-back-to-the-os for more information. -- Unmanaged memory: 511.77 MiB -- Worker memory limit: 610.35 MiB\n",
      "2024-10-08 16:13:55,205 - distributed.nanny.memory - WARNING - Worker tcp://127.0.0.1:40923 (pid=8421) exceeded 95% memory budget. Restarting...\n",
      "2024-10-08 16:13:55,258 - distributed.scheduler - WARNING - Removing worker 'tcp://127.0.0.1:40923' caused the cluster to lose already computed task(s), which will be recomputed elsewhere: {('array-6184aae8e99e288bb2d0096c91fd1813', 1, 1, 1)} (stimulus_id='handle-worker-cleanup-1728414835.2573822')\n",
      "2024-10-08 16:13:55,325 - distributed.nanny.memory - WARNING - Worker tcp://127.0.0.1:34689 (pid=8392) exceeded 95% memory budget. Restarting...\n",
      "2024-10-08 16:13:55,350 - distributed.nanny.memory - WARNING - Worker tcp://127.0.0.1:43269 (pid=8424) exceeded 95% memory budget. Restarting...\n",
      "2024-10-08 16:13:55,373 - distributed.worker.memory - WARNING - Worker is at 84% memory usage. Pausing worker.  Process memory: 515.54 MiB -- Worker memory limit: 610.35 MiB\n",
      "2024-10-08 16:13:55,373 - distributed.worker.memory - WARNING - Unmanaged memory use is high. This may indicate a memory leak or the memory may not be released to the OS; see https://distributed.dask.org/en/latest/worker-memory.html#memory-not-released-back-to-the-os for more information. -- Unmanaged memory: 515.54 MiB -- Worker memory limit: 610.35 MiB\n",
      "2024-10-08 16:13:55,380 - distributed.diskutils - ERROR - Failed to remove '/tmp/dask-scratch-space/worker-jto6cnu8/storage' (failed in <built-in function rmdir>): [Errno 2] No such file or directory: 'storage'\n",
      "2024-10-08 16:13:55,380 - distributed.diskutils - ERROR - Failed to remove '/tmp/dask-scratch-space/worker-jto6cnu8' (failed in <built-in function rmdir>): [Errno 2] No such file or directory: '/tmp/dask-scratch-space/worker-jto6cnu8'\n",
      "2024-10-08 16:13:55,409 - distributed.scheduler - WARNING - Removing worker 'tcp://127.0.0.1:34689' caused the cluster to lose already computed task(s), which will be recomputed elsewhere: {('array-6184aae8e99e288bb2d0096c91fd1813', 0, 1, 1)} (stimulus_id='handle-worker-cleanup-1728414835.408865')\n",
      "2024-10-08 16:13:55,418 - distributed.scheduler - WARNING - Removing worker 'tcp://127.0.0.1:43269' caused the cluster to lose already computed task(s), which will be recomputed elsewhere: {('array-6184aae8e99e288bb2d0096c91fd1813', 1, 0, 1)} (stimulus_id='handle-worker-cleanup-1728414835.4171195')\n",
      "2024-10-08 16:13:55,467 - distributed.nanny.memory - WARNING - Worker tcp://127.0.0.1:43725 (pid=8640) exceeded 95% memory budget. Restarting...\n",
      "2024-10-08 16:13:55,506 - distributed.scheduler - ERROR - Task ('absolute-74f73ac830f252c13b8a1ddebafcc028', 1, 1, 0) marked as failed because 4 workers died while trying to run it\n",
      "2024-10-08 16:13:55,510 - distributed.scheduler - WARNING - Removing worker 'tcp://127.0.0.1:43725' caused the cluster to lose already computed task(s), which will be recomputed elsewhere: {('array-6184aae8e99e288bb2d0096c91fd1813', 1, 1, 0)} (stimulus_id='handle-worker-cleanup-1728414835.5049198')\n",
      "2024-10-08 16:13:55,540 - distributed.nanny.memory - WARNING - Worker tcp://127.0.0.1:42313 (pid=8411) exceeded 95% memory budget. Restarting...\n",
      "2024-10-08 16:13:55,545 - distributed.worker.memory - WARNING - Worker is at 94% memory usage. Pausing worker.  Process memory: 574.50 MiB -- Worker memory limit: 610.35 MiB\n",
      "2024-10-08 16:13:55,545 - distributed.worker.memory - WARNING - Unmanaged memory use is high. This may indicate a memory leak or the memory may not be released to the OS; see https://distributed.dask.org/en/latest/worker-memory.html#memory-not-released-back-to-the-os for more information. -- Unmanaged memory: 574.50 MiB -- Worker memory limit: 610.35 MiB\n",
      "2024-10-08 16:13:55,565 - distributed.worker.memory - WARNING - Worker is at 85% memory usage. Pausing worker.  Process memory: 519.71 MiB -- Worker memory limit: 610.35 MiB\n",
      "2024-10-08 16:13:55,566 - distributed.worker.memory - WARNING - Unmanaged memory use is high. This may indicate a memory leak or the memory may not be released to the OS; see https://distributed.dask.org/en/latest/worker-memory.html#memory-not-released-back-to-the-os for more information. -- Unmanaged memory: 519.71 MiB -- Worker memory limit: 610.35 MiB\n",
      "2024-10-08 16:13:55,568 - distributed.diskutils - ERROR - Failed to remove '/tmp/dask-scratch-space/worker-6w641b_w/storage' (failed in <built-in function rmdir>): [Errno 2] No such file or directory: 'storage'\n",
      "2024-10-08 16:13:55,569 - distributed.diskutils - ERROR - Failed to remove '/tmp/dask-scratch-space/worker-6w641b_w' (failed in <built-in function rmdir>): [Errno 2] No such file or directory: '/tmp/dask-scratch-space/worker-6w641b_w'\n",
      "2024-10-08 16:13:55,649 - distributed.worker.memory - WARNING - Worker is at 87% memory usage. Pausing worker.  Process memory: 531.57 MiB -- Worker memory limit: 610.35 MiB\n",
      "2024-10-08 16:13:55,672 - distributed.scheduler - WARNING - Removing worker 'tcp://127.0.0.1:42313' caused the cluster to lose already computed task(s), which will be recomputed elsewhere: {('array-6184aae8e99e288bb2d0096c91fd1813', 0, 0, 1)} (stimulus_id='handle-worker-cleanup-1728414835.6720607')\n",
      "2024-10-08 16:13:55,677 - distributed.nanny.memory - WARNING - Worker tcp://127.0.0.1:34417 (pid=8624) exceeded 95% memory budget. Restarting...\n",
      "2024-10-08 16:13:55,716 - distributed.worker.memory - WARNING - Unmanaged memory use is high. This may indicate a memory leak or the memory may not be released to the OS; see https://distributed.dask.org/en/latest/worker-memory.html#memory-not-released-back-to-the-os for more information. -- Unmanaged memory: 493.36 MiB -- Worker memory limit: 610.35 MiB\n",
      "2024-10-08 16:13:55,724 - distributed.nanny.memory - WARNING - Worker tcp://127.0.0.1:34111 (pid=8648) exceeded 95% memory budget. Restarting...\n",
      "2024-10-08 16:13:55,739 - distributed.scheduler - ERROR - Task ('absolute-74f73ac830f252c13b8a1ddebafcc028', 1, 0, 0) marked as failed because 4 workers died while trying to run it\n",
      "2024-10-08 16:13:55,740 - distributed.scheduler - WARNING - Removing worker 'tcp://127.0.0.1:34417' caused the cluster to lose already computed task(s), which will be recomputed elsewhere: {('array-6184aae8e99e288bb2d0096c91fd1813', 1, 0, 0)} (stimulus_id='handle-worker-cleanup-1728414835.7387586')\n",
      "2024-10-08 16:13:55,744 - distributed.nanny.memory - WARNING - Worker tcp://127.0.0.1:42053 (pid=8701) exceeded 95% memory budget. Restarting...\n",
      "2024-10-08 16:13:55,756 - distributed.nanny - WARNING - Restarting worker\n",
      "2024-10-08 16:13:55,816 - distributed.scheduler - ERROR - Task ('absolute-74f73ac830f252c13b8a1ddebafcc028', 0, 1, 0) marked as failed because 4 workers died while trying to run it\n",
      "2024-10-08 16:13:55,817 - distributed.scheduler - WARNING - Removing worker 'tcp://127.0.0.1:42053' caused the cluster to lose already computed task(s), which will be recomputed elsewhere: {('array-6184aae8e99e288bb2d0096c91fd1813', 0, 1, 0)} (stimulus_id='handle-worker-cleanup-1728414835.815933')\n",
      "2024-10-08 16:13:55,826 - distributed.scheduler - ERROR - Task ('absolute-74f73ac830f252c13b8a1ddebafcc028', 0, 0, 0) marked as failed because 4 workers died while trying to run it\n",
      "2024-10-08 16:13:55,827 - distributed.scheduler - WARNING - Removing worker 'tcp://127.0.0.1:34111' caused the cluster to lose already computed task(s), which will be recomputed elsewhere: {('array-6184aae8e99e288bb2d0096c91fd1813', 0, 0, 0)} (stimulus_id='handle-worker-cleanup-1728414835.826241')\n",
      "2024-10-08 16:13:55,835 - distributed.nanny - WARNING - Restarting worker\n",
      "2024-10-08 16:13:55,907 - distributed.nanny - WARNING - Restarting worker\n",
      "2024-10-08 16:13:55,914 - distributed.nanny - WARNING - Restarting worker\n",
      "2024-10-08 16:13:55,921 - distributed.nanny - WARNING - Restarting worker\n",
      "2024-10-08 16:13:55,961 - distributed.nanny - WARNING - Restarting worker\n",
      "2024-10-08 16:13:55,986 - distributed.nanny - WARNING - Restarting worker\n",
      "2024-10-08 16:13:56,030 - distributed.nanny - WARNING - Restarting worker\n",
      "2024-10-08 16:13:56,402 - distributed.worker.memory - WARNING - Unmanaged memory use is high. This may indicate a memory leak or the memory may not be released to the OS; see https://distributed.dask.org/en/latest/worker-memory.html#memory-not-released-back-to-the-os for more information. -- Unmanaged memory: 453.84 MiB -- Worker memory limit: 610.35 MiB\n",
      "2024-10-08 16:13:56,560 - distributed.worker.memory - WARNING - Unmanaged memory use is high. This may indicate a memory leak or the memory may not be released to the OS; see https://distributed.dask.org/en/latest/worker-memory.html#memory-not-released-back-to-the-os for more information. -- Unmanaged memory: 457.44 MiB -- Worker memory limit: 610.35 MiB\n",
      "2024-10-08 16:13:56,576 - distributed.worker.memory - WARNING - Unmanaged memory use is high. This may indicate a memory leak or the memory may not be released to the OS; see https://distributed.dask.org/en/latest/worker-memory.html#memory-not-released-back-to-the-os for more information. -- Unmanaged memory: 434.56 MiB -- Worker memory limit: 610.35 MiB\n",
      "2024-10-08 16:13:56,642 - distributed.worker.memory - WARNING - Worker is at 92% memory usage. Pausing worker.  Process memory: 567.62 MiB -- Worker memory limit: 610.35 MiB\n",
      "2024-10-08 16:13:56,704 - distributed.worker.memory - WARNING - Worker is at 83% memory usage. Pausing worker.  Process memory: 509.44 MiB -- Worker memory limit: 610.35 MiB\n",
      "2024-10-08 16:13:56,716 - distributed.worker.memory - WARNING - Worker is at 80% memory usage. Pausing worker.  Process memory: 488.59 MiB -- Worker memory limit: 610.35 MiB\n",
      "2024-10-08 16:13:56,901 - distributed.worker.memory - WARNING - Worker is at 22% memory usage. Resuming worker. Process memory: 135.92 MiB -- Worker memory limit: 610.35 MiB\n",
      "2024-10-08 16:13:57,041 - distributed.nanny.memory - WARNING - Worker tcp://127.0.0.1:35247 (pid=8644) exceeded 95% memory budget. Restarting...\n",
      "2024-10-08 16:13:57,160 - distributed.worker.memory - WARNING - Worker is at 22% memory usage. Resuming worker. Process memory: 135.42 MiB -- Worker memory limit: 610.35 MiB\n",
      "2024-10-08 16:13:57,273 - distributed.nanny - WARNING - Restarting worker\n"
     ]
    },
    {
     "ename": "KilledWorker",
     "evalue": "Attempted to run task ('absolute-74f73ac830f252c13b8a1ddebafcc028', 1, 1, 0) on 4 different workers, but all those workers died while running it. The last worker that attempt to run the task was tcp://127.0.0.1:43725. Inspecting worker logs is often a good next step to diagnose what went wrong. For more information see https://distributed.dask.org/en/stable/killed.html.",
     "output_type": "error",
     "traceback": [
      "\u001B[0;31m---------------------------------------------------------------------------\u001B[0m",
      "\u001B[0;31mKilledWorker\u001B[0m                              Traceback (most recent call last)",
      "Cell \u001B[0;32mIn[33], line 16\u001B[0m\n\u001B[1;32m     13\u001B[0m     \u001B[38;5;28mprint\u001B[39m(\u001B[38;5;124m\"\u001B[39m\u001B[38;5;124mChunks: \u001B[39m\u001B[38;5;124m\"\u001B[39m, X\u001B[38;5;241m.\u001B[39mchunks)\n\u001B[1;32m     14\u001B[0m     \u001B[38;5;28mprint\u001B[39m(\u001B[38;5;124m\"\u001B[39m\u001B[38;5;124mNumber of chunks along each axis:\u001B[39m\u001B[38;5;124m\"\u001B[39m, [\u001B[38;5;28mlen\u001B[39m(c) \u001B[38;5;28;01mfor\u001B[39;00m c \u001B[38;5;129;01min\u001B[39;00m X\u001B[38;5;241m.\u001B[39mchunks])\n\u001B[0;32m---> 16\u001B[0m     result \u001B[38;5;241m=\u001B[39m \u001B[43menvelope_from_ndarray\u001B[49m\u001B[43m(\u001B[49m\u001B[43mX\u001B[49m\u001B[43m)\u001B[49m\n\u001B[1;32m     17\u001B[0m \u001B[38;5;28;01mfinally\u001B[39;00m:\n\u001B[1;32m     18\u001B[0m     end_time \u001B[38;5;241m=\u001B[39m time\u001B[38;5;241m.\u001B[39mtime()\n",
      "File \u001B[0;32m~/src/unicamp/msc/dask-auto-chunking/libs/helpers/helpers/dask_operators.py:26\u001B[0m, in \u001B[0;36menvelope_from_ndarray\u001B[0;34m(data)\u001B[0m\n\u001B[1;32m     23\u001B[0m analytical_trace \u001B[38;5;241m=\u001B[39m da\u001B[38;5;241m.\u001B[39mmap_blocks(signal\u001B[38;5;241m.\u001B[39mhilbert, data, dtype\u001B[38;5;241m=\u001B[39mdata\u001B[38;5;241m.\u001B[39mdtype)\n\u001B[1;32m     24\u001B[0m absolute \u001B[38;5;241m=\u001B[39m da\u001B[38;5;241m.\u001B[39mabsolute(analytical_trace)\n\u001B[0;32m---> 26\u001B[0m \u001B[38;5;28;01mreturn\u001B[39;00m \u001B[43mabsolute\u001B[49m\u001B[38;5;241;43m.\u001B[39;49m\u001B[43mcompute\u001B[49m\u001B[43m(\u001B[49m\u001B[43m)\u001B[49m\n",
      "File \u001B[0;32m~/.pyenv/versions/3.10.14/envs/dask-auto-chunking/lib/python3.10/site-packages/dask/base.py:372\u001B[0m, in \u001B[0;36mDaskMethodsMixin.compute\u001B[0;34m(self, **kwargs)\u001B[0m\n\u001B[1;32m    348\u001B[0m \u001B[38;5;28;01mdef\u001B[39;00m \u001B[38;5;21mcompute\u001B[39m(\u001B[38;5;28mself\u001B[39m, \u001B[38;5;241m*\u001B[39m\u001B[38;5;241m*\u001B[39mkwargs):\n\u001B[1;32m    349\u001B[0m \u001B[38;5;250m    \u001B[39m\u001B[38;5;124;03m\"\"\"Compute this dask collection\u001B[39;00m\n\u001B[1;32m    350\u001B[0m \n\u001B[1;32m    351\u001B[0m \u001B[38;5;124;03m    This turns a lazy Dask collection into its in-memory equivalent.\u001B[39;00m\n\u001B[0;32m   (...)\u001B[0m\n\u001B[1;32m    370\u001B[0m \u001B[38;5;124;03m    dask.compute\u001B[39;00m\n\u001B[1;32m    371\u001B[0m \u001B[38;5;124;03m    \"\"\"\u001B[39;00m\n\u001B[0;32m--> 372\u001B[0m     (result,) \u001B[38;5;241m=\u001B[39m \u001B[43mcompute\u001B[49m\u001B[43m(\u001B[49m\u001B[38;5;28;43mself\u001B[39;49m\u001B[43m,\u001B[49m\u001B[43m \u001B[49m\u001B[43mtraverse\u001B[49m\u001B[38;5;241;43m=\u001B[39;49m\u001B[38;5;28;43;01mFalse\u001B[39;49;00m\u001B[43m,\u001B[49m\u001B[43m \u001B[49m\u001B[38;5;241;43m*\u001B[39;49m\u001B[38;5;241;43m*\u001B[39;49m\u001B[43mkwargs\u001B[49m\u001B[43m)\u001B[49m\n\u001B[1;32m    373\u001B[0m     \u001B[38;5;28;01mreturn\u001B[39;00m result\n",
      "File \u001B[0;32m~/.pyenv/versions/3.10.14/envs/dask-auto-chunking/lib/python3.10/site-packages/dask/base.py:660\u001B[0m, in \u001B[0;36mcompute\u001B[0;34m(traverse, optimize_graph, scheduler, get, *args, **kwargs)\u001B[0m\n\u001B[1;32m    657\u001B[0m     postcomputes\u001B[38;5;241m.\u001B[39mappend(x\u001B[38;5;241m.\u001B[39m__dask_postcompute__())\n\u001B[1;32m    659\u001B[0m \u001B[38;5;28;01mwith\u001B[39;00m shorten_traceback():\n\u001B[0;32m--> 660\u001B[0m     results \u001B[38;5;241m=\u001B[39m \u001B[43mschedule\u001B[49m\u001B[43m(\u001B[49m\u001B[43mdsk\u001B[49m\u001B[43m,\u001B[49m\u001B[43m \u001B[49m\u001B[43mkeys\u001B[49m\u001B[43m,\u001B[49m\u001B[43m \u001B[49m\u001B[38;5;241;43m*\u001B[39;49m\u001B[38;5;241;43m*\u001B[39;49m\u001B[43mkwargs\u001B[49m\u001B[43m)\u001B[49m\n\u001B[1;32m    662\u001B[0m \u001B[38;5;28;01mreturn\u001B[39;00m repack([f(r, \u001B[38;5;241m*\u001B[39ma) \u001B[38;5;28;01mfor\u001B[39;00m r, (f, a) \u001B[38;5;129;01min\u001B[39;00m \u001B[38;5;28mzip\u001B[39m(results, postcomputes)])\n",
      "File \u001B[0;32m~/.pyenv/versions/3.10.14/envs/dask-auto-chunking/lib/python3.10/site-packages/distributed/client.py:2417\u001B[0m, in \u001B[0;36mClient._gather\u001B[0;34m(self, futures, errors, direct, local_worker)\u001B[0m\n\u001B[1;32m   2415\u001B[0m     exception \u001B[38;5;241m=\u001B[39m st\u001B[38;5;241m.\u001B[39mexception\n\u001B[1;32m   2416\u001B[0m     traceback \u001B[38;5;241m=\u001B[39m st\u001B[38;5;241m.\u001B[39mtraceback\n\u001B[0;32m-> 2417\u001B[0m     \u001B[38;5;28;01mraise\u001B[39;00m exception\u001B[38;5;241m.\u001B[39mwith_traceback(traceback)\n\u001B[1;32m   2418\u001B[0m \u001B[38;5;28;01mif\u001B[39;00m errors \u001B[38;5;241m==\u001B[39m \u001B[38;5;124m\"\u001B[39m\u001B[38;5;124mskip\u001B[39m\u001B[38;5;124m\"\u001B[39m:\n\u001B[1;32m   2419\u001B[0m     bad_keys\u001B[38;5;241m.\u001B[39madd(key)\n",
      "\u001B[0;31mKilledWorker\u001B[0m: Attempted to run task ('absolute-74f73ac830f252c13b8a1ddebafcc028', 1, 1, 0) on 4 different workers, but all those workers died while running it. The last worker that attempt to run the task was tcp://127.0.0.1:43725. Inspecting worker logs is often a good next step to diagnose what went wrong. For more information see https://distributed.dask.org/en/stable/killed.html."
     ]
    }
   ],
   "source": [
    "client = Client(n_workers=n_workers, memory_limit=f'{16 / n_workers}GB')\n",
    "\n",
    "# Use Dask Profiler to monitor resource usage\n",
    "resource_profiler = ResourceProfiler()\n",
    "\n",
    "with resource_profiler:\n",
    "    start_time = time.time()\n",
    "    try:\n",
    "        synthetic_data = load_segy(synthetic_data_path)\n",
    "        print(\"Data shape: \", synthetic_data.shape)\n",
    "\n",
    "        X = da.from_array(synthetic_data, chunks='auto')\n",
    "        print(\"Chunks: \", X.chunks)\n",
    "        print(\"Number of chunks along each axis:\", [len(c) for c in X.chunks])\n",
    "\n",
    "        result = envelope_from_ndarray(X)\n",
    "    finally:\n",
    "        end_time = time.time()\n",
    "        client.close()\n",
    "\n",
    "execution_time = end_time - start_time\n",
    "print(f\"Execution time: {execution_time:.2f} seconds\")\n",
    "\n",
    "resource_visualization = resource_profiler.visualize()\n",
    "display(resource_visualization)"
   ]
  },
  {
   "cell_type": "markdown",
   "id": "50470c84-de0d-4095-a90d-a53912e67c0b",
   "metadata": {},
   "source": [
    "### Modeled chunking"
   ]
  },
  {
   "cell_type": "code",
   "execution_count": 34,
   "id": "45e22ca8-268f-4eaf-a4fd-4583d3cdbe74",
   "metadata": {},
   "outputs": [
    {
     "name": "stderr",
     "output_type": "stream",
     "text": [
      "/home/delucca/.pyenv/versions/3.10.14/envs/dask-auto-chunking/lib/python3.10/site-packages/distributed/node.py:187: UserWarning: Port 8787 is already in use.\n",
      "Perhaps you already have a cluster running?\n",
      "Hosting the HTTP server on port 41131 instead\n",
      "  warnings.warn(\n"
     ]
    },
    {
     "name": "stdout",
     "output_type": "stream",
     "text": [
      "Total Workers: 25\n",
      "Memory per Worker: 0.64 GB\n",
      "Expected memory usage exceeds memory per worker. Reducing chunk size.\n",
      "Optimal Chunk Size: (62, 62, 62)\n",
      "The optimal chunk size is (62, 62, 62)\n",
      "Data shape:  (600, 600, 600)\n",
      "Chunks:  ((62, 62, 62, 62, 62, 62, 62, 62, 62, 42), (62, 62, 62, 62, 62, 62, 62, 62, 62, 42), (62, 62, 62, 62, 62, 62, 62, 62, 62, 42))\n",
      "Number of chunks along each axis: [10, 10, 10]\n"
     ]
    },
    {
     "name": "stderr",
     "output_type": "stream",
     "text": [
      "/home/delucca/.pyenv/versions/3.10.14/envs/dask-auto-chunking/lib/python3.10/site-packages/distributed/client.py:3361: UserWarning: Sending large graph of size 824.07 MiB.\n",
      "This may cause some slowdown.\n",
      "Consider loading the data with Dask directly\n",
      " or using futures or delayed objects to embed the data into the graph without repetition.\n",
      "See also https://docs.dask.org/en/stable/best-practices.html#load-data-with-dask for more information.\n",
      "  warnings.warn(\n"
     ]
    },
    {
     "name": "stdout",
     "output_type": "stream",
     "text": [
      "Execution time: 11.96 seconds\n"
     ]
    },
    {
     "data": {
      "text/html": [
       "\n",
       "  <div id=\"b4dcd450-0d04-4738-9f12-f931f3639095\" data-root-id=\"p1839\" style=\"display: contents;\"></div>\n"
      ]
     },
     "metadata": {},
     "output_type": "display_data"
    },
    {
     "data": {
      "application/javascript": [
       "(function(root) {\n",
       "  function embed_document(root) {\n",
       "  const docs_json = {\"39efd87e-dd71-44cc-9bf1-c00311c12cd9\":{\"version\":\"3.6.0\",\"title\":\"Bokeh Application\",\"roots\":[{\"type\":\"object\",\"name\":\"Figure\",\"id\":\"p1839\",\"attributes\":{\"width\":800,\"height\":300,\"x_range\":{\"type\":\"object\",\"name\":\"Range1d\",\"id\":\"p1849\",\"attributes\":{\"end\":13.127034549999735}},\"y_range\":{\"type\":\"object\",\"name\":\"Range1d\",\"id\":\"p1850\",\"attributes\":{\"end\":991.2999999999996}},\"x_scale\":{\"type\":\"object\",\"name\":\"LinearScale\",\"id\":\"p1851\"},\"y_scale\":{\"type\":\"object\",\"name\":\"LinearScale\",\"id\":\"p1852\"},\"extra_y_ranges\":{\"type\":\"map\",\"entries\":[[\"memory\",{\"type\":\"object\",\"name\":\"Range1d\",\"id\":\"p1878\",\"attributes\":{\"start\":17080.721408,\"end\":20359.688192}}]]},\"title\":{\"type\":\"object\",\"name\":\"Title\",\"id\":\"p1842\",\"attributes\":{\"text\":\"Profile Results\"}},\"renderers\":[{\"type\":\"object\",\"name\":\"GlyphRenderer\",\"id\":\"p1873\",\"attributes\":{\"data_source\":{\"type\":\"object\",\"name\":\"ColumnDataSource\",\"id\":\"p1867\",\"attributes\":{\"selected\":{\"type\":\"object\",\"name\":\"Selection\",\"id\":\"p1868\",\"attributes\":{\"indices\":[],\"line_indices\":[]}},\"selection_policy\":{\"type\":\"object\",\"name\":\"UnionRenderers\",\"id\":\"p1869\"},\"data\":{\"type\":\"map\",\"entries\":[[\"x\",[0.04334054499940976,1.046250773999418,2.0488812369994776,3.0514345519995913,4.054001110000172,5.055714711999826,6.058160097999462,7.063969754999562,8.066640799999732,9.069117924999773,10.071953779000069,11.073633850999613,12.076552292999622]],[\"y\",[0.0,147.9,215.7,182.7,176.7,185.8,806.6999999999997,991.2999999999996,502.7,480.59999999999997,531.7,273.8,331.6]]]}}},\"view\":{\"type\":\"object\",\"name\":\"CDSView\",\"id\":\"p1874\",\"attributes\":{\"filter\":{\"type\":\"object\",\"name\":\"AllIndices\",\"id\":\"p1875\"}}},\"glyph\":{\"type\":\"object\",\"name\":\"Line\",\"id\":\"p1870\",\"attributes\":{\"x\":{\"type\":\"field\",\"field\":\"x\"},\"y\":{\"type\":\"field\",\"field\":\"y\"},\"line_color\":\"#440154\",\"line_width\":4}},\"nonselection_glyph\":{\"type\":\"object\",\"name\":\"Line\",\"id\":\"p1871\",\"attributes\":{\"x\":{\"type\":\"field\",\"field\":\"x\"},\"y\":{\"type\":\"field\",\"field\":\"y\"},\"line_color\":\"#440154\",\"line_alpha\":0.1,\"line_width\":4}},\"muted_glyph\":{\"type\":\"object\",\"name\":\"Line\",\"id\":\"p1872\",\"attributes\":{\"x\":{\"type\":\"field\",\"field\":\"x\"},\"y\":{\"type\":\"field\",\"field\":\"y\"},\"line_color\":\"#440154\",\"line_alpha\":0.2,\"line_width\":4}}}},{\"type\":\"object\",\"name\":\"GlyphRenderer\",\"id\":\"p1885\",\"attributes\":{\"y_range_name\":\"memory\",\"data_source\":{\"type\":\"object\",\"name\":\"ColumnDataSource\",\"id\":\"p1879\",\"attributes\":{\"selected\":{\"type\":\"object\",\"name\":\"Selection\",\"id\":\"p1880\",\"attributes\":{\"indices\":[],\"line_indices\":[]}},\"selection_policy\":{\"type\":\"object\",\"name\":\"UnionRenderers\",\"id\":\"p1881\"},\"data\":{\"type\":\"map\",\"entries\":[[\"x\",[0.04334054499940976,1.046250773999418,2.0488812369994776,3.0514345519995913,4.054001110000172,5.055714711999826,6.058160097999462,7.063969754999562,8.066640799999732,9.069117924999773,10.071953779000069,11.073633850999613,12.076552292999622]],[\"y\",[17080.721408,17946.43968,17968.959488,19253.256192,19965.689856,18819.846144,18890.469376,19666.374656,20175.540224,19714.94912,20194.594816,20359.688192,18510.655488]]]}}},\"view\":{\"type\":\"object\",\"name\":\"CDSView\",\"id\":\"p1886\",\"attributes\":{\"filter\":{\"type\":\"object\",\"name\":\"AllIndices\",\"id\":\"p1887\"}}},\"glyph\":{\"type\":\"object\",\"name\":\"Line\",\"id\":\"p1882\",\"attributes\":{\"x\":{\"type\":\"field\",\"field\":\"x\"},\"y\":{\"type\":\"field\",\"field\":\"y\"},\"line_color\":\"#29788E\",\"line_width\":4}},\"nonselection_glyph\":{\"type\":\"object\",\"name\":\"Line\",\"id\":\"p1883\",\"attributes\":{\"x\":{\"type\":\"field\",\"field\":\"x\"},\"y\":{\"type\":\"field\",\"field\":\"y\"},\"line_color\":\"#29788E\",\"line_alpha\":0.1,\"line_width\":4}},\"muted_glyph\":{\"type\":\"object\",\"name\":\"Line\",\"id\":\"p1884\",\"attributes\":{\"x\":{\"type\":\"field\",\"field\":\"x\"},\"y\":{\"type\":\"field\",\"field\":\"y\"},\"line_color\":\"#29788E\",\"line_alpha\":0.2,\"line_width\":4}}}}],\"toolbar\":{\"type\":\"object\",\"name\":\"Toolbar\",\"id\":\"p1848\",\"attributes\":{\"tools\":[{\"type\":\"object\",\"name\":\"SaveTool\",\"id\":\"p1863\"},{\"type\":\"object\",\"name\":\"ResetTool\",\"id\":\"p1864\"},{\"type\":\"object\",\"name\":\"WheelZoomTool\",\"id\":\"p1865\",\"attributes\":{\"dimensions\":\"width\",\"renderers\":\"auto\"}},{\"type\":\"object\",\"name\":\"PanTool\",\"id\":\"p1866\",\"attributes\":{\"dimensions\":\"width\"}}]}},\"toolbar_location\":\"above\",\"left\":[{\"type\":\"object\",\"name\":\"LinearAxis\",\"id\":\"p1858\",\"attributes\":{\"ticker\":{\"type\":\"object\",\"name\":\"BasicTicker\",\"id\":\"p1859\",\"attributes\":{\"mantissas\":[1,2,5]}},\"formatter\":{\"type\":\"object\",\"name\":\"BasicTickFormatter\",\"id\":\"p1860\"},\"axis_label\":\"% CPU\",\"major_label_policy\":{\"type\":\"object\",\"name\":\"AllLabels\",\"id\":\"p1861\"}}}],\"right\":[{\"type\":\"object\",\"name\":\"LinearAxis\",\"id\":\"p1889\",\"attributes\":{\"y_range_name\":\"memory\",\"ticker\":{\"type\":\"object\",\"name\":\"BasicTicker\",\"id\":\"p1890\",\"attributes\":{\"mantissas\":[1,2,5]}},\"formatter\":{\"type\":\"object\",\"name\":\"BasicTickFormatter\",\"id\":\"p1891\"},\"axis_label\":\"Memory (MB)\",\"major_label_policy\":{\"type\":\"object\",\"name\":\"AllLabels\",\"id\":\"p1892\"}}}],\"below\":[{\"type\":\"object\",\"name\":\"LinearAxis\",\"id\":\"p1853\",\"attributes\":{\"ticker\":{\"type\":\"object\",\"name\":\"BasicTicker\",\"id\":\"p1854\",\"attributes\":{\"mantissas\":[1,2,5]}},\"formatter\":{\"type\":\"object\",\"name\":\"BasicTickFormatter\",\"id\":\"p1855\"},\"axis_label\":\"Time (s)\",\"major_label_policy\":{\"type\":\"object\",\"name\":\"AllLabels\",\"id\":\"p1856\"}}}],\"center\":[{\"type\":\"object\",\"name\":\"Grid\",\"id\":\"p1857\",\"attributes\":{\"axis\":{\"id\":\"p1853\"}}},{\"type\":\"object\",\"name\":\"Grid\",\"id\":\"p1862\",\"attributes\":{\"dimension\":1,\"axis\":{\"id\":\"p1858\"}}},{\"type\":\"object\",\"name\":\"Legend\",\"id\":\"p1876\",\"attributes\":{\"items\":[{\"type\":\"object\",\"name\":\"LegendItem\",\"id\":\"p1877\",\"attributes\":{\"label\":{\"type\":\"value\",\"value\":\"% CPU\"},\"renderers\":[{\"id\":\"p1873\"}]}},{\"type\":\"object\",\"name\":\"LegendItem\",\"id\":\"p1888\",\"attributes\":{\"label\":{\"type\":\"value\",\"value\":\"Memory\"},\"renderers\":[{\"id\":\"p1885\"}]}}]}}]}}]}};\n",
       "  const render_items = [{\"docid\":\"39efd87e-dd71-44cc-9bf1-c00311c12cd9\",\"roots\":{\"p1839\":\"b4dcd450-0d04-4738-9f12-f931f3639095\"},\"root_ids\":[\"p1839\"]}];\n",
       "  void root.Bokeh.embed.embed_items_notebook(docs_json, render_items);\n",
       "  }\n",
       "  if (root.Bokeh !== undefined) {\n",
       "    embed_document(root);\n",
       "  } else {\n",
       "    let attempts = 0;\n",
       "    const timer = setInterval(function(root) {\n",
       "      if (root.Bokeh !== undefined) {\n",
       "        clearInterval(timer);\n",
       "        embed_document(root);\n",
       "      } else {\n",
       "        attempts++;\n",
       "        if (attempts > 100) {\n",
       "          clearInterval(timer);\n",
       "          console.log(\"Bokeh: ERROR: Unable to run BokehJS code because BokehJS library is missing\");\n",
       "        }\n",
       "      }\n",
       "    }, 10, root)\n",
       "  }\n",
       "})(window);"
      ],
      "application/vnd.bokehjs_exec.v0+json": ""
     },
     "metadata": {
      "application/vnd.bokehjs_exec.v0+json": {
       "id": "p1839"
      }
     },
     "output_type": "display_data"
    },
    {
     "data": {
      "text/html": [
       "<div style=\"display: table;\"><div style=\"display: table-row;\"><div style=\"display: table-cell;\"><b title=\"bokeh.plotting._figure.figure\">figure</b>(</div><div style=\"display: table-cell;\">id&nbsp;=&nbsp;'p1839', <span id=\"p1894\" style=\"cursor: pointer;\">&hellip;)</span></div></div><div class=\"p1893\" style=\"display: none;\"><div style=\"display: table-cell;\"></div><div style=\"display: table-cell;\">above&nbsp;=&nbsp;[],</div></div><div class=\"p1893\" style=\"display: none;\"><div style=\"display: table-cell;\"></div><div style=\"display: table-cell;\">align&nbsp;=&nbsp;'auto',</div></div><div class=\"p1893\" style=\"display: none;\"><div style=\"display: table-cell;\"></div><div style=\"display: table-cell;\">aspect_ratio&nbsp;=&nbsp;None,</div></div><div class=\"p1893\" style=\"display: none;\"><div style=\"display: table-cell;\"></div><div style=\"display: table-cell;\">aspect_scale&nbsp;=&nbsp;1,</div></div><div class=\"p1893\" style=\"display: none;\"><div style=\"display: table-cell;\"></div><div style=\"display: table-cell;\">attribution&nbsp;=&nbsp;[],</div></div><div class=\"p1893\" style=\"display: none;\"><div style=\"display: table-cell;\"></div><div style=\"display: table-cell;\">background_fill_alpha&nbsp;=&nbsp;1.0,</div></div><div class=\"p1893\" style=\"display: none;\"><div style=\"display: table-cell;\"></div><div style=\"display: table-cell;\">background_fill_color&nbsp;=&nbsp;'#ffffff',</div></div><div class=\"p1893\" style=\"display: none;\"><div style=\"display: table-cell;\"></div><div style=\"display: table-cell;\">below&nbsp;=&nbsp;[LinearAxis(id='p1853', ...)],</div></div><div class=\"p1893\" style=\"display: none;\"><div style=\"display: table-cell;\"></div><div style=\"display: table-cell;\">border_fill_alpha&nbsp;=&nbsp;1.0,</div></div><div class=\"p1893\" style=\"display: none;\"><div style=\"display: table-cell;\"></div><div style=\"display: table-cell;\">border_fill_color&nbsp;=&nbsp;'#ffffff',</div></div><div class=\"p1893\" style=\"display: none;\"><div style=\"display: table-cell;\"></div><div style=\"display: table-cell;\">center&nbsp;=&nbsp;[Grid(id='p1857', ...), Grid(id='p1862', ...), Legend(id='p1876', ...)],</div></div><div class=\"p1893\" style=\"display: none;\"><div style=\"display: table-cell;\"></div><div style=\"display: table-cell;\">context_menu&nbsp;=&nbsp;None,</div></div><div class=\"p1893\" style=\"display: none;\"><div style=\"display: table-cell;\"></div><div style=\"display: table-cell;\">css_classes&nbsp;=&nbsp;[],</div></div><div class=\"p1893\" style=\"display: none;\"><div style=\"display: table-cell;\"></div><div style=\"display: table-cell;\">css_variables&nbsp;=&nbsp;{},</div></div><div class=\"p1893\" style=\"display: none;\"><div style=\"display: table-cell;\"></div><div style=\"display: table-cell;\">disabled&nbsp;=&nbsp;False,</div></div><div class=\"p1893\" style=\"display: none;\"><div style=\"display: table-cell;\"></div><div style=\"display: table-cell;\">elements&nbsp;=&nbsp;[],</div></div><div class=\"p1893\" style=\"display: none;\"><div style=\"display: table-cell;\"></div><div style=\"display: table-cell;\">extra_x_ranges&nbsp;=&nbsp;{},</div></div><div class=\"p1893\" style=\"display: none;\"><div style=\"display: table-cell;\"></div><div style=\"display: table-cell;\">extra_x_scales&nbsp;=&nbsp;{},</div></div><div class=\"p1893\" style=\"display: none;\"><div style=\"display: table-cell;\"></div><div style=\"display: table-cell;\">extra_y_ranges&nbsp;=&nbsp;{'memory': Range1d(id='p1878', ...)},</div></div><div class=\"p1893\" style=\"display: none;\"><div style=\"display: table-cell;\"></div><div style=\"display: table-cell;\">extra_y_scales&nbsp;=&nbsp;{},</div></div><div class=\"p1893\" style=\"display: none;\"><div style=\"display: table-cell;\"></div><div style=\"display: table-cell;\">flow_mode&nbsp;=&nbsp;'block',</div></div><div class=\"p1893\" style=\"display: none;\"><div style=\"display: table-cell;\"></div><div style=\"display: table-cell;\">frame_align&nbsp;=&nbsp;True,</div></div><div class=\"p1893\" style=\"display: none;\"><div style=\"display: table-cell;\"></div><div style=\"display: table-cell;\">frame_height&nbsp;=&nbsp;None,</div></div><div class=\"p1893\" style=\"display: none;\"><div style=\"display: table-cell;\"></div><div style=\"display: table-cell;\">frame_width&nbsp;=&nbsp;None,</div></div><div class=\"p1893\" style=\"display: none;\"><div style=\"display: table-cell;\"></div><div style=\"display: table-cell;\">height&nbsp;=&nbsp;300,</div></div><div class=\"p1893\" style=\"display: none;\"><div style=\"display: table-cell;\"></div><div style=\"display: table-cell;\">height_policy&nbsp;=&nbsp;'auto',</div></div><div class=\"p1893\" style=\"display: none;\"><div style=\"display: table-cell;\"></div><div style=\"display: table-cell;\">hidpi&nbsp;=&nbsp;True,</div></div><div class=\"p1893\" style=\"display: none;\"><div style=\"display: table-cell;\"></div><div style=\"display: table-cell;\">hold_render&nbsp;=&nbsp;False,</div></div><div class=\"p1893\" style=\"display: none;\"><div style=\"display: table-cell;\"></div><div style=\"display: table-cell;\">js_event_callbacks&nbsp;=&nbsp;{},</div></div><div class=\"p1893\" style=\"display: none;\"><div style=\"display: table-cell;\"></div><div style=\"display: table-cell;\">js_property_callbacks&nbsp;=&nbsp;{},</div></div><div class=\"p1893\" style=\"display: none;\"><div style=\"display: table-cell;\"></div><div style=\"display: table-cell;\">left&nbsp;=&nbsp;[LinearAxis(id='p1858', ...)],</div></div><div class=\"p1893\" style=\"display: none;\"><div style=\"display: table-cell;\"></div><div style=\"display: table-cell;\">lod_factor&nbsp;=&nbsp;10,</div></div><div class=\"p1893\" style=\"display: none;\"><div style=\"display: table-cell;\"></div><div style=\"display: table-cell;\">lod_interval&nbsp;=&nbsp;300,</div></div><div class=\"p1893\" style=\"display: none;\"><div style=\"display: table-cell;\"></div><div style=\"display: table-cell;\">lod_threshold&nbsp;=&nbsp;2000,</div></div><div class=\"p1893\" style=\"display: none;\"><div style=\"display: table-cell;\"></div><div style=\"display: table-cell;\">lod_timeout&nbsp;=&nbsp;500,</div></div><div class=\"p1893\" style=\"display: none;\"><div style=\"display: table-cell;\"></div><div style=\"display: table-cell;\">margin&nbsp;=&nbsp;None,</div></div><div class=\"p1893\" style=\"display: none;\"><div style=\"display: table-cell;\"></div><div style=\"display: table-cell;\">match_aspect&nbsp;=&nbsp;False,</div></div><div class=\"p1893\" style=\"display: none;\"><div style=\"display: table-cell;\"></div><div style=\"display: table-cell;\">max_height&nbsp;=&nbsp;None,</div></div><div class=\"p1893\" style=\"display: none;\"><div style=\"display: table-cell;\"></div><div style=\"display: table-cell;\">max_width&nbsp;=&nbsp;None,</div></div><div class=\"p1893\" style=\"display: none;\"><div style=\"display: table-cell;\"></div><div style=\"display: table-cell;\">min_border&nbsp;=&nbsp;5,</div></div><div class=\"p1893\" style=\"display: none;\"><div style=\"display: table-cell;\"></div><div style=\"display: table-cell;\">min_border_bottom&nbsp;=&nbsp;None,</div></div><div class=\"p1893\" style=\"display: none;\"><div style=\"display: table-cell;\"></div><div style=\"display: table-cell;\">min_border_left&nbsp;=&nbsp;None,</div></div><div class=\"p1893\" style=\"display: none;\"><div style=\"display: table-cell;\"></div><div style=\"display: table-cell;\">min_border_right&nbsp;=&nbsp;None,</div></div><div class=\"p1893\" style=\"display: none;\"><div style=\"display: table-cell;\"></div><div style=\"display: table-cell;\">min_border_top&nbsp;=&nbsp;None,</div></div><div class=\"p1893\" style=\"display: none;\"><div style=\"display: table-cell;\"></div><div style=\"display: table-cell;\">min_height&nbsp;=&nbsp;None,</div></div><div class=\"p1893\" style=\"display: none;\"><div style=\"display: table-cell;\"></div><div style=\"display: table-cell;\">min_width&nbsp;=&nbsp;None,</div></div><div class=\"p1893\" style=\"display: none;\"><div style=\"display: table-cell;\"></div><div style=\"display: table-cell;\">name&nbsp;=&nbsp;None,</div></div><div class=\"p1893\" style=\"display: none;\"><div style=\"display: table-cell;\"></div><div style=\"display: table-cell;\">outline_line_alpha&nbsp;=&nbsp;1.0,</div></div><div class=\"p1893\" style=\"display: none;\"><div style=\"display: table-cell;\"></div><div style=\"display: table-cell;\">outline_line_cap&nbsp;=&nbsp;'butt',</div></div><div class=\"p1893\" style=\"display: none;\"><div style=\"display: table-cell;\"></div><div style=\"display: table-cell;\">outline_line_color&nbsp;=&nbsp;'#e5e5e5',</div></div><div class=\"p1893\" style=\"display: none;\"><div style=\"display: table-cell;\"></div><div style=\"display: table-cell;\">outline_line_dash&nbsp;=&nbsp;[],</div></div><div class=\"p1893\" style=\"display: none;\"><div style=\"display: table-cell;\"></div><div style=\"display: table-cell;\">outline_line_dash_offset&nbsp;=&nbsp;0,</div></div><div class=\"p1893\" style=\"display: none;\"><div style=\"display: table-cell;\"></div><div style=\"display: table-cell;\">outline_line_join&nbsp;=&nbsp;'bevel',</div></div><div class=\"p1893\" style=\"display: none;\"><div style=\"display: table-cell;\"></div><div style=\"display: table-cell;\">outline_line_width&nbsp;=&nbsp;1,</div></div><div class=\"p1893\" style=\"display: none;\"><div style=\"display: table-cell;\"></div><div style=\"display: table-cell;\">output_backend&nbsp;=&nbsp;'canvas',</div></div><div class=\"p1893\" style=\"display: none;\"><div style=\"display: table-cell;\"></div><div style=\"display: table-cell;\">renderers&nbsp;=&nbsp;[GlyphRenderer(id='p1873', ...), GlyphRenderer(id='p1885', ...)],</div></div><div class=\"p1893\" style=\"display: none;\"><div style=\"display: table-cell;\"></div><div style=\"display: table-cell;\">reset_policy&nbsp;=&nbsp;'standard',</div></div><div class=\"p1893\" style=\"display: none;\"><div style=\"display: table-cell;\"></div><div style=\"display: table-cell;\">resizable&nbsp;=&nbsp;False,</div></div><div class=\"p1893\" style=\"display: none;\"><div style=\"display: table-cell;\"></div><div style=\"display: table-cell;\">right&nbsp;=&nbsp;[LinearAxis(id='p1889', ...)],</div></div><div class=\"p1893\" style=\"display: none;\"><div style=\"display: table-cell;\"></div><div style=\"display: table-cell;\">sizing_mode&nbsp;=&nbsp;None,</div></div><div class=\"p1893\" style=\"display: none;\"><div style=\"display: table-cell;\"></div><div style=\"display: table-cell;\">styles&nbsp;=&nbsp;{},</div></div><div class=\"p1893\" style=\"display: none;\"><div style=\"display: table-cell;\"></div><div style=\"display: table-cell;\">stylesheets&nbsp;=&nbsp;[],</div></div><div class=\"p1893\" style=\"display: none;\"><div style=\"display: table-cell;\"></div><div style=\"display: table-cell;\">subscribed_events&nbsp;=&nbsp;PropertyValueSet(),</div></div><div class=\"p1893\" style=\"display: none;\"><div style=\"display: table-cell;\"></div><div style=\"display: table-cell;\">syncable&nbsp;=&nbsp;True,</div></div><div class=\"p1893\" style=\"display: none;\"><div style=\"display: table-cell;\"></div><div style=\"display: table-cell;\">tags&nbsp;=&nbsp;[],</div></div><div class=\"p1893\" style=\"display: none;\"><div style=\"display: table-cell;\"></div><div style=\"display: table-cell;\">title&nbsp;=&nbsp;Title(id='p1842', ...),</div></div><div class=\"p1893\" style=\"display: none;\"><div style=\"display: table-cell;\"></div><div style=\"display: table-cell;\">title_location&nbsp;=&nbsp;'above',</div></div><div class=\"p1893\" style=\"display: none;\"><div style=\"display: table-cell;\"></div><div style=\"display: table-cell;\">toolbar&nbsp;=&nbsp;Toolbar(id='p1848', ...),</div></div><div class=\"p1893\" style=\"display: none;\"><div style=\"display: table-cell;\"></div><div style=\"display: table-cell;\">toolbar_inner&nbsp;=&nbsp;False,</div></div><div class=\"p1893\" style=\"display: none;\"><div style=\"display: table-cell;\"></div><div style=\"display: table-cell;\">toolbar_location&nbsp;=&nbsp;'above',</div></div><div class=\"p1893\" style=\"display: none;\"><div style=\"display: table-cell;\"></div><div style=\"display: table-cell;\">toolbar_sticky&nbsp;=&nbsp;True,</div></div><div class=\"p1893\" style=\"display: none;\"><div style=\"display: table-cell;\"></div><div style=\"display: table-cell;\">visible&nbsp;=&nbsp;True,</div></div><div class=\"p1893\" style=\"display: none;\"><div style=\"display: table-cell;\"></div><div style=\"display: table-cell;\">width&nbsp;=&nbsp;800,</div></div><div class=\"p1893\" style=\"display: none;\"><div style=\"display: table-cell;\"></div><div style=\"display: table-cell;\">width_policy&nbsp;=&nbsp;'auto',</div></div><div class=\"p1893\" style=\"display: none;\"><div style=\"display: table-cell;\"></div><div style=\"display: table-cell;\">x_range&nbsp;=&nbsp;Range1d(id='p1849', ...),</div></div><div class=\"p1893\" style=\"display: none;\"><div style=\"display: table-cell;\"></div><div style=\"display: table-cell;\">x_scale&nbsp;=&nbsp;LinearScale(id='p1851', ...),</div></div><div class=\"p1893\" style=\"display: none;\"><div style=\"display: table-cell;\"></div><div style=\"display: table-cell;\">y_range&nbsp;=&nbsp;Range1d(id='p1850', ...),</div></div><div class=\"p1893\" style=\"display: none;\"><div style=\"display: table-cell;\"></div><div style=\"display: table-cell;\">y_scale&nbsp;=&nbsp;LinearScale(id='p1852', ...))</div></div></div>\n",
       "<script>\n",
       "(function() {\n",
       "  let expanded = false;\n",
       "  const ellipsis = document.getElementById(\"p1894\");\n",
       "  ellipsis.addEventListener(\"click\", function() {\n",
       "    const rows = document.getElementsByClassName(\"p1893\");\n",
       "    for (let i = 0; i < rows.length; i++) {\n",
       "      const el = rows[i];\n",
       "      el.style.display = expanded ? \"none\" : \"table-row\";\n",
       "    }\n",
       "    ellipsis.innerHTML = expanded ? \"&hellip;)\" : \"&lsaquo;&lsaquo;&lsaquo;\";\n",
       "    expanded = !expanded;\n",
       "  });\n",
       "})();\n",
       "</script>\n"
      ],
      "text/plain": [
       "figure(id='p1839', ...)"
      ]
     },
     "metadata": {},
     "output_type": "display_data"
    }
   ],
   "source": [
    "client = Client(n_workers=n_workers, memory_limit=f'{16 / n_workers}GB')\n",
    "\n",
    "synthetic_data_shape = synthetic_data.shape  # Assuming shape is something like (inlines, crosslines, samples)\n",
    "expected_memory_usage_kb = envelope_model.predict(target_df)[0]  # Model output in KB\n",
    "\n",
    "optimal_chunk_size = get_optimal_chunk_size(synthetic_data_shape, expected_memory_usage_kb, client)\n",
    "print(f\"The optimal chunk size is {optimal_chunk_size}\")\n",
    "\n",
    "# Use Dask Profiler to monitor resource usage\n",
    "resource_profiler = ResourceProfiler()\n",
    "\n",
    "with resource_profiler:\n",
    "    start_time = time.time()\n",
    "    try:\n",
    "        synthetic_data = load_segy(synthetic_data_path)\n",
    "        print(\"Data shape: \", synthetic_data.shape)\n",
    "\n",
    "        X = da.from_array(synthetic_data, chunks=optimal_chunk_size)\n",
    "        print(\"Chunks: \", X.chunks)\n",
    "        print(\"Number of chunks along each axis:\", [len(c) for c in X.chunks])\n",
    "\n",
    "        result = envelope_from_ndarray(X)\n",
    "    finally:\n",
    "        end_time = time.time()\n",
    "        client.close()\n",
    "\n",
    "execution_time = end_time - start_time\n",
    "print(f\"Execution time: {execution_time:.2f} seconds\")\n",
    "\n",
    "resource_visualization = resource_profiler.visualize()\n",
    "display(resource_visualization)"
   ]
  }
 ],
 "metadata": {
  "kernelspec": {
   "display_name": "Python 3 (ipykernel)",
   "language": "python",
   "name": "python3"
  },
  "language_info": {
   "codemirror_mode": {
    "name": "ipython",
    "version": 3
   },
   "file_extension": ".py",
   "mimetype": "text/x-python",
   "name": "python",
   "nbconvert_exporter": "python",
   "pygments_lexer": "ipython3",
   "version": "3.10.14"
  }
 },
 "nbformat": 4,
 "nbformat_minor": 5
}
