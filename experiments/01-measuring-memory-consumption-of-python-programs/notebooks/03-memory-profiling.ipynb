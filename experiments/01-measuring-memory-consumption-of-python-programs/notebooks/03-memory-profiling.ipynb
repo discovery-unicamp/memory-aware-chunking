{
 "cells": [
  {
   "metadata": {},
   "cell_type": "markdown",
   "source": "# Memory Profiling Notebook",
   "id": "5f2db58ae11f592b"
  },
  {
   "metadata": {},
   "cell_type": "markdown",
   "source": [
    "# Introduction\n",
    "\n",
    "This notebook aims to demonstrate the memory profiling process for the memory consumption experiment.\n",
    "The goals of this notebooks are:\n",
    "\n",
    "- Test and compare memory measurement tools (`psutil`, `resource`, `tracemalloc`, `/proc` filesystem).\n",
    "- Validate consistency between internal and external profiling data."
   ],
   "id": "7cf97d1ade126662"
  },
  {
   "metadata": {},
   "cell_type": "markdown",
   "source": [
    "## How to Use this Notebook\n",
    "\n",
    "- Run the individual cells to inspect and verify the behavior of specific parts of the component.\n",
    "- Review the expected behavior before running the full experiment via the shell script.\n",
    "- Use this notebook as a debugging and documentation tool to support future iterations of the experiment.\n",
    "\n",
    "By structuring the experiment this way, we ensure a clear separation between explanation, validation, and execution, making it easier to reason about the results while keeping the experiment reproducible and well-documented."
   ],
   "id": "ade500fd288fddca"
  },
  {
   "metadata": {},
   "cell_type": "markdown",
   "source": "## Components Overview",
   "id": "15801a6514bbb287"
  },
  {
   "metadata": {},
   "cell_type": "markdown",
   "source": "Before running the component, we need to setup a few variables and utils.",
   "id": "fb0dd99e79c48bc1"
  },
  {
   "metadata": {
    "ExecuteTime": {
     "end_time": "2025-03-02T06:55:56.290747Z",
     "start_time": "2025-03-02T06:55:56.284701Z"
    }
   },
   "cell_type": "code",
   "source": [
    "import os\n",
    "import sys\n",
    "from datetime import datetime\n",
    "\n",
    "from loguru import logger\n",
    "\n",
    "dirs_to_add = [\n",
    "    os.path.abspath('../'),\n",
    "    os.path.abspath('../../../libs/traceq'),\n",
    "]\n",
    "\n",
    "for dir_to_add in dirs_to_add:\n",
    "    if dir_to_add not in sys.path:\n",
    "        sys.path.insert(0, dir_to_add)\n",
    "\n",
    "TIMESTAMP = datetime.now().strftime(\"%Y%m%d%H%M%S\")\n",
    "\n",
    "EXPERIMENT_IMAGE = \"mac/03-memory-profiling\"\n",
    "RELATIVE_OUT_DIR = f\"out/03-memory-profiling-{TIMESTAMP}\"\n",
    "CONTAINER_OUT_DIR = f\"/app/{RELATIVE_OUT_DIR}\"\n",
    "\n",
    "INLINES = \"700\"\n",
    "XLINES = \"700\"\n",
    "SAMPLES = \"400\"\n",
    "\n",
    "logger.debug(\"Generated global variables\")\n",
    "logger.debug(f\"TIMESTAMP: {TIMESTAMP}\")\n",
    "logger.debug(f\"EXPERIMENT_IMAGE: {EXPERIMENT_IMAGE}\")\n",
    "logger.debug(f\"RELATIVE_OUT_DIR: {RELATIVE_OUT_DIR}\")\n",
    "logger.debug(f\"CONTAINER_OUT_DIR: {CONTAINER_OUT_DIR}\")\n",
    "\n",
    "logger.debug(f\"INLINES: {INLINES}\")\n",
    "logger.debug(f\"XLINES: {XLINES}\")\n",
    "logger.debug(f\"SAMPLES: {SAMPLES}\")\n",
    "\n",
    "os.makedirs(f\"../{RELATIVE_OUT_DIR}/docker-monitor\", exist_ok=True)"
   ],
   "id": "10fd872d9c71533a",
   "outputs": [
    {
     "name": "stderr",
     "output_type": "stream",
     "text": [
      "\u001B[32m2025-03-02 03:55:56.286\u001B[0m | \u001B[34m\u001B[1mDEBUG   \u001B[0m | \u001B[36m__main__\u001B[0m:\u001B[36m<module>\u001B[0m:\u001B[36m25\u001B[0m - \u001B[34m\u001B[1mGenerated global variables\u001B[0m\n",
      "\u001B[32m2025-03-02 03:55:56.287\u001B[0m | \u001B[34m\u001B[1mDEBUG   \u001B[0m | \u001B[36m__main__\u001B[0m:\u001B[36m<module>\u001B[0m:\u001B[36m26\u001B[0m - \u001B[34m\u001B[1mTIMESTAMP: 20250302035556\u001B[0m\n",
      "\u001B[32m2025-03-02 03:55:56.288\u001B[0m | \u001B[34m\u001B[1mDEBUG   \u001B[0m | \u001B[36m__main__\u001B[0m:\u001B[36m<module>\u001B[0m:\u001B[36m27\u001B[0m - \u001B[34m\u001B[1mEXPERIMENT_IMAGE: mac/03-memory-profiling\u001B[0m\n",
      "\u001B[32m2025-03-02 03:55:56.288\u001B[0m | \u001B[34m\u001B[1mDEBUG   \u001B[0m | \u001B[36m__main__\u001B[0m:\u001B[36m<module>\u001B[0m:\u001B[36m28\u001B[0m - \u001B[34m\u001B[1mRELATIVE_OUT_DIR: out/03-memory-profiling-20250302035556\u001B[0m\n",
      "\u001B[32m2025-03-02 03:55:56.288\u001B[0m | \u001B[34m\u001B[1mDEBUG   \u001B[0m | \u001B[36m__main__\u001B[0m:\u001B[36m<module>\u001B[0m:\u001B[36m29\u001B[0m - \u001B[34m\u001B[1mCONTAINER_OUT_DIR: /app/out/03-memory-profiling-20250302035556\u001B[0m\n",
      "\u001B[32m2025-03-02 03:55:56.288\u001B[0m | \u001B[34m\u001B[1mDEBUG   \u001B[0m | \u001B[36m__main__\u001B[0m:\u001B[36m<module>\u001B[0m:\u001B[36m31\u001B[0m - \u001B[34m\u001B[1mINLINES: 700\u001B[0m\n",
      "\u001B[32m2025-03-02 03:55:56.289\u001B[0m | \u001B[34m\u001B[1mDEBUG   \u001B[0m | \u001B[36m__main__\u001B[0m:\u001B[36m<module>\u001B[0m:\u001B[36m32\u001B[0m - \u001B[34m\u001B[1mXLINES: 700\u001B[0m\n",
      "\u001B[32m2025-03-02 03:55:56.289\u001B[0m | \u001B[34m\u001B[1mDEBUG   \u001B[0m | \u001B[36m__main__\u001B[0m:\u001B[36m<module>\u001B[0m:\u001B[36m33\u001B[0m - \u001B[34m\u001B[1mSAMPLES: 400\u001B[0m\n"
     ]
    }
   ],
   "execution_count": 16
  },
  {
   "metadata": {
    "ExecuteTime": {
     "end_time": "2025-03-02T07:04:43.159253Z",
     "start_time": "2025-03-02T07:04:26.163564Z"
    }
   },
   "cell_type": "code",
   "source": [
    "import importlib\n",
    "import tools.docker\n",
    "\n",
    "importlib.reload(tools.docker)\n",
    "\n",
    "vfs_client, vfs_container = tools.docker.get_vfs_client(f\"../{RELATIVE_OUT_DIR}\")"
   ],
   "id": "dae25e0562a75f06",
   "outputs": [
    {
     "name": "stderr",
     "output_type": "stream",
     "text": [
      "\u001B[32m2025-03-02 04:04:26.395\u001B[0m | \u001B[1mINFO    \u001B[0m | \u001B[36mtools.docker\u001B[0m:\u001B[36mget_vfs_client\u001B[0m:\u001B[36m63\u001B[0m - \u001B[1mStart dind dockerd...\u001B[0m\n",
      "ERROR: error during connect: Get \"http://localhost:2375/v1.47/info\": read tcp [::1]:63286->[::1]:2375: read: connection reset by peer\n",
      "errors pretty printing info\n",
      "\u001B[32m2025-03-02 04:04:26.457\u001B[0m | \u001B[1mINFO    \u001B[0m | \u001B[36mtools.docker\u001B[0m:\u001B[36m__wait_for_dockerd\u001B[0m:\u001B[36m81\u001B[0m - \u001B[1mWaiting for dockerd to start...\u001B[0m\n"
     ]
    },
    {
     "name": "stdout",
     "output_type": "stream",
     "text": [
      "Client: Docker Engine - Community\n",
      " Version:    27.3.1\n",
      " Context:    default\n",
      " Debug Mode: false\n",
      " Plugins:\n",
      "  ai: Ask Gordon - Docker Agent (Docker Inc.)\n",
      "    Version:  v0.7.3\n",
      "    Path:     /Users/delucca/.docker/cli-plugins/docker-ai\n",
      "  buildx: Docker Buildx (Docker Inc.)\n",
      "    Version:  v0.20.1-desktop.2\n",
      "    Path:     /Users/delucca/.docker/cli-plugins/docker-buildx\n",
      "  compose: Docker Compose (Docker Inc.)\n",
      "    Version:  v2.32.4-desktop.1\n",
      "    Path:     /Users/delucca/.docker/cli-plugins/docker-compose\n",
      "  debug: Get a shell into any image or container (Docker Inc.)\n",
      "    Version:  0.0.38\n",
      "    Path:     /Users/delucca/.docker/cli-plugins/docker-debug\n",
      "  desktop: Docker Desktop commands (Beta) (Docker Inc.)\n",
      "    Version:  v0.1.4\n",
      "    Path:     /Users/delucca/.docker/cli-plugins/docker-desktop\n",
      "  dev: Docker Dev Environments (Docker Inc.)\n",
      "    Version:  v0.1.2\n",
      "    Path:     /Users/delucca/.docker/cli-plugins/docker-dev\n",
      "  extension: Manages Docker extensions (Docker Inc.)\n",
      "    Version:  v0.2.27\n",
      "    Path:     /Users/delucca/.docker/cli-plugins/docker-extension\n",
      "  feedback: Provide feedback, right in your terminal! (Docker Inc.)\n",
      "    Version:  v1.0.5\n",
      "    Path:     /Users/delucca/.docker/cli-plugins/docker-feedback\n",
      "  init: Creates Docker-related starter files for your project (Docker Inc.)\n",
      "    Version:  v1.4.0\n",
      "    Path:     /Users/delucca/.docker/cli-plugins/docker-init\n",
      "  sbom: View the packaged-based Software Bill Of Materials (SBOM) for an image (Anchore Inc.)\n",
      "    Version:  0.6.0\n",
      "    Path:     /Users/delucca/.docker/cli-plugins/docker-sbom\n",
      "  scout: Docker Scout (Docker Inc.)\n",
      "    Version:  v1.16.1\n",
      "    Path:     /Users/delucca/.docker/cli-plugins/docker-scout\n",
      "\n",
      "Server:\n"
     ]
    },
    {
     "name": "stderr",
     "output_type": "stream",
     "text": [
      "ERROR: error during connect: Get \"http://localhost:2375/v1.47/info\": read tcp [::1]:63293->[::1]:2375: read: connection reset by peer\n",
      "errors pretty printing info\n",
      "\u001B[32m2025-03-02 04:04:28.583\u001B[0m | \u001B[1mINFO    \u001B[0m | \u001B[36mtools.docker\u001B[0m:\u001B[36m__wait_for_dockerd\u001B[0m:\u001B[36m81\u001B[0m - \u001B[1mWaiting for dockerd to start...\u001B[0m\n"
     ]
    },
    {
     "name": "stdout",
     "output_type": "stream",
     "text": [
      "Client: Docker Engine - Community\n",
      " Version:    27.3.1\n",
      " Context:    default\n",
      " Debug Mode: false\n",
      " Plugins:\n",
      "  ai: Ask Gordon - Docker Agent (Docker Inc.)\n",
      "    Version:  v0.7.3\n",
      "    Path:     /Users/delucca/.docker/cli-plugins/docker-ai\n",
      "  buildx: Docker Buildx (Docker Inc.)\n",
      "    Version:  v0.20.1-desktop.2\n",
      "    Path:     /Users/delucca/.docker/cli-plugins/docker-buildx\n",
      "  compose: Docker Compose (Docker Inc.)\n",
      "    Version:  v2.32.4-desktop.1\n",
      "    Path:     /Users/delucca/.docker/cli-plugins/docker-compose\n",
      "  debug: Get a shell into any image or container (Docker Inc.)\n",
      "    Version:  0.0.38\n",
      "    Path:     /Users/delucca/.docker/cli-plugins/docker-debug\n",
      "  desktop: Docker Desktop commands (Beta) (Docker Inc.)\n",
      "    Version:  v0.1.4\n",
      "    Path:     /Users/delucca/.docker/cli-plugins/docker-desktop\n",
      "  dev: Docker Dev Environments (Docker Inc.)\n",
      "    Version:  v0.1.2\n",
      "    Path:     /Users/delucca/.docker/cli-plugins/docker-dev\n",
      "  extension: Manages Docker extensions (Docker Inc.)\n",
      "    Version:  v0.2.27\n",
      "    Path:     /Users/delucca/.docker/cli-plugins/docker-extension\n",
      "  feedback: Provide feedback, right in your terminal! (Docker Inc.)\n",
      "    Version:  v1.0.5\n",
      "    Path:     /Users/delucca/.docker/cli-plugins/docker-feedback\n",
      "  init: Creates Docker-related starter files for your project (Docker Inc.)\n",
      "    Version:  v1.4.0\n",
      "    Path:     /Users/delucca/.docker/cli-plugins/docker-init\n",
      "  sbom: View the packaged-based Software Bill Of Materials (SBOM) for an image (Anchore Inc.)\n",
      "    Version:  0.6.0\n",
      "    Path:     /Users/delucca/.docker/cli-plugins/docker-sbom\n",
      "  scout: Docker Scout (Docker Inc.)\n",
      "    Version:  v1.16.1\n",
      "    Path:     /Users/delucca/.docker/cli-plugins/docker-scout\n",
      "\n",
      "Server:\n"
     ]
    },
    {
     "name": "stderr",
     "output_type": "stream",
     "text": [
      "ERROR: error during connect: Get \"http://localhost:2375/v1.47/info\": read tcp [::1]:63302->[::1]:2375: read: connection reset by peer\n",
      "errors pretty printing info\n",
      "\u001B[32m2025-03-02 04:04:30.647\u001B[0m | \u001B[1mINFO    \u001B[0m | \u001B[36mtools.docker\u001B[0m:\u001B[36m__wait_for_dockerd\u001B[0m:\u001B[36m81\u001B[0m - \u001B[1mWaiting for dockerd to start...\u001B[0m\n"
     ]
    },
    {
     "name": "stdout",
     "output_type": "stream",
     "text": [
      "Client: Docker Engine - Community\n",
      " Version:    27.3.1\n",
      " Context:    default\n",
      " Debug Mode: false\n",
      " Plugins:\n",
      "  ai: Ask Gordon - Docker Agent (Docker Inc.)\n",
      "    Version:  v0.7.3\n",
      "    Path:     /Users/delucca/.docker/cli-plugins/docker-ai\n",
      "  buildx: Docker Buildx (Docker Inc.)\n",
      "    Version:  v0.20.1-desktop.2\n",
      "    Path:     /Users/delucca/.docker/cli-plugins/docker-buildx\n",
      "  compose: Docker Compose (Docker Inc.)\n",
      "    Version:  v2.32.4-desktop.1\n",
      "    Path:     /Users/delucca/.docker/cli-plugins/docker-compose\n",
      "  debug: Get a shell into any image or container (Docker Inc.)\n",
      "    Version:  0.0.38\n",
      "    Path:     /Users/delucca/.docker/cli-plugins/docker-debug\n",
      "  desktop: Docker Desktop commands (Beta) (Docker Inc.)\n",
      "    Version:  v0.1.4\n",
      "    Path:     /Users/delucca/.docker/cli-plugins/docker-desktop\n",
      "  dev: Docker Dev Environments (Docker Inc.)\n",
      "    Version:  v0.1.2\n",
      "    Path:     /Users/delucca/.docker/cli-plugins/docker-dev\n",
      "  extension: Manages Docker extensions (Docker Inc.)\n",
      "    Version:  v0.2.27\n",
      "    Path:     /Users/delucca/.docker/cli-plugins/docker-extension\n",
      "  feedback: Provide feedback, right in your terminal! (Docker Inc.)\n",
      "    Version:  v1.0.5\n",
      "    Path:     /Users/delucca/.docker/cli-plugins/docker-feedback\n",
      "  init: Creates Docker-related starter files for your project (Docker Inc.)\n",
      "    Version:  v1.4.0\n",
      "    Path:     /Users/delucca/.docker/cli-plugins/docker-init\n",
      "  sbom: View the packaged-based Software Bill Of Materials (SBOM) for an image (Anchore Inc.)\n",
      "    Version:  0.6.0\n",
      "    Path:     /Users/delucca/.docker/cli-plugins/docker-sbom\n",
      "  scout: Docker Scout (Docker Inc.)\n",
      "    Version:  v1.16.1\n",
      "    Path:     /Users/delucca/.docker/cli-plugins/docker-scout\n",
      "\n",
      "Server:\n"
     ]
    },
    {
     "name": "stderr",
     "output_type": "stream",
     "text": [
      "ERROR: error during connect: Get \"http://localhost:2375/v1.47/info\": read tcp [::1]:63307->[::1]:2375: read: connection reset by peer\n",
      "errors pretty printing info\n",
      "\u001B[32m2025-03-02 04:04:32.734\u001B[0m | \u001B[1mINFO    \u001B[0m | \u001B[36mtools.docker\u001B[0m:\u001B[36m__wait_for_dockerd\u001B[0m:\u001B[36m81\u001B[0m - \u001B[1mWaiting for dockerd to start...\u001B[0m\n"
     ]
    },
    {
     "name": "stdout",
     "output_type": "stream",
     "text": [
      "Client: Docker Engine - Community\n",
      " Version:    27.3.1\n",
      " Context:    default\n",
      " Debug Mode: false\n",
      " Plugins:\n",
      "  ai: Ask Gordon - Docker Agent (Docker Inc.)\n",
      "    Version:  v0.7.3\n",
      "    Path:     /Users/delucca/.docker/cli-plugins/docker-ai\n",
      "  buildx: Docker Buildx (Docker Inc.)\n",
      "    Version:  v0.20.1-desktop.2\n",
      "    Path:     /Users/delucca/.docker/cli-plugins/docker-buildx\n",
      "  compose: Docker Compose (Docker Inc.)\n",
      "    Version:  v2.32.4-desktop.1\n",
      "    Path:     /Users/delucca/.docker/cli-plugins/docker-compose\n",
      "  debug: Get a shell into any image or container (Docker Inc.)\n",
      "    Version:  0.0.38\n",
      "    Path:     /Users/delucca/.docker/cli-plugins/docker-debug\n",
      "  desktop: Docker Desktop commands (Beta) (Docker Inc.)\n",
      "    Version:  v0.1.4\n",
      "    Path:     /Users/delucca/.docker/cli-plugins/docker-desktop\n",
      "  dev: Docker Dev Environments (Docker Inc.)\n",
      "    Version:  v0.1.2\n",
      "    Path:     /Users/delucca/.docker/cli-plugins/docker-dev\n",
      "  extension: Manages Docker extensions (Docker Inc.)\n",
      "    Version:  v0.2.27\n",
      "    Path:     /Users/delucca/.docker/cli-plugins/docker-extension\n",
      "  feedback: Provide feedback, right in your terminal! (Docker Inc.)\n",
      "    Version:  v1.0.5\n",
      "    Path:     /Users/delucca/.docker/cli-plugins/docker-feedback\n",
      "  init: Creates Docker-related starter files for your project (Docker Inc.)\n",
      "    Version:  v1.4.0\n",
      "    Path:     /Users/delucca/.docker/cli-plugins/docker-init\n",
      "  sbom: View the packaged-based Software Bill Of Materials (SBOM) for an image (Anchore Inc.)\n",
      "    Version:  0.6.0\n",
      "    Path:     /Users/delucca/.docker/cli-plugins/docker-sbom\n",
      "  scout: Docker Scout (Docker Inc.)\n",
      "    Version:  v1.16.1\n",
      "    Path:     /Users/delucca/.docker/cli-plugins/docker-scout\n",
      "\n",
      "Server:\n"
     ]
    },
    {
     "name": "stderr",
     "output_type": "stream",
     "text": [
      "ERROR: error during connect: Get \"http://localhost:2375/v1.47/info\": read tcp [::1]:63316->[::1]:2375: read: connection reset by peer\n",
      "errors pretty printing info\n",
      "\u001B[32m2025-03-02 04:04:34.825\u001B[0m | \u001B[1mINFO    \u001B[0m | \u001B[36mtools.docker\u001B[0m:\u001B[36m__wait_for_dockerd\u001B[0m:\u001B[36m81\u001B[0m - \u001B[1mWaiting for dockerd to start...\u001B[0m\n"
     ]
    },
    {
     "name": "stdout",
     "output_type": "stream",
     "text": [
      "Client: Docker Engine - Community\n",
      " Version:    27.3.1\n",
      " Context:    default\n",
      " Debug Mode: false\n",
      " Plugins:\n",
      "  ai: Ask Gordon - Docker Agent (Docker Inc.)\n",
      "    Version:  v0.7.3\n",
      "    Path:     /Users/delucca/.docker/cli-plugins/docker-ai\n",
      "  buildx: Docker Buildx (Docker Inc.)\n",
      "    Version:  v0.20.1-desktop.2\n",
      "    Path:     /Users/delucca/.docker/cli-plugins/docker-buildx\n",
      "  compose: Docker Compose (Docker Inc.)\n",
      "    Version:  v2.32.4-desktop.1\n",
      "    Path:     /Users/delucca/.docker/cli-plugins/docker-compose\n",
      "  debug: Get a shell into any image or container (Docker Inc.)\n",
      "    Version:  0.0.38\n",
      "    Path:     /Users/delucca/.docker/cli-plugins/docker-debug\n",
      "  desktop: Docker Desktop commands (Beta) (Docker Inc.)\n",
      "    Version:  v0.1.4\n",
      "    Path:     /Users/delucca/.docker/cli-plugins/docker-desktop\n",
      "  dev: Docker Dev Environments (Docker Inc.)\n",
      "    Version:  v0.1.2\n",
      "    Path:     /Users/delucca/.docker/cli-plugins/docker-dev\n",
      "  extension: Manages Docker extensions (Docker Inc.)\n",
      "    Version:  v0.2.27\n",
      "    Path:     /Users/delucca/.docker/cli-plugins/docker-extension\n",
      "  feedback: Provide feedback, right in your terminal! (Docker Inc.)\n",
      "    Version:  v1.0.5\n",
      "    Path:     /Users/delucca/.docker/cli-plugins/docker-feedback\n",
      "  init: Creates Docker-related starter files for your project (Docker Inc.)\n",
      "    Version:  v1.4.0\n",
      "    Path:     /Users/delucca/.docker/cli-plugins/docker-init\n",
      "  sbom: View the packaged-based Software Bill Of Materials (SBOM) for an image (Anchore Inc.)\n",
      "    Version:  0.6.0\n",
      "    Path:     /Users/delucca/.docker/cli-plugins/docker-sbom\n",
      "  scout: Docker Scout (Docker Inc.)\n",
      "    Version:  v1.16.1\n",
      "    Path:     /Users/delucca/.docker/cli-plugins/docker-scout\n",
      "\n",
      "Server:\n"
     ]
    },
    {
     "name": "stderr",
     "output_type": "stream",
     "text": [
      "ERROR: error during connect: Get \"http://localhost:2375/v1.47/info\": read tcp [::1]:63323->[::1]:2375: read: connection reset by peer\n",
      "errors pretty printing info\n",
      "\u001B[32m2025-03-02 04:04:36.895\u001B[0m | \u001B[1mINFO    \u001B[0m | \u001B[36mtools.docker\u001B[0m:\u001B[36m__wait_for_dockerd\u001B[0m:\u001B[36m81\u001B[0m - \u001B[1mWaiting for dockerd to start...\u001B[0m\n"
     ]
    },
    {
     "name": "stdout",
     "output_type": "stream",
     "text": [
      "Client: Docker Engine - Community\n",
      " Version:    27.3.1\n",
      " Context:    default\n",
      " Debug Mode: false\n",
      " Plugins:\n",
      "  ai: Ask Gordon - Docker Agent (Docker Inc.)\n",
      "    Version:  v0.7.3\n",
      "    Path:     /Users/delucca/.docker/cli-plugins/docker-ai\n",
      "  buildx: Docker Buildx (Docker Inc.)\n",
      "    Version:  v0.20.1-desktop.2\n",
      "    Path:     /Users/delucca/.docker/cli-plugins/docker-buildx\n",
      "  compose: Docker Compose (Docker Inc.)\n",
      "    Version:  v2.32.4-desktop.1\n",
      "    Path:     /Users/delucca/.docker/cli-plugins/docker-compose\n",
      "  debug: Get a shell into any image or container (Docker Inc.)\n",
      "    Version:  0.0.38\n",
      "    Path:     /Users/delucca/.docker/cli-plugins/docker-debug\n",
      "  desktop: Docker Desktop commands (Beta) (Docker Inc.)\n",
      "    Version:  v0.1.4\n",
      "    Path:     /Users/delucca/.docker/cli-plugins/docker-desktop\n",
      "  dev: Docker Dev Environments (Docker Inc.)\n",
      "    Version:  v0.1.2\n",
      "    Path:     /Users/delucca/.docker/cli-plugins/docker-dev\n",
      "  extension: Manages Docker extensions (Docker Inc.)\n",
      "    Version:  v0.2.27\n",
      "    Path:     /Users/delucca/.docker/cli-plugins/docker-extension\n",
      "  feedback: Provide feedback, right in your terminal! (Docker Inc.)\n",
      "    Version:  v1.0.5\n",
      "    Path:     /Users/delucca/.docker/cli-plugins/docker-feedback\n",
      "  init: Creates Docker-related starter files for your project (Docker Inc.)\n",
      "    Version:  v1.4.0\n",
      "    Path:     /Users/delucca/.docker/cli-plugins/docker-init\n",
      "  sbom: View the packaged-based Software Bill Of Materials (SBOM) for an image (Anchore Inc.)\n",
      "    Version:  0.6.0\n",
      "    Path:     /Users/delucca/.docker/cli-plugins/docker-sbom\n",
      "  scout: Docker Scout (Docker Inc.)\n",
      "    Version:  v1.16.1\n",
      "    Path:     /Users/delucca/.docker/cli-plugins/docker-scout\n",
      "\n",
      "Server:\n"
     ]
    },
    {
     "name": "stderr",
     "output_type": "stream",
     "text": [
      "ERROR: error during connect: Get \"http://localhost:2375/v1.47/info\": read tcp [::1]:63328->[::1]:2375: read: connection reset by peer\n",
      "errors pretty printing info\n",
      "\u001B[32m2025-03-02 04:04:38.964\u001B[0m | \u001B[1mINFO    \u001B[0m | \u001B[36mtools.docker\u001B[0m:\u001B[36m__wait_for_dockerd\u001B[0m:\u001B[36m81\u001B[0m - \u001B[1mWaiting for dockerd to start...\u001B[0m\n"
     ]
    },
    {
     "name": "stdout",
     "output_type": "stream",
     "text": [
      "Client: Docker Engine - Community\n",
      " Version:    27.3.1\n",
      " Context:    default\n",
      " Debug Mode: false\n",
      " Plugins:\n",
      "  ai: Ask Gordon - Docker Agent (Docker Inc.)\n",
      "    Version:  v0.7.3\n",
      "    Path:     /Users/delucca/.docker/cli-plugins/docker-ai\n",
      "  buildx: Docker Buildx (Docker Inc.)\n",
      "    Version:  v0.20.1-desktop.2\n",
      "    Path:     /Users/delucca/.docker/cli-plugins/docker-buildx\n",
      "  compose: Docker Compose (Docker Inc.)\n",
      "    Version:  v2.32.4-desktop.1\n",
      "    Path:     /Users/delucca/.docker/cli-plugins/docker-compose\n",
      "  debug: Get a shell into any image or container (Docker Inc.)\n",
      "    Version:  0.0.38\n",
      "    Path:     /Users/delucca/.docker/cli-plugins/docker-debug\n",
      "  desktop: Docker Desktop commands (Beta) (Docker Inc.)\n",
      "    Version:  v0.1.4\n",
      "    Path:     /Users/delucca/.docker/cli-plugins/docker-desktop\n",
      "  dev: Docker Dev Environments (Docker Inc.)\n",
      "    Version:  v0.1.2\n",
      "    Path:     /Users/delucca/.docker/cli-plugins/docker-dev\n",
      "  extension: Manages Docker extensions (Docker Inc.)\n",
      "    Version:  v0.2.27\n",
      "    Path:     /Users/delucca/.docker/cli-plugins/docker-extension\n",
      "  feedback: Provide feedback, right in your terminal! (Docker Inc.)\n",
      "    Version:  v1.0.5\n",
      "    Path:     /Users/delucca/.docker/cli-plugins/docker-feedback\n",
      "  init: Creates Docker-related starter files for your project (Docker Inc.)\n",
      "    Version:  v1.4.0\n",
      "    Path:     /Users/delucca/.docker/cli-plugins/docker-init\n",
      "  sbom: View the packaged-based Software Bill Of Materials (SBOM) for an image (Anchore Inc.)\n",
      "    Version:  0.6.0\n",
      "    Path:     /Users/delucca/.docker/cli-plugins/docker-sbom\n",
      "  scout: Docker Scout (Docker Inc.)\n",
      "    Version:  v1.16.1\n",
      "    Path:     /Users/delucca/.docker/cli-plugins/docker-scout\n",
      "\n",
      "Server:\n"
     ]
    },
    {
     "name": "stderr",
     "output_type": "stream",
     "text": [
      "ERROR: error during connect: Get \"http://localhost:2375/v1.47/info\": read tcp [::1]:63337->[::1]:2375: read: connection reset by peer\n",
      "errors pretty printing info\n",
      "\u001B[32m2025-03-02 04:04:41.052\u001B[0m | \u001B[1mINFO    \u001B[0m | \u001B[36mtools.docker\u001B[0m:\u001B[36m__wait_for_dockerd\u001B[0m:\u001B[36m81\u001B[0m - \u001B[1mWaiting for dockerd to start...\u001B[0m\n"
     ]
    },
    {
     "name": "stdout",
     "output_type": "stream",
     "text": [
      "Client: Docker Engine - Community\n",
      " Version:    27.3.1\n",
      " Context:    default\n",
      " Debug Mode: false\n",
      " Plugins:\n",
      "  ai: Ask Gordon - Docker Agent (Docker Inc.)\n",
      "    Version:  v0.7.3\n",
      "    Path:     /Users/delucca/.docker/cli-plugins/docker-ai\n",
      "  buildx: Docker Buildx (Docker Inc.)\n",
      "    Version:  v0.20.1-desktop.2\n",
      "    Path:     /Users/delucca/.docker/cli-plugins/docker-buildx\n",
      "  compose: Docker Compose (Docker Inc.)\n",
      "    Version:  v2.32.4-desktop.1\n",
      "    Path:     /Users/delucca/.docker/cli-plugins/docker-compose\n",
      "  debug: Get a shell into any image or container (Docker Inc.)\n",
      "    Version:  0.0.38\n",
      "    Path:     /Users/delucca/.docker/cli-plugins/docker-debug\n",
      "  desktop: Docker Desktop commands (Beta) (Docker Inc.)\n",
      "    Version:  v0.1.4\n",
      "    Path:     /Users/delucca/.docker/cli-plugins/docker-desktop\n",
      "  dev: Docker Dev Environments (Docker Inc.)\n",
      "    Version:  v0.1.2\n",
      "    Path:     /Users/delucca/.docker/cli-plugins/docker-dev\n",
      "  extension: Manages Docker extensions (Docker Inc.)\n",
      "    Version:  v0.2.27\n",
      "    Path:     /Users/delucca/.docker/cli-plugins/docker-extension\n",
      "  feedback: Provide feedback, right in your terminal! (Docker Inc.)\n",
      "    Version:  v1.0.5\n",
      "    Path:     /Users/delucca/.docker/cli-plugins/docker-feedback\n",
      "  init: Creates Docker-related starter files for your project (Docker Inc.)\n",
      "    Version:  v1.4.0\n",
      "    Path:     /Users/delucca/.docker/cli-plugins/docker-init\n",
      "  sbom: View the packaged-based Software Bill Of Materials (SBOM) for an image (Anchore Inc.)\n",
      "    Version:  0.6.0\n",
      "    Path:     /Users/delucca/.docker/cli-plugins/docker-sbom\n",
      "  scout: Docker Scout (Docker Inc.)\n",
      "    Version:  v1.16.1\n",
      "    Path:     /Users/delucca/.docker/cli-plugins/docker-scout\n",
      "\n",
      "Server:\n"
     ]
    },
    {
     "name": "stderr",
     "output_type": "stream",
     "text": [
      "[DEPRECATION NOTICE]: API is accessible on http://0.0.0.0:2375 without encryption.\n",
      "         Access to the remote API is equivalent to root access on the host. Refer\n",
      "         to the 'Docker daemon attack surface' section in the documentation for\n",
      "         more information: https://docs.docker.com/go/attack-surface/\n",
      "In future versions this will be a hard failure preventing the daemon from starting! Learn more at: https://docs.docker.com/go/api-security/\n",
      "\u001B[32m2025-03-02 04:04:43.150\u001B[0m | \u001B[1mINFO    \u001B[0m | \u001B[36mtools.docker\u001B[0m:\u001B[36m__wait_for_dockerd\u001B[0m:\u001B[36m78\u001B[0m - \u001B[1mDockerd inside dind is fully operational.\u001B[0m\n"
     ]
    },
    {
     "name": "stdout",
     "output_type": "stream",
     "text": [
      "Client: Docker Engine - Community\n",
      " Version:    27.3.1\n",
      " Context:    default\n",
      " Debug Mode: false\n",
      " Plugins:\n",
      "  ai: Ask Gordon - Docker Agent (Docker Inc.)\n",
      "    Version:  v0.7.3\n",
      "    Path:     /Users/delucca/.docker/cli-plugins/docker-ai\n",
      "  buildx: Docker Buildx (Docker Inc.)\n",
      "    Version:  v0.20.1-desktop.2\n",
      "    Path:     /Users/delucca/.docker/cli-plugins/docker-buildx\n",
      "  compose: Docker Compose (Docker Inc.)\n",
      "    Version:  v2.32.4-desktop.1\n",
      "    Path:     /Users/delucca/.docker/cli-plugins/docker-compose\n",
      "  debug: Get a shell into any image or container (Docker Inc.)\n",
      "    Version:  0.0.38\n",
      "    Path:     /Users/delucca/.docker/cli-plugins/docker-debug\n",
      "  desktop: Docker Desktop commands (Beta) (Docker Inc.)\n",
      "    Version:  v0.1.4\n",
      "    Path:     /Users/delucca/.docker/cli-plugins/docker-desktop\n",
      "  dev: Docker Dev Environments (Docker Inc.)\n",
      "    Version:  v0.1.2\n",
      "    Path:     /Users/delucca/.docker/cli-plugins/docker-dev\n",
      "  extension: Manages Docker extensions (Docker Inc.)\n",
      "    Version:  v0.2.27\n",
      "    Path:     /Users/delucca/.docker/cli-plugins/docker-extension\n",
      "  feedback: Provide feedback, right in your terminal! (Docker Inc.)\n",
      "    Version:  v1.0.5\n",
      "    Path:     /Users/delucca/.docker/cli-plugins/docker-feedback\n",
      "  init: Creates Docker-related starter files for your project (Docker Inc.)\n",
      "    Version:  v1.4.0\n",
      "    Path:     /Users/delucca/.docker/cli-plugins/docker-init\n",
      "  sbom: View the packaged-based Software Bill Of Materials (SBOM) for an image (Anchore Inc.)\n",
      "    Version:  0.6.0\n",
      "    Path:     /Users/delucca/.docker/cli-plugins/docker-sbom\n",
      "  scout: Docker Scout (Docker Inc.)\n",
      "    Version:  v1.16.1\n",
      "    Path:     /Users/delucca/.docker/cli-plugins/docker-scout\n",
      "\n",
      "Server:\n",
      " Containers: 0\n",
      "  Running: 0\n",
      "  Paused: 0\n",
      "  Stopped: 0\n",
      " Images: 0\n",
      " Server Version: 28.0.1\n",
      " Storage Driver: vfs\n",
      " Logging Driver: json-file\n",
      " Cgroup Driver: cgroupfs\n",
      " Cgroup Version: 2\n",
      " Plugins:\n",
      "  Volume: local\n",
      "  Network: bridge host ipvlan macvlan null overlay\n",
      "  Log: awslogs fluentd gcplogs gelf journald json-file local splunk syslog\n",
      " Swarm: inactive\n",
      " Runtimes: runc io.containerd.runc.v2\n",
      " Default Runtime: runc\n",
      " Init Binary: docker-init\n",
      " containerd version: bcc810d6b9066471b0b6fa75f557a15a1cbf31bb\n",
      " runc version: v1.2.5-0-g59923ef\n",
      " init version: de40ad0\n",
      " Security Options:\n",
      "  seccomp\n",
      "   Profile: builtin\n",
      "  cgroupns\n",
      " Kernel Version: 6.12.5-linuxkit\n",
      " Operating System: Alpine Linux v3.21 (containerized)\n",
      " OSType: linux\n",
      " Architecture: aarch64\n",
      " CPUs: 16\n",
      " Total Memory: 7.652GiB\n",
      " Name: 9d14352e15eb\n",
      " ID: 0d7133fa-f368-45d6-8983-086c536b64e6\n",
      " Docker Root Dir: /var/lib/docker\n",
      " Debug Mode: false\n",
      " Experimental: false\n",
      " Insecure Registries:\n",
      "  ::1/128\n",
      "  127.0.0.0/8\n",
      " Live Restore Enabled: false\n",
      " Product License: Community Engine\n",
      "\n"
     ]
    }
   ],
   "execution_count": 21
  },
  {
   "metadata": {},
   "cell_type": "markdown",
   "source": "Let's start by building the Docker image within the VFS client",
   "id": "16587c2748b63ca4"
  },
  {
   "metadata": {
    "ExecuteTime": {
     "end_time": "2025-03-02T07:24:11.716537Z",
     "start_time": "2025-03-02T07:23:33.732327Z"
    }
   },
   "cell_type": "code",
   "source": [
    "from loguru import logger\n",
    "\n",
    "logger.info(\"Building experiment image...\")\n",
    "experiment_image = tools.docker.build_image(EXPERIMENT_IMAGE, vfs_client)\n",
    "logger.info(\"Experiment image built successfully.\")"
   ],
   "id": "65882d6b253f2a1f",
   "outputs": [
    {
     "name": "stderr",
     "output_type": "stream",
     "text": [
      "\u001B[32m2025-03-02 04:23:33.733\u001B[0m | \u001B[1mINFO    \u001B[0m | \u001B[36m__main__\u001B[0m:\u001B[36m<module>\u001B[0m:\u001B[36m3\u001B[0m - \u001B[1mBuilding experiment image...\u001B[0m\n",
      "\u001B[32m2025-03-02 04:23:33.734\u001B[0m | \u001B[1mINFO    \u001B[0m | \u001B[36mtools.docker\u001B[0m:\u001B[36mbuild_image\u001B[0m:\u001B[36m16\u001B[0m - \u001B[1mBuilding TraceQ image...\u001B[0m\n",
      "\u001B[32m2025-03-02 04:23:41.414\u001B[0m | \u001B[1mINFO    \u001B[0m | \u001B[36mtools.docker\u001B[0m:\u001B[36mbuild_image\u001B[0m:\u001B[36m22\u001B[0m - \u001B[1mTraceQ image built.\u001B[0m\n",
      "\u001B[32m2025-03-02 04:23:41.415\u001B[0m | \u001B[1mINFO    \u001B[0m | \u001B[36mtools.docker\u001B[0m:\u001B[36mbuild_image\u001B[0m:\u001B[36m24\u001B[0m - \u001B[1mBuilding experiment image...\u001B[0m\n",
      "\u001B[32m2025-03-02 04:24:11.712\u001B[0m | \u001B[1mINFO    \u001B[0m | \u001B[36mtools.docker\u001B[0m:\u001B[36mbuild_image\u001B[0m:\u001B[36m32\u001B[0m - \u001B[1mExperiment image built.\u001B[0m\n",
      "\u001B[32m2025-03-02 04:24:11.714\u001B[0m | \u001B[1mINFO    \u001B[0m | \u001B[36m__main__\u001B[0m:\u001B[36m<module>\u001B[0m:\u001B[36m5\u001B[0m - \u001B[1mExperiment image built successfully.\u001B[0m\n"
     ]
    }
   ],
   "execution_count": 30
  },
  {
   "metadata": {},
   "cell_type": "markdown",
   "source": "With the image built, we're going to generate the test data.",
   "id": "2b4c89369b9c2848"
  },
  {
   "metadata": {
    "ExecuteTime": {
     "end_time": "2025-03-02T07:08:53.581582Z",
     "start_time": "2025-03-02T07:07:49.884124Z"
    }
   },
   "cell_type": "code",
   "source": [
    "memory_usage_log_file = f\"docker-monitor/memory-usage--data-generation.log\"\n",
    "page_faults_log_file = f\"docker-monitor/page-faults--data-generation.log\"\n",
    "\n",
    "logger.info(\"Generating test data...\")\n",
    "data_generator_container = vfs_client.containers.run(\n",
    "    image=EXPERIMENT_IMAGE,\n",
    "    auto_remove=True,\n",
    "    command=[\n",
    "        \"generate-data\",\n",
    "        \"--inlines\", INLINES,\n",
    "        \"--xlines\", XLINES,\n",
    "        \"--samples\", SAMPLES,\n",
    "        \"--output-dir\", f\"{CONTAINER_OUT_DIR}/data\"\n",
    "    ],\n",
    "    environment={\n",
    "        \"MEMORY_USAGE_LOG_FILE\": f\"{CONTAINER_OUT_DIR}/{memory_usage_log_file}\",\n",
    "        \"PAGE_FAULTS_LOG_FILE\": f\"{CONTAINER_OUT_DIR}/{page_faults_log_file}\",\n",
    "        \"PAGE_FAULTS_MONITORED_PROCESS_NAME\": \"main.py generate-data\",\n",
    "    },\n",
    "    volumes={\n",
    "        \"/mnt/out\": {\n",
    "            \"bind\": CONTAINER_OUT_DIR,\n",
    "            \"mode\": \"rw\",\n",
    "        }\n",
    "    },\n",
    ")\n",
    "logger.info(\"Finished generating test data\")"
   ],
   "id": "77940afae16df137",
   "outputs": [
    {
     "name": "stderr",
     "output_type": "stream",
     "text": [
      "\u001B[32m2025-03-02 04:07:49.885\u001B[0m | \u001B[1mINFO    \u001B[0m | \u001B[36m__main__\u001B[0m:\u001B[36m<module>\u001B[0m:\u001B[36m4\u001B[0m - \u001B[1mGenerating test data...\u001B[0m\n",
      "\u001B[32m2025-03-02 04:08:53.579\u001B[0m | \u001B[1mINFO    \u001B[0m | \u001B[36m__main__\u001B[0m:\u001B[36m<module>\u001B[0m:\u001B[36m26\u001B[0m - \u001B[1mFinished generating test data\u001B[0m\n"
     ]
    }
   ],
   "execution_count": 24
  },
  {
   "metadata": {},
   "cell_type": "markdown",
   "source": "We'll start by running the memory profiling for the envelope operator.",
   "id": "2ac8ca211013a6a7"
  },
  {
   "metadata": {
    "ExecuteTime": {
     "end_time": "2025-03-02T07:24:18.875469Z",
     "start_time": "2025-03-02T07:24:11.726836Z"
    }
   },
   "cell_type": "code",
   "source": [
    "memory_usage_log_file = f\"docker-monitor/memory-usage--experiment.log\"\n",
    "page_faults_log_file = f\"docker-monitor/page-faults--experiment.log\"\n",
    "\n",
    "logger.info(\"Launching experiment...\")\n",
    "experiment_container = vfs_client.containers.run(\n",
    "    image=EXPERIMENT_IMAGE,\n",
    "    mem_limit=\"15g\",\n",
    "    # auto_remove=True,\n",
    "    command=[\n",
    "        \"operate\",\n",
    "        \"envelope\",\n",
    "        \"--segy-path\", f\"{CONTAINER_OUT_DIR}/data/{INLINES}-{XLINES}-{SAMPLES}.segy\",\n",
    "        \"--memory-profiler\", \"psutil\",\n",
    "        \"--memory-profile-output-dir\", f\"{CONTAINER_OUT_DIR}/profiles\",\n",
    "        \"--memory-profile-session-id\", f\"{INLINES}-{XLINES}-{SAMPLES}-psutil\",\n",
    "    ],\n",
    "    environment={\n",
    "        \"MEMORY_USAGE_LOG_FILE\": f\"{CONTAINER_OUT_DIR}/{memory_usage_log_file}\",\n",
    "        \"PAGE_FAULTS_LOG_FILE\": f\"{CONTAINER_OUT_DIR}/{page_faults_log_file}\",\n",
    "        \"PAGE_FAULTS_MONITORED_PROCESS_NAME\": \"main.py operate\",\n",
    "    },\n",
    "    volumes={\n",
    "        \"/mnt/out\": {\n",
    "            \"bind\": CONTAINER_OUT_DIR,\n",
    "            \"mode\": \"rw\",\n",
    "        }\n",
    "    },\n",
    ")\n",
    "logger.info(\"Finished executing experiment\")"
   ],
   "id": "d78536a0c22d5859",
   "outputs": [
    {
     "name": "stderr",
     "output_type": "stream",
     "text": [
      "\u001B[32m2025-03-02 04:24:11.728\u001B[0m | \u001B[1mINFO    \u001B[0m | \u001B[36m__main__\u001B[0m:\u001B[36m<module>\u001B[0m:\u001B[36m4\u001B[0m - \u001B[1mLaunching experiment...\u001B[0m\n",
      "\u001B[32m2025-03-02 04:24:18.871\u001B[0m | \u001B[1mINFO    \u001B[0m | \u001B[36m__main__\u001B[0m:\u001B[36m<module>\u001B[0m:\u001B[36m29\u001B[0m - \u001B[1mFinished executing experiment\u001B[0m\n"
     ]
    }
   ],
   "execution_count": 31
  },
  {
   "metadata": {
    "ExecuteTime": {
     "end_time": "2025-03-02T07:25:02.151063Z",
     "start_time": "2025-03-02T07:25:02.137972Z"
    }
   },
   "cell_type": "code",
   "source": [
    "import importlib\n",
    "import tools.monitor\n",
    "\n",
    "importlib.reload(tools.monitor)\n",
    "\n",
    "memory_usage_df = tools.monitor.memory_usage_log_to_df(\n",
    "    f\"../{RELATIVE_OUT_DIR}/docker-monitor/memory-usage--experiment.log\",\n",
    ")\n",
    "\n",
    "memory_usage_df.head()"
   ],
   "id": "d12845f4ef87a219",
   "outputs": [
    {
     "name": "stderr",
     "output_type": "stream",
     "text": [
      "\u001B[32m2025-03-02 04:25:02.140\u001B[0m | \u001B[1mINFO    \u001B[0m | \u001B[36mtools.monitor\u001B[0m:\u001B[36mmemory_usage_log_to_df\u001B[0m:\u001B[36m8\u001B[0m - \u001B[1mReading memory usage log) file: ../out/03-memory-profiling-20250302035556/docker-monitor/memory-usage--experiment.log\u001B[0m\n"
     ]
    },
    {
     "data": {
      "text/plain": [
       "                 timestamp  memory_usage_kb\n",
       "0  2025-03-02 07:24:14.059            26712\n",
       "1  2025-03-02 07:24:14.264            46800\n",
       "2  2025-03-02 07:24:14.469            65236\n",
       "3  2025-03-02 07:24:14.678            85296\n",
       "4  2025-03-02 07:24:14.883           230704"
      ],
      "text/html": [
       "<div>\n",
       "<style scoped>\n",
       "    .dataframe tbody tr th:only-of-type {\n",
       "        vertical-align: middle;\n",
       "    }\n",
       "\n",
       "    .dataframe tbody tr th {\n",
       "        vertical-align: top;\n",
       "    }\n",
       "\n",
       "    .dataframe thead th {\n",
       "        text-align: right;\n",
       "    }\n",
       "</style>\n",
       "<table border=\"1\" class=\"dataframe\">\n",
       "  <thead>\n",
       "    <tr style=\"text-align: right;\">\n",
       "      <th></th>\n",
       "      <th>timestamp</th>\n",
       "      <th>memory_usage_kb</th>\n",
       "    </tr>\n",
       "  </thead>\n",
       "  <tbody>\n",
       "    <tr>\n",
       "      <th>0</th>\n",
       "      <td>2025-03-02 07:24:14.059</td>\n",
       "      <td>26712</td>\n",
       "    </tr>\n",
       "    <tr>\n",
       "      <th>1</th>\n",
       "      <td>2025-03-02 07:24:14.264</td>\n",
       "      <td>46800</td>\n",
       "    </tr>\n",
       "    <tr>\n",
       "      <th>2</th>\n",
       "      <td>2025-03-02 07:24:14.469</td>\n",
       "      <td>65236</td>\n",
       "    </tr>\n",
       "    <tr>\n",
       "      <th>3</th>\n",
       "      <td>2025-03-02 07:24:14.678</td>\n",
       "      <td>85296</td>\n",
       "    </tr>\n",
       "    <tr>\n",
       "      <th>4</th>\n",
       "      <td>2025-03-02 07:24:14.883</td>\n",
       "      <td>230704</td>\n",
       "    </tr>\n",
       "  </tbody>\n",
       "</table>\n",
       "</div>"
      ]
     },
     "execution_count": 33,
     "metadata": {},
     "output_type": "execute_result"
    }
   ],
   "execution_count": 33
  },
  {
   "metadata": {
    "ExecuteTime": {
     "end_time": "2025-03-02T07:25:14.087806Z",
     "start_time": "2025-03-02T07:25:14.085158Z"
    }
   },
   "cell_type": "code",
   "source": [
    "import tools.conversions\n",
    "\n",
    "importlib.reload(tools.conversions)\n",
    "\n",
    "peak_memory_usage = tools.conversions.kb_to_gb(\n",
    "    memory_usage_df[\"memory_usage_kb\"].max()\n",
    ")\n",
    "\n",
    "logger.info(\"Peak memory usage from Docker monitor: {} GB\".format(peak_memory_usage))"
   ],
   "id": "803c750060483e27",
   "outputs": [
    {
     "name": "stderr",
     "output_type": "stream",
     "text": [
      "\u001B[32m2025-03-02 04:25:14.086\u001B[0m | \u001B[1mINFO    \u001B[0m | \u001B[36m__main__\u001B[0m:\u001B[36m<module>\u001B[0m:\u001B[36m9\u001B[0m - \u001B[1mPeak memory usage from Docker monitor: 4.890464782714844 GB\u001B[0m\n"
     ]
    }
   ],
   "execution_count": 35
  },
  {
   "metadata": {
    "ExecuteTime": {
     "end_time": "2025-03-02T07:31:23.677712Z",
     "start_time": "2025-03-02T07:31:23.672968Z"
    }
   },
   "cell_type": "code",
   "source": [
    "from traceq import load_profile\n",
    "import tools.conversions\n",
    "\n",
    "importlib.reload(tools.conversions)\n",
    "\n",
    "psutil_profile = load_profile(f\"../{RELATIVE_OUT_DIR}/profiles/{INLINES}-{XLINES}-{SAMPLES}-psutil.prof\")\n",
    "psutil_peak_memory_usage = tools.conversions.b_to_gb(\n",
    "    max(entry[\"psutil_memory_usage\"] for entry in psutil_profile[\"experiment\"]))\n",
    "\n",
    "logger.info(f\"Peak memory usage from psutil profile: {psutil_peak_memory_usage} GB\")"
   ],
   "id": "a24b69efe5544d90",
   "outputs": [
    {
     "name": "stdout",
     "output_type": "stream",
     "text": [
      "\u001B[32m2025-03-02 04:31:23.675\u001B[0m | \u001B[1mINFO    \u001B[0m | \u001B[36m__main__\u001B[0m:\u001B[36m<module>\u001B[0m:\u001B[36m10\u001B[0m - \u001B[1mPeak memory usage from psutil profile: 5.185768127441406 GB\u001B[0m\n"
     ]
    }
   ],
   "execution_count": 43
  },
  {
   "metadata": {},
   "cell_type": "markdown",
   "source": [
    "# Summary of Findings\n",
    "\n",
    "TODO"
   ],
   "id": "9423c55da9400a51"
  }
 ],
 "metadata": {
  "kernelspec": {
   "display_name": "Python 3",
   "language": "python",
   "name": "python3"
  },
  "language_info": {
   "codemirror_mode": {
    "name": "ipython",
    "version": 2
   },
   "file_extension": ".py",
   "mimetype": "text/x-python",
   "name": "python",
   "nbconvert_exporter": "python",
   "pygments_lexer": "ipython2",
   "version": "2.7.6"
  }
 },
 "nbformat": 4,
 "nbformat_minor": 5
}
