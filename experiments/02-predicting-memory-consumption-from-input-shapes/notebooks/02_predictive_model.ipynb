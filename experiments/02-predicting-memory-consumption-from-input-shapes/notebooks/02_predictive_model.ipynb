{
 "cells": [
  {
   "metadata": {},
   "cell_type": "markdown",
   "source": "# Predictive Model",
   "id": "a4bf3f0b46c09a10"
  },
  {
   "metadata": {},
   "cell_type": "markdown",
   "source": [
    "## Introduction\n",
    "\n",
    "This notebook builds on the findings from the [memory profiling experiment](./01_memory_profile.ipynb) and explores how to develop predictive models for estimating the memory consumption of Python programs based on input features.\n",
    "While the primary focus is on seismic operators, the methodology and insights may be applicable to other types of programs as well.\n",
    "\n",
    "**Objectives:**\n",
    "- Analyze the relationship between various input features and memory consumption.\n",
    "- Develop a predictive model to estimate memory usage based on input characteristics.\n",
    "- Validate the model using both synthetic and real-world data.\n",
    "\n",
    "By leveraging these insights, we aim to create a robust approach for forecasting memory requirements, improving efficiency, and optimizing resource allocation in computational workflows."
   ],
   "id": "511cd5e2eff1c72a"
  },
  {
   "metadata": {},
   "cell_type": "markdown",
   "source": [
    "## Limitations\n",
    "\n",
    "The findings presented in this notebook, and the experiment as a whole, primarily apply to tensor-based algorithms.\n",
    "Since most seismic operators rely on tensor operations, their memory usage typically scales independently of the data itself.\n",
    "\n",
    "While these insights may be applicable to general Python algorithms, they should be applied with caution, as non-tensorial computations may exhibit different memory usage patterns."
   ],
   "id": "b11087592dd2bbf4"
  },
  {
   "metadata": {},
   "cell_type": "markdown",
   "source": "## Experiment Setup",
   "id": "c89b6ca68a36bbfb"
  },
  {
   "metadata": {},
   "cell_type": "markdown",
   "source": "## Methodology",
   "id": "bde5dff1cf81e197"
  },
  {
   "metadata": {},
   "cell_type": "markdown",
   "source": "## Memory Profiling Results",
   "id": "145c3a0c170056e4"
  },
  {
   "metadata": {},
   "cell_type": "markdown",
   "source": "## Findings",
   "id": "38614893d9caca03"
  },
  {
   "metadata": {},
   "cell_type": "markdown",
   "source": "## Next Steps",
   "id": "1d396861a3cca4b4"
  }
 ],
 "metadata": {
  "kernelspec": {
   "display_name": "Python 3",
   "language": "python",
   "name": "python3"
  },
  "language_info": {
   "codemirror_mode": {
    "name": "ipython",
    "version": 2
   },
   "file_extension": ".py",
   "mimetype": "text/x-python",
   "name": "python",
   "nbconvert_exporter": "python",
   "pygments_lexer": "ipython2",
   "version": "2.7.6"
  }
 },
 "nbformat": 4,
 "nbformat_minor": 5
}
